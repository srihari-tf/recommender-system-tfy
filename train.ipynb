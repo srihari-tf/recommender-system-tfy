{
  "cells": [
    {
      "cell_type": "code",
      "execution_count": null,
      "metadata": {
        "id": "uj3MPYSuWPz5"
      },
      "outputs": [],
      "source": [
        "!rm -rf sample_data/"
      ]
    },
    {
      "cell_type": "markdown",
      "metadata": {
        "id": "EXhZSWwfoNPz"
      },
      "source": [
        "## Install libraries"
      ]
    },
    {
      "cell_type": "code",
      "execution_count": null,
      "metadata": {
        "colab": {
          "base_uri": "https://localhost:8080/"
        },
        "id": "dd4dyaYzeh4V",
        "outputId": "a0bf887e-4d04-4a4f-dd9d-3f6c367d0c3f"
      },
      "outputs": [],
      "source": [
        "!pip install -U --quiet mlfoundry\n",
        "!pip install -U --quiet servicefoundry==0.1.69"
      ]
    },
    {
      "cell_type": "markdown",
      "metadata": {
        "id": "8HxrOIwMoUzn"
      },
      "source": [
        "## Load datasets"
      ]
    },
    {
      "cell_type": "code",
      "execution_count": null,
      "metadata": {
        "colab": {
          "base_uri": "https://localhost:8080/"
        },
        "id": "k2pTfPnUD7Nm",
        "outputId": "e50d5edb-4ee8-4cc9-e7c5-4fcea61e211e"
      },
      "outputs": [],
      "source": [
        "# load our datasets as dataframes\n",
        "import pandas as pd\n",
        "\n",
        "movie_meta_df = pd.read_csv('https://raw.githubusercontent.com/srihari-tf/recommender-system-tfy/master/movies_metadata.csv')\n",
        "keywords_df = pd.read_csv('https://raw.githubusercontent.com/srihari-tf/recommender-system-tfy/master/keywords.csv')\n",
        "ratings_df = pd.read_csv(\"https://raw.githubusercontent.com/srihari-tf/recommender-system-tfy/master/ratings_small.csv\")\n",
        "\n",
        "movie_meta_df = movie_meta_df[movie_meta_df['id'].isin(ratings_df['movieId'].astype('string'))]"
      ]
    },
    {
      "cell_type": "code",
      "execution_count": null,
      "metadata": {
        "colab": {
          "base_uri": "https://localhost:8080/"
        },
        "id": "z_deReVjl5Nn",
        "outputId": "5935e482-277c-4430-9d48-2ef43ce7ff5f"
      },
      "outputs": [],
      "source": [
        "!curl -O https://raw.githubusercontent.com/srihari-tf/recommender-system-tfy/master/movies_metadata.csv\n",
        "!curl -O https://raw.githubusercontent.com/srihari-tf/recommender-system-tfy/master/ratings_small.csv"
      ]
    },
    {
      "cell_type": "markdown",
      "metadata": {
        "id": "oJx5r1C2oZy_"
      },
      "source": [
        "## Clean dataset"
      ]
    },
    {
      "cell_type": "code",
      "execution_count": null,
      "metadata": {
        "id": "AKBZZNjwMPG7"
      },
      "outputs": [],
      "source": [
        "meta_df = movie_meta_df.copy()\n",
        "meta_df.drop(['belongs_to_collection', 'homepage', 'tagline', 'poster_path', 'overview', 'imdb_id', 'spoken_languages'], inplace=True, axis=1)\n",
        "meta_df.dropna(inplace=True)"
      ]
    },
    {
      "cell_type": "code",
      "execution_count": null,
      "metadata": {
        "id": "_ukLxy4TMReV"
      },
      "outputs": [],
      "source": [
        "import ast\n",
        "\n",
        "column_changes = ['production_companies', 'production_countries', 'genres']\n",
        "json_shrinker_dict = dict({'production_companies': list(), 'production_countries': list(), 'genres': list()})\n",
        "\n",
        "for col in column_changes:\n",
        "    if col == 'production_companies':\n",
        "        for i in meta_df[col]:\n",
        "            i = ast.literal_eval(i)\n",
        "            if len(i) < 1:\n",
        "                json_shrinker_dict['production_companies'].append(None)\n",
        "\n",
        "            for element in i:\n",
        "                json_shrinker_dict['production_companies'].append(element['name'])\n",
        "                break\n",
        "    elif col == 'production_countries':\n",
        "        for i in meta_df[col]:\n",
        "            i = ast.literal_eval(i)\n",
        "            if len(i) < 1:\n",
        "                json_shrinker_dict['production_countries'].append(None)\n",
        "            for element in i:\n",
        "                json_shrinker_dict['production_countries'].append(element['iso_3166_1'])\n",
        "                break\n",
        "    else:\n",
        "        for i in meta_df[col]:\n",
        "            i = ast.literal_eval(i)\n",
        "            if len(i) < 1:\n",
        "                json_shrinker_dict['genres'].append(None)\n",
        "\n",
        "            for element in i:\n",
        "                json_shrinker_dict['genres'].append(element['name'])\n",
        "                break"
      ]
    },
    {
      "cell_type": "code",
      "execution_count": null,
      "metadata": {
        "colab": {
          "base_uri": "https://localhost:8080/",
          "height": 305
        },
        "id": "jp81ahBlMhzY",
        "outputId": "b1dd471c-747b-4c7d-fd15-32421a486719"
      },
      "outputs": [],
      "source": [
        "for i in column_changes:\n",
        "    meta_df[i] = json_shrinker_dict[i]\n",
        "\n",
        "meta_df.dropna(inplace=True)\n",
        "meta_df.head()"
      ]
    },
    {
      "cell_type": "markdown",
      "metadata": {
        "id": "NotORjT2odLq"
      },
      "source": [
        "## Scale features for clustering"
      ]
    },
    {
      "cell_type": "code",
      "execution_count": null,
      "metadata": {
        "id": "XwYl1YGmM9Ki"
      },
      "outputs": [],
      "source": [
        "from sklearn.preprocessing import MinMaxScaler\n",
        "\n",
        "scalar = MinMaxScaler()\n",
        "scaled_df = meta_df[['budget', 'popularity', 'revenue', 'runtime', 'vote_average', 'vote_count']]\n",
        "scaled = scalar.fit_transform(meta_df[['budget', 'popularity', 'revenue', 'runtime', 'vote_average', 'vote_count']])\n",
        "scaled_df = pd.DataFrame(scaled, index=scaled_df.index, columns=scaled_df.columns)\n"
      ]
    },
    {
      "cell_type": "markdown",
      "metadata": {
        "id": "AGFcXHz8ofH2"
      },
      "source": [
        "## Set up MLFoundry to log params and metrics"
      ]
    },
    {
      "cell_type": "code",
      "execution_count": null,
      "metadata": {
        "colab": {
          "base_uri": "https://localhost:8080/"
        },
        "id": "CdxaEHw9k4sC",
        "outputId": "fcb4bcbd-2691-40f8-896b-bc1389f91f69"
      },
      "outputs": [],
      "source": [
        "import mlfoundry\n",
        "\n",
        "mlfoundry.login()\n",
        "client = mlfoundry.get_client()\n",
        "MLF_PROJECT_NAME= \"movie-clustering-aug-12\""
      ]
    },
    {
      "cell_type": "markdown",
      "metadata": {
        "id": "nkgTYfl2oir2"
      },
      "source": [
        "## Find optimal number of clusters and log to MLFoundry"
      ]
    },
    {
      "cell_type": "code",
      "execution_count": null,
      "metadata": {
        "colab": {
          "base_uri": "https://localhost:8080/",
          "height": 1000
        },
        "id": "1qM4TG8kNRLA",
        "outputId": "405ee7dd-f2e9-4a8d-bf7f-649dd4e227fe"
      },
      "outputs": [],
      "source": [
        "from sklearn.cluster import KMeans\n",
        "from sklearn.metrics import silhouette_score\n",
        "import matplotlib.pyplot as plt\n",
        "\n",
        "clustering_df = scaled_df[['budget', 'popularity', 'revenue', 'runtime', 'vote_average', 'vote_count']]\n",
        "\n",
        "cluster_sizes = [5, 10, 15, 20, 25]\n",
        "scores = []\n",
        "for index, num_cluster in enumerate(cluster_sizes):\n",
        "    run = client.create_run(project_name=MLF_PROJECT_NAME, run_name=f\"num-clusters-{num_cluster}\")\n",
        "    cluster_fit = KMeans(n_clusters=num_cluster, random_state=0).fit(clustering_df)\n",
        "    score = silhouette_score(clustering_df, cluster_fit.labels_, metric='euclidean', sample_size=None, random_state=None)\n",
        "    run.log_params({'num_clusters': num_cluster, 'centers': cluster_fit.cluster_centers_})\n",
        "    run.log_metrics({'silhouette_score': score})\n",
        "    scores.append(score)\n",
        "    plt.plot(cluster_sizes[:index+1], scores)\n",
        "    run.log_plots({'cluster_vs_score': plt})"
      ]
    },
    {
      "cell_type": "markdown",
      "metadata": {
        "id": "HwwfkcS4orLE"
      },
      "source": [
        "## Apply KMeans using optimal number of clusters"
      ]
    },
    {
      "cell_type": "code",
      "execution_count": null,
      "metadata": {
        "colab": {
          "base_uri": "https://localhost:8080/",
          "height": 424
        },
        "id": "quDK1d1aeRWp",
        "outputId": "d7230f7c-e221-45e9-c009-2d466b2187d5"
      },
      "outputs": [],
      "source": [
        "def apply_kmeans(df, clusters):\n",
        "    kmeans = KMeans(n_clusters=clusters, random_state=0)\n",
        "    cluster_labels = kmeans.fit(df).labels_\n",
        "    string_labels = [\"c{}\".format(i) for i in cluster_labels]\n",
        "    df['cluster_label'] = cluster_labels\n",
        "    df['cluster_string'] = string_labels\n",
        "\n",
        "    return df\n",
        "\n",
        "apply_kmeans(scaled_df, 15)"
      ]
    },
    {
      "cell_type": "code",
      "execution_count": null,
      "metadata": {
        "id": "3w22I5HuMfhc"
      },
      "outputs": [],
      "source": [
        "movie_desc_df = movie_meta_df.copy()\n",
        "movie_desc_df = movie_desc_df[['overview', 'original_title', 'id']]\n",
        "movie_desc_df['overview'] = movie_desc_df['overview'].fillna('')"
      ]
    },
    {
      "cell_type": "code",
      "execution_count": null,
      "metadata": {
        "colab": {
          "base_uri": "https://localhost:8080/"
        },
        "id": "MIPfx_jVMsWi",
        "outputId": "569bc2e8-e0d3-46dd-b1af-583e29d86f40"
      },
      "outputs": [],
      "source": [
        "from absl import logging\n",
        "\n",
        "import tensorflow as tf\n",
        "\n",
        "import tensorflow_hub as hub\n",
        "import matplotlib.pyplot as plt\n",
        "import numpy as np\n",
        "import os\n",
        "import pandas as pd\n",
        "import re\n",
        "import seaborn as sns\n",
        "\n",
        "module_url = \"https://tfhub.dev/google/universal-sentence-encoder/4\"\n",
        "model = hub.load(module_url)\n",
        "print (\"module %s loaded\" % module_url)\n",
        "def embed(input):\n",
        "  return model(input)"
      ]
    },
    {
      "cell_type": "code",
      "execution_count": null,
      "metadata": {
        "id": "NZDmQQCCRBDp"
      },
      "outputs": [],
      "source": [
        "embeddings_df = pd.DataFrame(embed((movie_desc_df['overview'])).numpy())"
      ]
    },
    {
      "cell_type": "code",
      "execution_count": null,
      "metadata": {
        "colab": {
          "base_uri": "https://localhost:8080/"
        },
        "id": "ecMToRsMZ4Kl",
        "outputId": "32515e76-7b66-4b9d-a9b7-531d339ea2ea"
      },
      "outputs": [],
      "source": [
        "embeddings_df.index = movie_desc_df.index\n",
        "\n",
        "run = client.create_run(project_name=MLF_PROJECT_NAME, run_name=f\"embeddings\")\n",
        "cluster_fit = KMeans(n_clusters=15, random_state=0).fit(embeddings_df)\n",
        "score = silhouette_score(embeddings_df, cluster_fit.labels_, metric='euclidean', sample_size=None, random_state=None)\n",
        "run.log_metrics({'silhouette_score': score})"
      ]
    },
    {
      "cell_type": "markdown",
      "metadata": {
        "id": "f42wGSpeowcg"
      },
      "source": [
        "## Train a collaborative filtering model using `implicit`"
      ]
    },
    {
      "cell_type": "code",
      "execution_count": null,
      "metadata": {
        "id": "UPnRgMoUfhMz"
      },
      "outputs": [],
      "source": [
        "ratings_df['movieId'] = ratings_df['movieId'].astype(\"category\")\n",
        "ratings_df['userId'] = ratings_df['userId'].astype(\"category\")"
      ]
    },
    {
      "cell_type": "code",
      "execution_count": null,
      "metadata": {
        "colab": {
          "base_uri": "https://localhost:8080/"
        },
        "id": "2s1XQdWZWhBm",
        "outputId": "2f21e257-5c85-4d6c-a397-cd2c67d0f99e"
      },
      "outputs": [],
      "source": [
        "!pip install implicit"
      ]
    },
    {
      "cell_type": "code",
      "execution_count": null,
      "metadata": {
        "id": "XtLum0A-Xxpq"
      },
      "outputs": [],
      "source": [
        "from scipy.sparse import coo_matrix\n",
        "import implicit"
      ]
    },
    {
      "cell_type": "code",
      "execution_count": null,
      "metadata": {
        "id": "dDJrdKFgX0jZ"
      },
      "outputs": [],
      "source": [
        "r = coo_matrix((ratings_df['rating'], (ratings_df['userId'].cat.codes, ratings_df['movieId'].cat.codes)))"
      ]
    },
    {
      "cell_type": "code",
      "execution_count": null,
      "metadata": {
        "colab": {
          "base_uri": "https://localhost:8080/",
          "height": 105,
          "referenced_widgets": [
            "469b7b6d0e3e432c94f8dcc4167af841",
            "de1de3d64f944fd6b2b9fb6efd486352",
            "7891c57a2e2b496597b4c49ce6f7033b",
            "3bb906b45640460eb466dfbdfd6c1e19",
            "3f9e8e2953fc4a608b4eb3f2c6fc52b6",
            "c452bb9fe3bd4d6b856179f6f1bb117b",
            "d31b9fe625f74bd38a6a97d731c51024",
            "e74089511fb14c38b8da222b05616b39",
            "653d65867b554b00ab680aadcf4e5596",
            "37bbd5bce2614708a4bfcca4af376b92",
            "0ad40fe61bd54b9c8be8208c1b00f578"
          ]
        },
        "id": "UtPRn8qDXZE-",
        "outputId": "765b9381-9799-4ac1-b0ac-5b55853b7b61"
      },
      "outputs": [],
      "source": [
        "import implicit\n",
        "\n",
        "model = implicit.als.AlternatingLeastSquares(factors=25)\n",
        "model.fit(r)"
      ]
    },
    {
      "cell_type": "code",
      "execution_count": null,
      "metadata": {
        "id": "3Z97WQCshYGQ"
      },
      "outputs": [],
      "source": [
        "user_category_to_code = dict([(category, code) for code, category in enumerate(ratings_df.userId.cat.categories)])\n",
        "\n",
        "def get_movie_names_from_movie_category_codes(movie_cat_codes):\n",
        "  ids = [ratings_df['movieId'].cat.categories[i] for i in movie_cat_codes]\n",
        "  return list(movie_meta_df.loc[movie_meta_df['id'].isin([str(id) for id in ids])].original_title)\n",
        "\n",
        "def get_recommendation_for_user(user_id):\n",
        "  user_cat_code = user_category_to_code[user_id]\n",
        "  return get_movie_names_from_movie_category_codes(model.recommend(user_cat_code, r.tocsr().getrow(user_cat_code))[0])\n",
        "  "
      ]
    },
    {
      "cell_type": "code",
      "execution_count": null,
      "metadata": {
        "colab": {
          "base_uri": "https://localhost:8080/"
        },
        "id": "ylEsp_8H-5ID",
        "outputId": "781c02f5-4a3a-4f26-c67d-d632fb38d7dc"
      },
      "outputs": [],
      "source": [
        "get_recommendation_for_user(11)"
      ]
    },
    {
      "cell_type": "markdown",
      "metadata": {
        "id": "Yb2cqnnlo1WU"
      },
      "source": [
        "## Save the model and log it to MLFoundry"
      ]
    },
    {
      "cell_type": "code",
      "execution_count": null,
      "metadata": {
        "id": "1Ft6zEaXIhom"
      },
      "outputs": [],
      "source": [
        "model.save('recommendation-model')"
      ]
    },
    {
      "cell_type": "code",
      "execution_count": null,
      "metadata": {
        "colab": {
          "base_uri": "https://localhost:8080/"
        },
        "id": "45swTVIyKdcl",
        "outputId": "fbd179c9-2501-4d86-ed19-3584b6892775"
      },
      "outputs": [],
      "source": [
        "run = client.create_run(project_name=MLF_PROJECT_NAME, run_name=f\"cf-model\")\n",
        "run.log_artifact('/content/recommendation-model.npz')\n",
        "run.log_artifact('/content/ratings_small.csv')\n",
        "run.log_artifact('/content/movies_metadata.csv')"
      ]
    },
    {
      "cell_type": "code",
      "execution_count": null,
      "metadata": {
        "colab": {
          "base_uri": "https://localhost:8080/"
        },
        "id": "JVUR2ewfVAY1",
        "outputId": "22d8ec05-6aac-4a3f-f793-49410606eb27"
      },
      "outputs": [],
      "source": [
        "client = mlfoundry.get_client(api_key='djE6dHJ1ZWZvdW5kcnk6dXNlci10cnVlZm91bmRyeTo0ZDlkM2M=')\n",
        "run = client.get_run('truefoundry/user-truefoundry/movie-clustering-aug-12/cf-model')\n",
        "\n",
        "movies_local_path = run.download_artifact('movies_metadata.csv')\n",
        "ratings_local_path = run.download_artifact('ratings_small.csv')\n",
        "\n",
        "movie_meta_df = pd.read_csv(movies_local_path)\n",
        "ratings_df = pd.read_csv(ratings_local_path)"
      ]
    },
    {
      "cell_type": "code",
      "execution_count": null,
      "metadata": {
        "id": "t9TGePtZWDNE"
      },
      "outputs": [],
      "source": [
        "# only keep movies in ratings dataset\n",
        "movie_meta_df = movie_meta_df[movie_meta_df['id'].isin(ratings_df['movieId'].astype('string'))]\n",
        "\n",
        "ratings_df['movieId'] = ratings_df['movieId'].astype(\"category\")\n",
        "ratings_df['userId'] = ratings_df['userId'].astype(\"category\")\n",
        "r = coo_matrix((ratings_df['rating'], (ratings_df['userId'].cat.codes, ratings_df['movieId'].cat.codes)))\n",
        "\n",
        "user_category_to_code = dict([(category, code) for code, category in enumerate(ratings_df.userId.cat.categories)])\n",
        "movie_category_to_code = dict([(category, code) for code, category in enumerate(ratings_df.movieId.cat.categories)])\n",
        "\n",
        "model_local_path = run.download_artifact('recommendation-model.npz')\n",
        "model = implicit.als.AlternatingLeastSquares(factors=25).load(model_local_path)\n",
        "\n",
        "def search_movie(name):\n",
        "  return (movie_meta_df.loc[movie_meta_df['original_title'].str.contains(name, case=False)][['original_title', 'id']]).to_dict('records')\n",
        "\n",
        "def find_similar_movie(movie_name):\n",
        "  search_result =search_movie(movie_name)\n",
        "  if len(search_result) > 0:\n",
        "    movie_id = search_result[0]['id']\n",
        "    movie_name = search_result[0]['original_title']\n",
        "  else:\n",
        "    return []\n",
        "  movie_cat_code = movie_category_to_code[int(movie_id)]\n",
        "  movie_cat_codes = model.similar_items(movie_cat_code)[0]\n",
        "  ids = [ratings_df['movieId'].cat.categories[i] for i in movie_cat_codes]\n",
        "  return movie_name, list(movie_meta_df.loc[movie_meta_df['id'].isin([str(id) for id in ids])].original_title)\n",
        " \n",
        "def get_movie_names_from_movie_category_codes(movie_cat_codes):\n",
        "  ids = [ratings_df['movieId'].cat.categories[i] for i in movie_cat_codes]\n",
        "  return list(movie_meta_df.loc[movie_meta_df['id'].isin([str(id) for id in ids])].original_title)\n",
        "\n",
        "def get_recommendation_for_user(user_id):\n",
        "  user_cat_code = user_category_to_code[int(user_id)]\n",
        "  movie_cat_codes = model.recommend(user_cat_code, r.tocsr().getrow(user_cat_code))[0]\n",
        "  ids = [ratings_df['movieId'].cat.categories[i] for i in movie_cat_codes]\n",
        "  return list(movie_meta_df.loc[movie_meta_df['id'].isin([str(id) for id in ids])].original_title)"
      ]
    },
    {
      "cell_type": "code",
      "execution_count": null,
      "metadata": {
        "id": "usdCFUNuWYg2"
      },
      "outputs": [],
      "source": [
        "def get_recommendation_for_user_given_movie(user_id, movie_name):\n",
        "  search_result =search_movie(movie_name)\n",
        "  if len(search_result) > 0:\n",
        "    movie_id = search_result[0]['id']\n",
        "    movie_name = search_result[0]['original_title']\n",
        "  else:\n",
        "    return []\n",
        "  movie_cat_code = movie_category_to_code[int(movie_id)]\n",
        "  print(movie_cat_code)\n",
        "  user_cat_code = user_category_to_code[int(user_id)]\n",
        "  movie_cat_codes = model.rank_items(user_cat_code, r.tocsr().getrow(user_cat_code), model.similar_items(movie_cat_code)[0])[0]\n",
        "  ids = [ratings_df['movieId'].cat.categories[i] for i in movie_cat_codes]\n",
        "  return list(movie_meta_df.loc[movie_meta_df['id'].isin([str(id) for id in ids])].original_title)"
      ]
    },
    {
      "cell_type": "code",
      "execution_count": null,
      "metadata": {
        "colab": {
          "base_uri": "https://localhost:8080/"
        },
        "id": "qfbg4NGVXfdA",
        "outputId": "19f0a411-3432-4d78-b608-8aa35d7e2bc4"
      },
      "outputs": [],
      "source": [
        "get_recommendation_for_user_given_movie(10, 'Shawshank Redemption')"
      ]
    },
    {
      "cell_type": "markdown",
      "metadata": {
        "id": "yZtmgqiHo6CP"
      },
      "source": [
        "## Deploy the app using ServiceFoundry"
      ]
    },
    {
      "cell_type": "code",
      "execution_count": null,
      "metadata": {
        "colab": {
          "base_uri": "https://localhost:8080/"
        },
        "id": "ZqBny_fACYpp",
        "outputId": "98ea333e-7021-47c4-eb4a-73d5239c1cde"
      },
      "outputs": [],
      "source": [
        "import servicefoundry.core as sfy\n",
        "sfy.login()"
      ]
    },
    {
      "cell_type": "code",
      "execution_count": null,
      "metadata": {
        "colab": {
          "base_uri": "https://localhost:8080/"
        },
        "id": "A8yf7qzCHHlr",
        "outputId": "23892b39-bb0b-4b7b-c852-f0d0b59ca1b3"
      },
      "outputs": [],
      "source": [
        "%%writefile predict.py\n",
        "import mlfoundry\n",
        "import pandas as pd\n",
        "from scipy.sparse import coo_matrix\n",
        "import implicit\n",
        "\n",
        "client = mlfoundry.get_client(api_key='djE6dHJ1ZWZvdW5kcnk6dXNlci10cnVlZm91bmRyeTo0ZDlkM2M=')\n",
        "run = client.get_run('truefoundry/user-truefoundry/movie-clustering-aug-12/cf-model')\n",
        "\n",
        "movies_local_path = run.download_artifact('movies_metadata.csv')\n",
        "ratings_local_path = run.download_artifact('ratings_small.csv')\n",
        "\n",
        "movie_meta_df = pd.read_csv(movies_local_path)\n",
        "ratings_df = pd.read_csv(ratings_local_path)\n",
        "\n",
        "# only keep movies in ratings dataset\n",
        "movie_meta_df = movie_meta_df[movie_meta_df['id'].isin(ratings_df['movieId'].astype('string'))]\n",
        "\n",
        "ratings_df['movieId'] = ratings_df['movieId'].astype(\"category\")\n",
        "ratings_df['userId'] = ratings_df['userId'].astype(\"category\")\n",
        "r = coo_matrix((ratings_df['rating'], (ratings_df['userId'].cat.codes, ratings_df['movieId'].cat.codes)))\n",
        "\n",
        "user_category_to_code = dict([(category, code) for code, category in enumerate(ratings_df.userId.cat.categories)])\n",
        "movie_category_to_code = dict([(category, code) for code, category in enumerate(ratings_df.movieId.cat.categories)])\n",
        "\n",
        "model_local_path = run.download_artifact('recommendation-model.npz')\n",
        "model = implicit.als.AlternatingLeastSquares(factors=25).load(model_local_path)\n",
        "\n",
        "def search_movie(name):\n",
        "  return (movie_meta_df.loc[movie_meta_df['original_title'].str.contains(name, case=False)][['original_title', 'id']]).to_dict('records')\n",
        "\n",
        "def find_similar_movie(movie_name):\n",
        "  search_result =search_movie(movie_name)\n",
        "  if len(search_result) > 0:\n",
        "    movie_id = search_result[0]['id']\n",
        "    movie_name = search_result[0]['original_title']\n",
        "  else:\n",
        "    return []\n",
        "  movie_cat_code = movie_category_to_code[int(movie_id)]\n",
        "  movie_cat_codes = model.similar_items(movie_cat_code)[0]\n",
        "  ids = [ratings_df['movieId'].cat.categories[i] for i in movie_cat_codes]\n",
        "  return movie_name, list(movie_meta_df.loc[movie_meta_df['id'].isin([str(id) for id in ids])].original_title)\n",
        " \n",
        "def get_movie_names_from_movie_category_codes(movie_cat_codes):\n",
        "  ids = [ratings_df['movieId'].cat.categories[i] for i in movie_cat_codes]\n",
        "  return list(movie_meta_df.loc[movie_meta_df['id'].isin([str(id) for id in ids])].original_title)\n",
        "\n",
        "def get_recommendation_for_user(user_id):\n",
        "  user_cat_code = user_category_to_code[int(user_id)]\n",
        "  movie_cat_codes = model.recommend(user_cat_code, r.tocsr().getrow(user_cat_code))[0]\n",
        "  ids = [ratings_df['movieId'].cat.categories[i] for i in movie_cat_codes]\n",
        "  return list(movie_meta_df.loc[movie_meta_df['id'].isin([str(id) for id in ids])].original_title)\n",
        "\n",
        "def get_similar_movies_for_user(user_id, movie_name):\n",
        "  search_result =search_movie(movie_name)\n",
        "  if len(search_result) > 0:\n",
        "    movie_id = search_result[0]['id']\n",
        "    movie_name = search_result[0]['original_title']\n",
        "  else:\n",
        "    return []\n",
        "  movie_cat_code = movie_category_to_code[int(movie_id)]\n",
        "  user_cat_code = user_category_to_code[int(user_id)]\n",
        "  movie_cat_codes = model.rank_items(user_cat_code, r.tocsr().getrow(user_cat_code), model.similar_items(movie_cat_code)[0])[0]\n",
        "  ids = [ratings_df['movieId'].cat.categories[i] for i in movie_cat_codes]\n",
        "  return list(movie_meta_df.loc[movie_meta_df['id'].isin([str(id) for id in ids])].original_title)"
      ]
    },
    {
      "cell_type": "code",
      "execution_count": null,
      "metadata": {
        "id": "7yJkZd7YQuQ8"
      },
      "outputs": [],
      "source": [
        "reqs = sfy.gather_requirements(\"predict.py\")"
      ]
    },
    {
      "cell_type": "code",
      "execution_count": null,
      "metadata": {
        "colab": {
          "base_uri": "https://localhost:8080/"
        },
        "id": "7MEAR6C2Q7LX",
        "outputId": "c9567c51-9952-4bb9-8ac5-f31eaea2c490"
      },
      "outputs": [],
      "source": [
        "auto_service = sfy.Service(\"predict.py\", reqs, sfy.Parameters(\n",
        "    name=\"auto-service\",\n",
        "    workspace=\"v1:local:my-ws\"\n",
        "))\n",
        "auto_service.deploy()"
      ]
    },
    {
      "cell_type": "markdown",
      "metadata": {
        "id": "wx_d6vuqpMYZ"
      },
      "source": [
        "# APIs generated\n",
        "![](https://github.com/srihari-tf/recommender-system-tfy/raw/master/assets/apis.png)\n",
        "\n",
        "# Fetching similar movies\n",
        "![](https://github.com/srihari-tf/recommender-system-tfy/raw/master/assets/get_reco.png)"
      ]
    }
  ],
  "metadata": {
    "colab": {
      "collapsed_sections": [],
      "name": "Copy of movie-recommendation-dataset.ipynb",
      "provenance": []
    },
    "kernelspec": {
      "display_name": "Python 3.9.13 64-bit",
      "language": "python",
      "name": "python3"
    },
    "language_info": {
      "name": "python",
      "version": "3.9.13"
    },
    "vscode": {
      "interpreter": {
        "hash": "b0fa6594d8f4cbf19f97940f81e996739fb7646882a419484c72d19e05852a7e"
      }
    },
    "widgets": {
      "application/vnd.jupyter.widget-state+json": {
        "0ad40fe61bd54b9c8be8208c1b00f578": {
          "model_module": "@jupyter-widgets/controls",
          "model_module_version": "1.5.0",
          "model_name": "DescriptionStyleModel",
          "state": {
            "_model_module": "@jupyter-widgets/controls",
            "_model_module_version": "1.5.0",
            "_model_name": "DescriptionStyleModel",
            "_view_count": null,
            "_view_module": "@jupyter-widgets/base",
            "_view_module_version": "1.2.0",
            "_view_name": "StyleView",
            "description_width": ""
          }
        },
        "37bbd5bce2614708a4bfcca4af376b92": {
          "model_module": "@jupyter-widgets/base",
          "model_module_version": "1.2.0",
          "model_name": "LayoutModel",
          "state": {
            "_model_module": "@jupyter-widgets/base",
            "_model_module_version": "1.2.0",
            "_model_name": "LayoutModel",
            "_view_count": null,
            "_view_module": "@jupyter-widgets/base",
            "_view_module_version": "1.2.0",
            "_view_name": "LayoutView",
            "align_content": null,
            "align_items": null,
            "align_self": null,
            "border": null,
            "bottom": null,
            "display": null,
            "flex": null,
            "flex_flow": null,
            "grid_area": null,
            "grid_auto_columns": null,
            "grid_auto_flow": null,
            "grid_auto_rows": null,
            "grid_column": null,
            "grid_gap": null,
            "grid_row": null,
            "grid_template_areas": null,
            "grid_template_columns": null,
            "grid_template_rows": null,
            "height": null,
            "justify_content": null,
            "justify_items": null,
            "left": null,
            "margin": null,
            "max_height": null,
            "max_width": null,
            "min_height": null,
            "min_width": null,
            "object_fit": null,
            "object_position": null,
            "order": null,
            "overflow": null,
            "overflow_x": null,
            "overflow_y": null,
            "padding": null,
            "right": null,
            "top": null,
            "visibility": null,
            "width": null
          }
        },
        "3bb906b45640460eb466dfbdfd6c1e19": {
          "model_module": "@jupyter-widgets/controls",
          "model_module_version": "1.5.0",
          "model_name": "HTMLModel",
          "state": {
            "_dom_classes": [],
            "_model_module": "@jupyter-widgets/controls",
            "_model_module_version": "1.5.0",
            "_model_name": "HTMLModel",
            "_view_count": null,
            "_view_module": "@jupyter-widgets/controls",
            "_view_module_version": "1.5.0",
            "_view_name": "HTMLView",
            "description": "",
            "description_tooltip": null,
            "layout": "IPY_MODEL_37bbd5bce2614708a4bfcca4af376b92",
            "placeholder": "​",
            "style": "IPY_MODEL_0ad40fe61bd54b9c8be8208c1b00f578",
            "value": " 15/15 [00:14&lt;00:00,  1.03it/s]"
          }
        },
        "3f9e8e2953fc4a608b4eb3f2c6fc52b6": {
          "model_module": "@jupyter-widgets/base",
          "model_module_version": "1.2.0",
          "model_name": "LayoutModel",
          "state": {
            "_model_module": "@jupyter-widgets/base",
            "_model_module_version": "1.2.0",
            "_model_name": "LayoutModel",
            "_view_count": null,
            "_view_module": "@jupyter-widgets/base",
            "_view_module_version": "1.2.0",
            "_view_name": "LayoutView",
            "align_content": null,
            "align_items": null,
            "align_self": null,
            "border": null,
            "bottom": null,
            "display": null,
            "flex": null,
            "flex_flow": null,
            "grid_area": null,
            "grid_auto_columns": null,
            "grid_auto_flow": null,
            "grid_auto_rows": null,
            "grid_column": null,
            "grid_gap": null,
            "grid_row": null,
            "grid_template_areas": null,
            "grid_template_columns": null,
            "grid_template_rows": null,
            "height": null,
            "justify_content": null,
            "justify_items": null,
            "left": null,
            "margin": null,
            "max_height": null,
            "max_width": null,
            "min_height": null,
            "min_width": null,
            "object_fit": null,
            "object_position": null,
            "order": null,
            "overflow": null,
            "overflow_x": null,
            "overflow_y": null,
            "padding": null,
            "right": null,
            "top": null,
            "visibility": null,
            "width": null
          }
        },
        "469b7b6d0e3e432c94f8dcc4167af841": {
          "model_module": "@jupyter-widgets/controls",
          "model_module_version": "1.5.0",
          "model_name": "HBoxModel",
          "state": {
            "_dom_classes": [],
            "_model_module": "@jupyter-widgets/controls",
            "_model_module_version": "1.5.0",
            "_model_name": "HBoxModel",
            "_view_count": null,
            "_view_module": "@jupyter-widgets/controls",
            "_view_module_version": "1.5.0",
            "_view_name": "HBoxView",
            "box_style": "",
            "children": [
              "IPY_MODEL_de1de3d64f944fd6b2b9fb6efd486352",
              "IPY_MODEL_7891c57a2e2b496597b4c49ce6f7033b",
              "IPY_MODEL_3bb906b45640460eb466dfbdfd6c1e19"
            ],
            "layout": "IPY_MODEL_3f9e8e2953fc4a608b4eb3f2c6fc52b6"
          }
        },
        "653d65867b554b00ab680aadcf4e5596": {
          "model_module": "@jupyter-widgets/controls",
          "model_module_version": "1.5.0",
          "model_name": "ProgressStyleModel",
          "state": {
            "_model_module": "@jupyter-widgets/controls",
            "_model_module_version": "1.5.0",
            "_model_name": "ProgressStyleModel",
            "_view_count": null,
            "_view_module": "@jupyter-widgets/base",
            "_view_module_version": "1.2.0",
            "_view_name": "StyleView",
            "bar_color": null,
            "description_width": ""
          }
        },
        "7891c57a2e2b496597b4c49ce6f7033b": {
          "model_module": "@jupyter-widgets/controls",
          "model_module_version": "1.5.0",
          "model_name": "FloatProgressModel",
          "state": {
            "_dom_classes": [],
            "_model_module": "@jupyter-widgets/controls",
            "_model_module_version": "1.5.0",
            "_model_name": "FloatProgressModel",
            "_view_count": null,
            "_view_module": "@jupyter-widgets/controls",
            "_view_module_version": "1.5.0",
            "_view_name": "ProgressView",
            "bar_style": "success",
            "description": "",
            "description_tooltip": null,
            "layout": "IPY_MODEL_e74089511fb14c38b8da222b05616b39",
            "max": 15,
            "min": 0,
            "orientation": "horizontal",
            "style": "IPY_MODEL_653d65867b554b00ab680aadcf4e5596",
            "value": 15
          }
        },
        "c452bb9fe3bd4d6b856179f6f1bb117b": {
          "model_module": "@jupyter-widgets/base",
          "model_module_version": "1.2.0",
          "model_name": "LayoutModel",
          "state": {
            "_model_module": "@jupyter-widgets/base",
            "_model_module_version": "1.2.0",
            "_model_name": "LayoutModel",
            "_view_count": null,
            "_view_module": "@jupyter-widgets/base",
            "_view_module_version": "1.2.0",
            "_view_name": "LayoutView",
            "align_content": null,
            "align_items": null,
            "align_self": null,
            "border": null,
            "bottom": null,
            "display": null,
            "flex": null,
            "flex_flow": null,
            "grid_area": null,
            "grid_auto_columns": null,
            "grid_auto_flow": null,
            "grid_auto_rows": null,
            "grid_column": null,
            "grid_gap": null,
            "grid_row": null,
            "grid_template_areas": null,
            "grid_template_columns": null,
            "grid_template_rows": null,
            "height": null,
            "justify_content": null,
            "justify_items": null,
            "left": null,
            "margin": null,
            "max_height": null,
            "max_width": null,
            "min_height": null,
            "min_width": null,
            "object_fit": null,
            "object_position": null,
            "order": null,
            "overflow": null,
            "overflow_x": null,
            "overflow_y": null,
            "padding": null,
            "right": null,
            "top": null,
            "visibility": null,
            "width": null
          }
        },
        "d31b9fe625f74bd38a6a97d731c51024": {
          "model_module": "@jupyter-widgets/controls",
          "model_module_version": "1.5.0",
          "model_name": "DescriptionStyleModel",
          "state": {
            "_model_module": "@jupyter-widgets/controls",
            "_model_module_version": "1.5.0",
            "_model_name": "DescriptionStyleModel",
            "_view_count": null,
            "_view_module": "@jupyter-widgets/base",
            "_view_module_version": "1.2.0",
            "_view_name": "StyleView",
            "description_width": ""
          }
        },
        "de1de3d64f944fd6b2b9fb6efd486352": {
          "model_module": "@jupyter-widgets/controls",
          "model_module_version": "1.5.0",
          "model_name": "HTMLModel",
          "state": {
            "_dom_classes": [],
            "_model_module": "@jupyter-widgets/controls",
            "_model_module_version": "1.5.0",
            "_model_name": "HTMLModel",
            "_view_count": null,
            "_view_module": "@jupyter-widgets/controls",
            "_view_module_version": "1.5.0",
            "_view_name": "HTMLView",
            "description": "",
            "description_tooltip": null,
            "layout": "IPY_MODEL_c452bb9fe3bd4d6b856179f6f1bb117b",
            "placeholder": "​",
            "style": "IPY_MODEL_d31b9fe625f74bd38a6a97d731c51024",
            "value": "100%"
          }
        },
        "e74089511fb14c38b8da222b05616b39": {
          "model_module": "@jupyter-widgets/base",
          "model_module_version": "1.2.0",
          "model_name": "LayoutModel",
          "state": {
            "_model_module": "@jupyter-widgets/base",
            "_model_module_version": "1.2.0",
            "_model_name": "LayoutModel",
            "_view_count": null,
            "_view_module": "@jupyter-widgets/base",
            "_view_module_version": "1.2.0",
            "_view_name": "LayoutView",
            "align_content": null,
            "align_items": null,
            "align_self": null,
            "border": null,
            "bottom": null,
            "display": null,
            "flex": null,
            "flex_flow": null,
            "grid_area": null,
            "grid_auto_columns": null,
            "grid_auto_flow": null,
            "grid_auto_rows": null,
            "grid_column": null,
            "grid_gap": null,
            "grid_row": null,
            "grid_template_areas": null,
            "grid_template_columns": null,
            "grid_template_rows": null,
            "height": null,
            "justify_content": null,
            "justify_items": null,
            "left": null,
            "margin": null,
            "max_height": null,
            "max_width": null,
            "min_height": null,
            "min_width": null,
            "object_fit": null,
            "object_position": null,
            "order": null,
            "overflow": null,
            "overflow_x": null,
            "overflow_y": null,
            "padding": null,
            "right": null,
            "top": null,
            "visibility": null,
            "width": null
          }
        }
      }
    }
  },
  "nbformat": 4,
  "nbformat_minor": 0
}
