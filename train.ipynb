{
  "cells": [
    {
      "cell_type": "markdown",
      "metadata": {
        "id": "EXhZSWwfoNPz"
      },
      "source": [
        "## Install libraries"
      ]
    },
    {
      "cell_type": "code",
      "execution_count": null,
      "metadata": {
        "colab": {
          "base_uri": "https://localhost:8080/"
        },
        "id": "dd4dyaYzeh4V",
        "outputId": "35c819c5-5449-4f45-fc45-3bf3222d545c"
      },
      "outputs": [],
      "source": [
        "!pip install -U mlfoundry\n",
        "!pip install -U servicefoundry==0.1.69"
      ]
    },
    {
      "cell_type": "markdown",
      "metadata": {
        "id": "8HxrOIwMoUzn"
      },
      "source": [
        "## Load datasets"
      ]
    },
    {
      "cell_type": "code",
      "execution_count": null,
      "metadata": {
        "colab": {
          "base_uri": "https://localhost:8080/"
        },
        "id": "k2pTfPnUD7Nm",
        "outputId": "5ae1c727-adfc-46a1-8b5e-08cb2b2193af"
      },
      "outputs": [],
      "source": [
        "# load our datasets as dataframes\n",
        "import pandas as pd\n",
        "\n",
        "movie_meta_df = pd.read_csv('https://raw.githubusercontent.com/srihari-tf/recommender-system-tfy/master/movies_metadata.csv')\n",
        "keywords_df = pd.read_csv('https://raw.githubusercontent.com/srihari-tf/recommender-system-tfy/master/keywords.csv')\n",
        "ratings_df = pd.read_csv(\"https://raw.githubusercontent.com/srihari-tf/recommender-system-tfy/master/ratings_small.csv\")"
      ]
    },
    {
      "cell_type": "markdown",
      "metadata": {
        "id": "oJx5r1C2oZy_"
      },
      "source": [
        "## Clean dataset"
      ]
    },
    {
      "cell_type": "code",
      "execution_count": null,
      "metadata": {
        "id": "AKBZZNjwMPG7"
      },
      "outputs": [],
      "source": [
        "meta_df = movie_meta_df.copy()\n",
        "meta_df.drop(['belongs_to_collection', 'homepage', 'tagline', 'poster_path', 'overview', 'imdb_id', 'spoken_languages'], inplace=True, axis=1)\n",
        "meta_df.dropna(inplace=True)"
      ]
    },
    {
      "cell_type": "code",
      "execution_count": null,
      "metadata": {
        "id": "_ukLxy4TMReV"
      },
      "outputs": [],
      "source": [
        "import ast\n",
        "\n",
        "column_changes = ['production_companies', 'production_countries', 'genres']\n",
        "json_shrinker_dict = dict({'production_companies': list(), 'production_countries': list(), 'genres': list()})\n",
        "\n",
        "for col in column_changes:\n",
        "    if col == 'production_companies':\n",
        "        for i in meta_df[col]:\n",
        "            i = ast.literal_eval(i)\n",
        "            if len(i) < 1:\n",
        "                json_shrinker_dict['production_companies'].append(None)\n",
        "\n",
        "            for element in i:\n",
        "                json_shrinker_dict['production_companies'].append(element['name'])\n",
        "                break\n",
        "    elif col == 'production_countries':\n",
        "        for i in meta_df[col]:\n",
        "            i = ast.literal_eval(i)\n",
        "            if len(i) < 1:\n",
        "                json_shrinker_dict['production_countries'].append(None)\n",
        "            for element in i:\n",
        "                json_shrinker_dict['production_countries'].append(element['iso_3166_1'])\n",
        "                break\n",
        "    else:\n",
        "        for i in meta_df[col]:\n",
        "            i = ast.literal_eval(i)\n",
        "            if len(i) < 1:\n",
        "                json_shrinker_dict['genres'].append(None)\n",
        "\n",
        "            for element in i:\n",
        "                json_shrinker_dict['genres'].append(element['name'])\n",
        "                break"
      ]
    },
    {
      "cell_type": "code",
      "execution_count": null,
      "metadata": {
        "colab": {
          "base_uri": "https://localhost:8080/",
          "height": 357
        },
        "id": "jp81ahBlMhzY",
        "outputId": "005c5eed-f013-433f-9eef-65a81b56eae4"
      },
      "outputs": [],
      "source": [
        "for i in column_changes:\n",
        "    meta_df[i] = json_shrinker_dict[i]\n",
        "\n",
        "meta_df.dropna(inplace=True)\n",
        "meta_df.head()"
      ]
    },
    {
      "cell_type": "markdown",
      "metadata": {
        "id": "NotORjT2odLq"
      },
      "source": [
        "## Scale features for clustering"
      ]
    },
    {
      "cell_type": "code",
      "execution_count": null,
      "metadata": {
        "id": "XwYl1YGmM9Ki"
      },
      "outputs": [],
      "source": [
        "from sklearn.preprocessing import MinMaxScaler\n",
        "\n",
        "scalar = MinMaxScaler()\n",
        "scaled_df = meta_df[['budget', 'popularity', 'revenue', 'runtime', 'vote_average', 'vote_count']]\n",
        "scaled = scalar.fit_transform(meta_df[['budget', 'popularity', 'revenue', 'runtime', 'vote_average', 'vote_count']])\n",
        "scaled_df = pd.DataFrame(scaled, index=scaled_df.index, columns=scaled_df.columns)\n"
      ]
    },
    {
      "cell_type": "markdown",
      "metadata": {
        "id": "AGFcXHz8ofH2"
      },
      "source": [
        "## Set up MLFoundry to log params and metrics"
      ]
    },
    {
      "cell_type": "code",
      "execution_count": null,
      "metadata": {
        "colab": {
          "base_uri": "https://localhost:8080/"
        },
        "id": "CdxaEHw9k4sC",
        "outputId": "8d51a40e-ef07-4ee5-a403-445bab8c2176"
      },
      "outputs": [],
      "source": [
        "import mlfoundry\n",
        "\n",
        "mlfoundry.login()\n",
        "client = mlfoundry.get_client()\n",
        "MLF_PROJECT_NAME= \"movie-clustering-jul-29-1\""
      ]
    },
    {
      "cell_type": "markdown",
      "metadata": {
        "id": "nkgTYfl2oir2"
      },
      "source": [
        "## Find optimal number of clusters and log to MLFoundry"
      ]
    },
    {
      "cell_type": "code",
      "execution_count": null,
      "metadata": {
        "colab": {
          "base_uri": "https://localhost:8080/"
        },
        "id": "1qM4TG8kNRLA",
        "outputId": "c9c55366-863f-438b-edff-d37d5d5f733d"
      },
      "outputs": [],
      "source": [
        "from sklearn.cluster import KMeans\n",
        "from sklearn.metrics import silhouette_score\n",
        "\n",
        "\n",
        "clustering_df = scaled_df[['budget', 'popularity', 'revenue', 'runtime', 'vote_average', 'vote_count']]\n",
        "\n",
        "for num_cluster in [5, 10, 15, 20, 25]:\n",
        "    run = client.create_run(project_name=MLF_PROJECT_NAME, run_name=f\"num-clusters-{num_cluster}\")\n",
        "    cluster_fit = KMeans(n_clusters=num_cluster, random_state=0).fit(clustering_df)\n",
        "    score = silhouette_score(clustering_df, cluster_fit.labels_, metric='euclidean', sample_size=None, random_state=None)\n",
        "    run.log_params({'num_clusters': num_cluster, 'centers': cluster_fit.cluster_centers_})\n",
        "    run.log_metrics({'silhouette_score': score})"
      ]
    },
    {
      "cell_type": "markdown",
      "metadata": {
        "id": "HwwfkcS4orLE"
      },
      "source": [
        "## Apply KMeans using optimal number of clusters"
      ]
    },
    {
      "cell_type": "code",
      "execution_count": null,
      "metadata": {
        "colab": {
          "base_uri": "https://localhost:8080/",
          "height": 424
        },
        "id": "quDK1d1aeRWp",
        "outputId": "03e56acd-2228-42c6-a876-7755c191c805"
      },
      "outputs": [],
      "source": [
        "def apply_kmeans(df, clusters):\n",
        "    kmeans = KMeans(n_clusters=clusters, random_state=0)\n",
        "    cluster_labels = kmeans.fit(df).labels_\n",
        "    string_labels = [\"c{}\".format(i) for i in cluster_labels]\n",
        "    df['cluster_label'] = cluster_labels\n",
        "    df['cluster_string'] = string_labels\n",
        "\n",
        "    return df\n",
        "\n",
        "apply_kmeans(scaled_df, 15)"
      ]
    },
    {
      "cell_type": "markdown",
      "metadata": {
        "id": "f42wGSpeowcg"
      },
      "source": [
        "## Train a collaborative filtering model using `implicit`"
      ]
    },
    {
      "cell_type": "code",
      "execution_count": null,
      "metadata": {
        "id": "UPnRgMoUfhMz"
      },
      "outputs": [],
      "source": [
        "ratings_df['movieId'] = ratings_df['movieId'].astype(\"category\")\n",
        "ratings_df['userId'] = ratings_df['userId'].astype(\"category\")"
      ]
    },
    {
      "cell_type": "code",
      "execution_count": null,
      "metadata": {
        "colab": {
          "base_uri": "https://localhost:8080/"
        },
        "id": "2s1XQdWZWhBm",
        "outputId": "4e62f51d-b86f-4a6e-90db-f551c6522312"
      },
      "outputs": [],
      "source": [
        "!pip install implicit"
      ]
    },
    {
      "cell_type": "code",
      "execution_count": null,
      "metadata": {
        "id": "XtLum0A-Xxpq"
      },
      "outputs": [],
      "source": [
        "from scipy.sparse import coo_matrix\n",
        "import implicit"
      ]
    },
    {
      "cell_type": "code",
      "execution_count": null,
      "metadata": {
        "id": "dDJrdKFgX0jZ"
      },
      "outputs": [],
      "source": [
        "r = coo_matrix((ratings_df['rating'], (ratings_df['userId'].cat.codes, ratings_df['movieId'].cat.codes)))"
      ]
    },
    {
      "cell_type": "code",
      "execution_count": null,
      "metadata": {
        "colab": {
          "base_uri": "https://localhost:8080/",
          "height": 105,
          "referenced_widgets": [
            "97fed1975fb04e6780b87135030b6b74",
            "377cd54734c24caa9325d99bc22fd984",
            "41b95b2378aa41cd8a185270835e9fb3",
            "fe020762886b480c8a804137f07b70df",
            "60929834761440f493fd69f673b48ae1",
            "25439073fec14ab4a94183bce04066ac",
            "1ead55d78fce41d78b1facd2ea8c9999",
            "74daf07473eb4722990eca9763256bc1",
            "0e475fca10294c97a0fe61cac0a6f6b6",
            "5ca9c0623b7d4149af47a9f833d12ee8",
            "488a3683f73c48ceb4a9e7eab6c292b1"
          ]
        },
        "id": "UtPRn8qDXZE-",
        "outputId": "a59528c1-edc0-41be-f2ff-187a80159688"
      },
      "outputs": [],
      "source": [
        "import implicit\n",
        "\n",
        "model = implicit.als.AlternatingLeastSquares(factors=25)\n",
        "model.fit(r)"
      ]
    },
    {
      "cell_type": "code",
      "execution_count": null,
      "metadata": {
        "id": "3Z97WQCshYGQ"
      },
      "outputs": [],
      "source": [
        "user_category_to_code = dict([(category, code) for code, category in enumerate(ratings_df.userId.cat.categories)])\n",
        "\n",
        "def get_movie_names_from_movie_category_codes(movie_cat_codes):\n",
        "  ids = [ratings_df['movieId'].cat.categories[i] for i in movie_cat_codes]\n",
        "  return list(movie_meta_df.loc[movie_meta_df['id'].isin([str(id) for id in ids])].original_title)\n",
        "\n",
        "def get_recommendation_for_user(user_id):\n",
        "  user_cat_code = user_category_to_code[user_id]\n",
        "  return get_movie_names_from_movie_category_codes(model.recommend(user_cat_code, r.tocsr().getrow(user_cat_code))[0])\n",
        "  "
      ]
    },
    {
      "cell_type": "code",
      "execution_count": null,
      "metadata": {
        "colab": {
          "base_uri": "https://localhost:8080/"
        },
        "id": "ylEsp_8H-5ID",
        "outputId": "ba08220f-83bf-4b50-e184-be9c8a9947e0"
      },
      "outputs": [],
      "source": [
        "get_recommendation_for_user(11)"
      ]
    },
    {
      "cell_type": "markdown",
      "metadata": {
        "id": "Yb2cqnnlo1WU"
      },
      "source": [
        "## Save the model and log it to MLFoundry"
      ]
    },
    {
      "cell_type": "code",
      "execution_count": null,
      "metadata": {
        "id": "1Ft6zEaXIhom"
      },
      "outputs": [],
      "source": [
        "model.save('recommendation-model')\n"
      ]
    },
    {
      "cell_type": "code",
      "execution_count": null,
      "metadata": {
        "colab": {
          "base_uri": "https://localhost:8080/"
        },
        "id": "45swTVIyKdcl",
        "outputId": "6f6db8e1-dd5f-4a07-bcef-a5a444951e06"
      },
      "outputs": [],
      "source": [
        "run = client.create_run(project_name=MLF_PROJECT_NAME, run_name=f\"cf-model\")\n",
        "run.log_artifact('/content/recommendation-model.npz')\n"
      ]
    },
    {
      "cell_type": "markdown",
      "metadata": {
        "id": "yZtmgqiHo6CP"
      },
      "source": [
        "## Deploy the app using ServiceFoundry"
      ]
    },
    {
      "cell_type": "code",
      "execution_count": null,
      "metadata": {
        "colab": {
          "base_uri": "https://localhost:8080/"
        },
        "id": "ZqBny_fACYpp",
        "outputId": "45ffc926-a5b6-4510-d0e1-a3612ced083b"
      },
      "outputs": [],
      "source": [
        "import servicefoundry.core as sfy\n",
        "sfy.login()"
      ]
    },
    {
      "cell_type": "code",
      "execution_count": null,
      "metadata": {
        "colab": {
          "base_uri": "https://localhost:8080/"
        },
        "id": "A8yf7qzCHHlr",
        "outputId": "813b2c46-44c1-4ca8-ccea-95fd87d8a040"
      },
      "outputs": [],
      "source": [
        "%%writefile predict.py\n",
        "import mlfoundry\n",
        "import pandas as pd\n",
        "from scipy.sparse import coo_matrix\n",
        "import implicit\n",
        "\n",
        "movie_meta_df = pd.read_csv('https://raw.githubusercontent.com/srihari-tf/recommender-system-tfy/master/movies_metadata.csv')\n",
        "ratings_df = pd.read_csv(\"https://raw.githubusercontent.com/srihari-tf/recommender-system-tfy/master/ratings_small.csv\")\n",
        "\n",
        "# only keep movies in ratings dataset\n",
        "movie_meta_df = movie_meta_df[movie_meta_df['id'].isin(ratings_df['movieId'])]\n",
        "\n",
        "ratings_df['movieId'] = ratings_df['movieId'].astype(\"category\")\n",
        "ratings_df['userId'] = ratings_df['userId'].astype(\"category\")\n",
        "r = coo_matrix((ratings_df['rating'], (ratings_df['userId'].cat.codes, ratings_df['movieId'].cat.codes)))\n",
        "\n",
        "user_category_to_code = dict([(category, code) for code, category in enumerate(ratings_df.userId.cat.categories)])\n",
        "movie_category_to_code = dict([(category, code) for code, category in enumerate(ratings_df.movieId.cat.categories)])\n",
        "\n",
        "client = mlfoundry.get_client(api_key='<api-key>')\n",
        "run = client.get_run('truefoundry/user-truefoundry/movie-clustering-jul-29-1/cf-model')\n",
        "local_path = run.download_artifact('recommendation-model.npz')\n",
        "model = implicit.als.AlternatingLeastSquares(factors=25).load(local_path)\n",
        "\n",
        "def search_movie(name):\n",
        "  return (movie_meta_df.loc[movie_meta_df['original_title'].str.contains(name, case=False)][['original_title', 'id']]).to_dict('records')\n",
        "\n",
        "def find_similar_movie(movie_name):\n",
        "  search_result =search_movie(movie_name)\n",
        "  if len(search_result) > 0:\n",
        "    movie_id = search_result[0]['id']\n",
        "    movie_name = search_result[0]['original_title']\n",
        "  else:\n",
        "    return []\n",
        "  movie_cat_code = movie_category_to_code[int(movie_id)]\n",
        "  movie_cat_codes = model.similar_items(movie_cat_code)[0]\n",
        "  ids = [ratings_df['movieId'].cat.categories[i] for i in movie_cat_codes]\n",
        "  return movie_name, list(movie_meta_df.loc[movie_meta_df['id'].isin([str(id) for id in ids])].original_title)\n",
        " \n",
        "def get_movie_names_from_movie_category_codes(movie_cat_codes):\n",
        "  ids = [ratings_df['movieId'].cat.categories[i] for i in movie_cat_codes]\n",
        "  return list(movie_meta_df.loc[movie_meta_df['id'].isin([str(id) for id in ids])].original_title)\n",
        "\n",
        "def get_recommendation_for_user(user_id):\n",
        "  user_cat_code = user_category_to_code[int(user_id)]\n",
        "  movie_cat_codes = model.recommend(user_cat_code, r.tocsr().getrow(user_cat_code))[0]\n",
        "  ids = [ratings_df['movieId'].cat.categories[i] for i in movie_cat_codes]\n",
        "  return list(movie_meta_df.loc[movie_meta_df['id'].isin([str(id) for id in ids])].original_title)"
      ]
    },
    {
      "cell_type": "code",
      "execution_count": null,
      "metadata": {
        "id": "7yJkZd7YQuQ8"
      },
      "outputs": [],
      "source": [
        "reqs = sfy.gather_requirements(\"predict.py\")"
      ]
    },
    {
      "cell_type": "code",
      "execution_count": null,
      "metadata": {
        "colab": {
          "base_uri": "https://localhost:8080/"
        },
        "id": "7MEAR6C2Q7LX",
        "outputId": "5f8a58b2-c8cb-4344-b3d8-bb0af3631530"
      },
      "outputs": [],
      "source": [
        "auto_service = sfy.Service(\"predict.py\", reqs, sfy.Parameters(\n",
        "    name=\"auto-service\",\n",
        "    workspace=\"v1:local:my-ws\"\n",
        "))\n",
        "auto_service.deploy()"
      ]
    },
    {
      "cell_type": "markdown",
      "metadata": {
        "id": "wx_d6vuqpMYZ"
      },
      "source": [
        "# APIs generated\n",
        "![](https://github.com/srihari-tf/recommender-system-tfy/raw/master/assets/apis.png)\n",
        "\n",
        "# Fetching similar movies\n",
        "![](https://github.com/srihari-tf/recommender-system-tfy/raw/master/assets/get_reco.png)"
      ]
    }
  ],
  "metadata": {
    "colab": {
      "collapsed_sections": [],
      "name": "movie-recommendation-dataset.ipynb",
      "provenance": []
    },
    "kernelspec": {
      "display_name": "Python 3",
      "name": "python3"
    },
    "language_info": {
      "name": "python"
    },
    "widgets": {
      "application/vnd.jupyter.widget-state+json": {
        "0e475fca10294c97a0fe61cac0a6f6b6": {
          "model_module": "@jupyter-widgets/controls",
          "model_module_version": "1.5.0",
          "model_name": "ProgressStyleModel",
          "state": {
            "_model_module": "@jupyter-widgets/controls",
            "_model_module_version": "1.5.0",
            "_model_name": "ProgressStyleModel",
            "_view_count": null,
            "_view_module": "@jupyter-widgets/base",
            "_view_module_version": "1.2.0",
            "_view_name": "StyleView",
            "bar_color": null,
            "description_width": ""
          }
        },
        "1ead55d78fce41d78b1facd2ea8c9999": {
          "model_module": "@jupyter-widgets/controls",
          "model_module_version": "1.5.0",
          "model_name": "DescriptionStyleModel",
          "state": {
            "_model_module": "@jupyter-widgets/controls",
            "_model_module_version": "1.5.0",
            "_model_name": "DescriptionStyleModel",
            "_view_count": null,
            "_view_module": "@jupyter-widgets/base",
            "_view_module_version": "1.2.0",
            "_view_name": "StyleView",
            "description_width": ""
          }
        },
        "25439073fec14ab4a94183bce04066ac": {
          "model_module": "@jupyter-widgets/base",
          "model_module_version": "1.2.0",
          "model_name": "LayoutModel",
          "state": {
            "_model_module": "@jupyter-widgets/base",
            "_model_module_version": "1.2.0",
            "_model_name": "LayoutModel",
            "_view_count": null,
            "_view_module": "@jupyter-widgets/base",
            "_view_module_version": "1.2.0",
            "_view_name": "LayoutView",
            "align_content": null,
            "align_items": null,
            "align_self": null,
            "border": null,
            "bottom": null,
            "display": null,
            "flex": null,
            "flex_flow": null,
            "grid_area": null,
            "grid_auto_columns": null,
            "grid_auto_flow": null,
            "grid_auto_rows": null,
            "grid_column": null,
            "grid_gap": null,
            "grid_row": null,
            "grid_template_areas": null,
            "grid_template_columns": null,
            "grid_template_rows": null,
            "height": null,
            "justify_content": null,
            "justify_items": null,
            "left": null,
            "margin": null,
            "max_height": null,
            "max_width": null,
            "min_height": null,
            "min_width": null,
            "object_fit": null,
            "object_position": null,
            "order": null,
            "overflow": null,
            "overflow_x": null,
            "overflow_y": null,
            "padding": null,
            "right": null,
            "top": null,
            "visibility": null,
            "width": null
          }
        },
        "377cd54734c24caa9325d99bc22fd984": {
          "model_module": "@jupyter-widgets/controls",
          "model_module_version": "1.5.0",
          "model_name": "HTMLModel",
          "state": {
            "_dom_classes": [],
            "_model_module": "@jupyter-widgets/controls",
            "_model_module_version": "1.5.0",
            "_model_name": "HTMLModel",
            "_view_count": null,
            "_view_module": "@jupyter-widgets/controls",
            "_view_module_version": "1.5.0",
            "_view_name": "HTMLView",
            "description": "",
            "description_tooltip": null,
            "layout": "IPY_MODEL_25439073fec14ab4a94183bce04066ac",
            "placeholder": "​",
            "style": "IPY_MODEL_1ead55d78fce41d78b1facd2ea8c9999",
            "value": "100%"
          }
        },
        "41b95b2378aa41cd8a185270835e9fb3": {
          "model_module": "@jupyter-widgets/controls",
          "model_module_version": "1.5.0",
          "model_name": "FloatProgressModel",
          "state": {
            "_dom_classes": [],
            "_model_module": "@jupyter-widgets/controls",
            "_model_module_version": "1.5.0",
            "_model_name": "FloatProgressModel",
            "_view_count": null,
            "_view_module": "@jupyter-widgets/controls",
            "_view_module_version": "1.5.0",
            "_view_name": "ProgressView",
            "bar_style": "success",
            "description": "",
            "description_tooltip": null,
            "layout": "IPY_MODEL_74daf07473eb4722990eca9763256bc1",
            "max": 15,
            "min": 0,
            "orientation": "horizontal",
            "style": "IPY_MODEL_0e475fca10294c97a0fe61cac0a6f6b6",
            "value": 15
          }
        },
        "488a3683f73c48ceb4a9e7eab6c292b1": {
          "model_module": "@jupyter-widgets/controls",
          "model_module_version": "1.5.0",
          "model_name": "DescriptionStyleModel",
          "state": {
            "_model_module": "@jupyter-widgets/controls",
            "_model_module_version": "1.5.0",
            "_model_name": "DescriptionStyleModel",
            "_view_count": null,
            "_view_module": "@jupyter-widgets/base",
            "_view_module_version": "1.2.0",
            "_view_name": "StyleView",
            "description_width": ""
          }
        },
        "5ca9c0623b7d4149af47a9f833d12ee8": {
          "model_module": "@jupyter-widgets/base",
          "model_module_version": "1.2.0",
          "model_name": "LayoutModel",
          "state": {
            "_model_module": "@jupyter-widgets/base",
            "_model_module_version": "1.2.0",
            "_model_name": "LayoutModel",
            "_view_count": null,
            "_view_module": "@jupyter-widgets/base",
            "_view_module_version": "1.2.0",
            "_view_name": "LayoutView",
            "align_content": null,
            "align_items": null,
            "align_self": null,
            "border": null,
            "bottom": null,
            "display": null,
            "flex": null,
            "flex_flow": null,
            "grid_area": null,
            "grid_auto_columns": null,
            "grid_auto_flow": null,
            "grid_auto_rows": null,
            "grid_column": null,
            "grid_gap": null,
            "grid_row": null,
            "grid_template_areas": null,
            "grid_template_columns": null,
            "grid_template_rows": null,
            "height": null,
            "justify_content": null,
            "justify_items": null,
            "left": null,
            "margin": null,
            "max_height": null,
            "max_width": null,
            "min_height": null,
            "min_width": null,
            "object_fit": null,
            "object_position": null,
            "order": null,
            "overflow": null,
            "overflow_x": null,
            "overflow_y": null,
            "padding": null,
            "right": null,
            "top": null,
            "visibility": null,
            "width": null
          }
        },
        "60929834761440f493fd69f673b48ae1": {
          "model_module": "@jupyter-widgets/base",
          "model_module_version": "1.2.0",
          "model_name": "LayoutModel",
          "state": {
            "_model_module": "@jupyter-widgets/base",
            "_model_module_version": "1.2.0",
            "_model_name": "LayoutModel",
            "_view_count": null,
            "_view_module": "@jupyter-widgets/base",
            "_view_module_version": "1.2.0",
            "_view_name": "LayoutView",
            "align_content": null,
            "align_items": null,
            "align_self": null,
            "border": null,
            "bottom": null,
            "display": null,
            "flex": null,
            "flex_flow": null,
            "grid_area": null,
            "grid_auto_columns": null,
            "grid_auto_flow": null,
            "grid_auto_rows": null,
            "grid_column": null,
            "grid_gap": null,
            "grid_row": null,
            "grid_template_areas": null,
            "grid_template_columns": null,
            "grid_template_rows": null,
            "height": null,
            "justify_content": null,
            "justify_items": null,
            "left": null,
            "margin": null,
            "max_height": null,
            "max_width": null,
            "min_height": null,
            "min_width": null,
            "object_fit": null,
            "object_position": null,
            "order": null,
            "overflow": null,
            "overflow_x": null,
            "overflow_y": null,
            "padding": null,
            "right": null,
            "top": null,
            "visibility": null,
            "width": null
          }
        },
        "74daf07473eb4722990eca9763256bc1": {
          "model_module": "@jupyter-widgets/base",
          "model_module_version": "1.2.0",
          "model_name": "LayoutModel",
          "state": {
            "_model_module": "@jupyter-widgets/base",
            "_model_module_version": "1.2.0",
            "_model_name": "LayoutModel",
            "_view_count": null,
            "_view_module": "@jupyter-widgets/base",
            "_view_module_version": "1.2.0",
            "_view_name": "LayoutView",
            "align_content": null,
            "align_items": null,
            "align_self": null,
            "border": null,
            "bottom": null,
            "display": null,
            "flex": null,
            "flex_flow": null,
            "grid_area": null,
            "grid_auto_columns": null,
            "grid_auto_flow": null,
            "grid_auto_rows": null,
            "grid_column": null,
            "grid_gap": null,
            "grid_row": null,
            "grid_template_areas": null,
            "grid_template_columns": null,
            "grid_template_rows": null,
            "height": null,
            "justify_content": null,
            "justify_items": null,
            "left": null,
            "margin": null,
            "max_height": null,
            "max_width": null,
            "min_height": null,
            "min_width": null,
            "object_fit": null,
            "object_position": null,
            "order": null,
            "overflow": null,
            "overflow_x": null,
            "overflow_y": null,
            "padding": null,
            "right": null,
            "top": null,
            "visibility": null,
            "width": null
          }
        },
        "97fed1975fb04e6780b87135030b6b74": {
          "model_module": "@jupyter-widgets/controls",
          "model_module_version": "1.5.0",
          "model_name": "HBoxModel",
          "state": {
            "_dom_classes": [],
            "_model_module": "@jupyter-widgets/controls",
            "_model_module_version": "1.5.0",
            "_model_name": "HBoxModel",
            "_view_count": null,
            "_view_module": "@jupyter-widgets/controls",
            "_view_module_version": "1.5.0",
            "_view_name": "HBoxView",
            "box_style": "",
            "children": [
              "IPY_MODEL_377cd54734c24caa9325d99bc22fd984",
              "IPY_MODEL_41b95b2378aa41cd8a185270835e9fb3",
              "IPY_MODEL_fe020762886b480c8a804137f07b70df"
            ],
            "layout": "IPY_MODEL_60929834761440f493fd69f673b48ae1"
          }
        },
        "fe020762886b480c8a804137f07b70df": {
          "model_module": "@jupyter-widgets/controls",
          "model_module_version": "1.5.0",
          "model_name": "HTMLModel",
          "state": {
            "_dom_classes": [],
            "_model_module": "@jupyter-widgets/controls",
            "_model_module_version": "1.5.0",
            "_model_name": "HTMLModel",
            "_view_count": null,
            "_view_module": "@jupyter-widgets/controls",
            "_view_module_version": "1.5.0",
            "_view_name": "HTMLView",
            "description": "",
            "description_tooltip": null,
            "layout": "IPY_MODEL_5ca9c0623b7d4149af47a9f833d12ee8",
            "placeholder": "​",
            "style": "IPY_MODEL_488a3683f73c48ceb4a9e7eab6c292b1",
            "value": " 15/15 [00:09&lt;00:00,  1.47it/s]"
          }
        }
      }
    }
  },
  "nbformat": 4,
  "nbformat_minor": 0
}
