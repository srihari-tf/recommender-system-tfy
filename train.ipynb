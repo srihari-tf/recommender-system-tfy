{
  "cells": [
    {
      "cell_type": "code",
      "execution_count": null,
      "metadata": {
        "id": "uj3MPYSuWPz5"
      },
      "outputs": [],
      "source": [
        "!rm -rf sample_data/"
      ]
    },
    {
      "cell_type": "markdown",
      "metadata": {
        "id": "EXhZSWwfoNPz"
      },
      "source": [
        "## Install libraries"
      ]
    },
    {
      "cell_type": "code",
      "execution_count": null,
      "metadata": {
        "id": "dd4dyaYzeh4V"
      },
      "outputs": [],
      "source": [
        "!pip install -U --quiet mlfoundry\n",
        "!pip install -U --quiet servicefoundry"
      ]
    },
    {
      "cell_type": "code",
      "execution_count": null,
      "metadata": {
        "colab": {
          "base_uri": "https://localhost:8080/"
        },
        "id": "SRknhxw74wxh",
        "outputId": "ea50b7e5-f070-4aef-fcea-d31db2f8647f"
      },
      "outputs": [],
      "source": [
        "import os\n",
        "import getpass\n",
        "\n",
        "TRUEFOUNDRY_HOST = \"https://app.truefoundry.com\"\n",
        "os.environ[\"TFY_HOST\"] = TRUEFOUNDRY_HOST.rstrip('/')\n",
        "os.environ[\"TFY_API_KEY\"] = getpass.getpass(f\"Set API Key (You can generate one at {os.getenv('TFY_HOST')}/settings/) \")\n",
        "WORKSPACE = input(f\"Set Workspace to deploy to (You can get one from {os.getenv('TFY_HOST')}/workspaces) \")\n",
        "\n",
        "import servicefoundry.core as sfy\n",
        "sfy.use_server(os.getenv('TFY_HOST'))\n",
        "sfy.login(api_key=os.getenv('TFY_API_KEY'))"
      ]
    },
    {
      "cell_type": "markdown",
      "metadata": {
        "id": "8HxrOIwMoUzn"
      },
      "source": [
        "## Load datasets"
      ]
    },
    {
      "cell_type": "code",
      "execution_count": null,
      "metadata": {
        "colab": {
          "base_uri": "https://localhost:8080/"
        },
        "id": "k2pTfPnUD7Nm",
        "outputId": "c35c116b-b07c-4888-b27d-0551a28bb779"
      },
      "outputs": [],
      "source": [
        "# load our datasets as dataframes\n",
        "import pandas as pd\n",
        "\n",
        "movie_meta_df = pd.read_csv('https://raw.githubusercontent.com/srihari-tf/recommender-system-tfy/master/movies_metadata.csv')\n",
        "keywords_df = pd.read_csv('https://raw.githubusercontent.com/srihari-tf/recommender-system-tfy/master/keywords.csv')\n",
        "ratings_df = pd.read_csv(\"https://raw.githubusercontent.com/srihari-tf/recommender-system-tfy/master/ratings_small.csv\")\n",
        "\n",
        "movie_meta_df = movie_meta_df[movie_meta_df['id'].isin(ratings_df['movieId'].astype('string'))]"
      ]
    },
    {
      "cell_type": "code",
      "execution_count": null,
      "metadata": {
        "colab": {
          "base_uri": "https://localhost:8080/"
        },
        "id": "z_deReVjl5Nn",
        "outputId": "39d0e319-1c43-4d1f-fd77-55cf953d2d3c"
      },
      "outputs": [],
      "source": [
        "!curl -O https://raw.githubusercontent.com/srihari-tf/recommender-system-tfy/master/movies_metadata.csv\n",
        "!curl -O https://raw.githubusercontent.com/srihari-tf/recommender-system-tfy/master/ratings_small.csv"
      ]
    },
    {
      "cell_type": "markdown",
      "metadata": {
        "id": "oJx5r1C2oZy_"
      },
      "source": [
        "## Clean dataset"
      ]
    },
    {
      "cell_type": "code",
      "execution_count": null,
      "metadata": {
        "id": "AKBZZNjwMPG7"
      },
      "outputs": [],
      "source": [
        "meta_df = movie_meta_df.copy()\n",
        "meta_df.drop(['belongs_to_collection', 'homepage', 'tagline', 'poster_path', 'overview', 'imdb_id', 'spoken_languages'], inplace=True, axis=1)\n",
        "meta_df.dropna(inplace=True)"
      ]
    },
    {
      "cell_type": "code",
      "execution_count": null,
      "metadata": {
        "id": "_ukLxy4TMReV"
      },
      "outputs": [],
      "source": [
        "import ast\n",
        "\n",
        "column_changes = ['production_companies', 'production_countries', 'genres']\n",
        "json_shrinker_dict = dict({'production_companies': list(), 'production_countries': list(), 'genres': list()})\n",
        "\n",
        "for col in column_changes:\n",
        "    if col == 'production_companies':\n",
        "        for i in meta_df[col]:\n",
        "            i = ast.literal_eval(i)\n",
        "            if len(i) < 1:\n",
        "                json_shrinker_dict['production_companies'].append(None)\n",
        "\n",
        "            for element in i:\n",
        "                json_shrinker_dict['production_companies'].append(element['name'])\n",
        "                break\n",
        "    elif col == 'production_countries':\n",
        "        for i in meta_df[col]:\n",
        "            i = ast.literal_eval(i)\n",
        "            if len(i) < 1:\n",
        "                json_shrinker_dict['production_countries'].append(None)\n",
        "            for element in i:\n",
        "                json_shrinker_dict['production_countries'].append(element['iso_3166_1'])\n",
        "                break\n",
        "    else:\n",
        "        for i in meta_df[col]:\n",
        "            i = ast.literal_eval(i)\n",
        "            if len(i) < 1:\n",
        "                json_shrinker_dict['genres'].append(None)\n",
        "\n",
        "            for element in i:\n",
        "                json_shrinker_dict['genres'].append(element['name'])\n",
        "                break"
      ]
    },
    {
      "cell_type": "code",
      "execution_count": null,
      "metadata": {
        "colab": {
          "base_uri": "https://localhost:8080/",
          "height": 305
        },
        "id": "jp81ahBlMhzY",
        "outputId": "f54918ee-8ec7-4b36-be03-c55f6d6431ea"
      },
      "outputs": [],
      "source": [
        "for i in column_changes:\n",
        "    meta_df[i] = json_shrinker_dict[i]\n",
        "\n",
        "meta_df.dropna(inplace=True)\n",
        "meta_df.head()"
      ]
    },
    {
      "cell_type": "markdown",
      "metadata": {
        "id": "NotORjT2odLq"
      },
      "source": [
        "## Scale features for clustering"
      ]
    },
    {
      "cell_type": "code",
      "execution_count": null,
      "metadata": {
        "id": "XwYl1YGmM9Ki"
      },
      "outputs": [],
      "source": [
        "from sklearn.preprocessing import MinMaxScaler\n",
        "\n",
        "scalar = MinMaxScaler()\n",
        "scaled_df = meta_df[['budget', 'popularity', 'revenue', 'runtime', 'vote_average', 'vote_count']]\n",
        "scaled = scalar.fit_transform(meta_df[['budget', 'popularity', 'revenue', 'runtime', 'vote_average', 'vote_count']])\n",
        "scaled_df = pd.DataFrame(scaled, index=scaled_df.index, columns=scaled_df.columns)\n"
      ]
    },
    {
      "cell_type": "markdown",
      "metadata": {
        "id": "AGFcXHz8ofH2"
      },
      "source": [
        "## Set up MLFoundry to log params and metrics"
      ]
    },
    {
      "cell_type": "code",
      "execution_count": null,
      "metadata": {
        "colab": {
          "base_uri": "https://localhost:8080/"
        },
        "id": "CdxaEHw9k4sC",
        "outputId": "b14bfddb-5913-4acc-e273-1a75d29d9c85"
      },
      "outputs": [],
      "source": [
        "import mlfoundry\n",
        "\n",
        "mlfoundry.login(api_key=os.getenv('TFY_API_KEY'))\n",
        "client = mlfoundry.get_client()\n",
        "MLF_PROJECT_NAME= \"movie-clustering-nov-12\""
      ]
    },
    {
      "cell_type": "markdown",
      "metadata": {
        "id": "nkgTYfl2oir2"
      },
      "source": [
        "## Find optimal number of clusters and log to MLFoundry"
      ]
    },
    {
      "cell_type": "code",
      "execution_count": null,
      "metadata": {
        "colab": {
          "base_uri": "https://localhost:8080/",
          "height": 1000
        },
        "id": "1qM4TG8kNRLA",
        "outputId": "50874f5e-de91-40c2-f470-4b9fdc7942b7"
      },
      "outputs": [],
      "source": [
        "from sklearn.cluster import KMeans\n",
        "from sklearn.metrics import silhouette_score\n",
        "import matplotlib.pyplot as plt\n",
        "\n",
        "clustering_df = scaled_df[['budget', 'popularity', 'revenue', 'runtime', 'vote_average', 'vote_count']]\n",
        "\n",
        "cluster_sizes = [5, 10, 15, 20, 25]\n",
        "scores = []\n",
        "for index, num_cluster in enumerate(cluster_sizes):\n",
        "    run = client.create_run(project_name=MLF_PROJECT_NAME, run_name=f\"num-clusters-{num_cluster}\")\n",
        "    cluster_fit = KMeans(n_clusters=num_cluster, random_state=0).fit(clustering_df)\n",
        "    score = silhouette_score(clustering_df, cluster_fit.labels_, metric='euclidean', sample_size=None, random_state=None)\n",
        "    run.log_params({'num_clusters': num_cluster, 'centers': cluster_fit.cluster_centers_})\n",
        "    run.log_metrics({'silhouette_score': score})\n",
        "    scores.append(score)\n",
        "    plt.plot(cluster_sizes[:index+1], scores)\n",
        "    run.log_plots({'cluster_vs_score': plt})"
      ]
    },
    {
      "cell_type": "markdown",
      "metadata": {
        "id": "HwwfkcS4orLE"
      },
      "source": [
        "## Apply KMeans using optimal number of clusters"
      ]
    },
    {
      "cell_type": "code",
      "execution_count": null,
      "metadata": {
        "colab": {
          "base_uri": "https://localhost:8080/",
          "height": 424
        },
        "id": "quDK1d1aeRWp",
        "outputId": "60b79320-becc-4530-93a4-dcf18fb1b39e"
      },
      "outputs": [],
      "source": [
        "def apply_kmeans(df, clusters):\n",
        "    kmeans = KMeans(n_clusters=clusters, random_state=0)\n",
        "    cluster_labels = kmeans.fit(df).labels_\n",
        "    string_labels = [\"c{}\".format(i) for i in cluster_labels]\n",
        "    df['cluster_label'] = cluster_labels\n",
        "    df['cluster_string'] = string_labels\n",
        "\n",
        "    return df\n",
        "\n",
        "apply_kmeans(scaled_df, 15)"
      ]
    },
    {
      "cell_type": "code",
      "execution_count": null,
      "metadata": {
        "id": "3w22I5HuMfhc"
      },
      "outputs": [],
      "source": [
        "movie_desc_df = movie_meta_df.copy()\n",
        "movie_desc_df = movie_desc_df[['overview', 'original_title', 'id']]\n",
        "movie_desc_df['overview'] = movie_desc_df['overview'].fillna('')"
      ]
    },
    {
      "cell_type": "code",
      "execution_count": null,
      "metadata": {
        "colab": {
          "base_uri": "https://localhost:8080/"
        },
        "id": "MIPfx_jVMsWi",
        "outputId": "efe586ec-40b7-426f-9876-8e39e9320949"
      },
      "outputs": [],
      "source": [
        "from absl import logging\n",
        "\n",
        "import tensorflow as tf\n",
        "\n",
        "import tensorflow_hub as hub\n",
        "import matplotlib.pyplot as plt\n",
        "import numpy as np\n",
        "import os\n",
        "import pandas as pd\n",
        "import re\n",
        "import seaborn as sns\n",
        "\n",
        "module_url = \"https://tfhub.dev/google/universal-sentence-encoder/4\"\n",
        "model = hub.load(module_url)\n",
        "print (\"module %s loaded\" % module_url)\n",
        "def embed(input):\n",
        "  return model(input)"
      ]
    },
    {
      "cell_type": "code",
      "execution_count": null,
      "metadata": {
        "id": "NZDmQQCCRBDp"
      },
      "outputs": [],
      "source": [
        "embeddings_df = pd.DataFrame(embed((movie_desc_df['overview'])).numpy())"
      ]
    },
    {
      "cell_type": "code",
      "execution_count": null,
      "metadata": {
        "colab": {
          "base_uri": "https://localhost:8080/"
        },
        "id": "ecMToRsMZ4Kl",
        "outputId": "a2a75cad-194e-4868-e76c-9935673a1191"
      },
      "outputs": [],
      "source": [
        "embeddings_df.index = movie_desc_df.index\n",
        "\n",
        "run = client.create_run(project_name=MLF_PROJECT_NAME, run_name=f\"embeddings\")\n",
        "cluster_fit = KMeans(n_clusters=15, random_state=0).fit(embeddings_df)\n",
        "score = silhouette_score(embeddings_df, cluster_fit.labels_, metric='euclidean', sample_size=None, random_state=None)\n",
        "run.log_metrics({'silhouette_score': score})"
      ]
    },
    {
      "cell_type": "markdown",
      "metadata": {
        "id": "f42wGSpeowcg"
      },
      "source": [
        "## Train a collaborative filtering model using `implicit`"
      ]
    },
    {
      "cell_type": "code",
      "execution_count": null,
      "metadata": {
        "id": "UPnRgMoUfhMz"
      },
      "outputs": [],
      "source": [
        "ratings_df['movieId'] = ratings_df['movieId'].astype(\"category\")\n",
        "ratings_df['userId'] = ratings_df['userId'].astype(\"category\")"
      ]
    },
    {
      "cell_type": "code",
      "execution_count": null,
      "metadata": {
        "colab": {
          "base_uri": "https://localhost:8080/"
        },
        "id": "2s1XQdWZWhBm",
        "outputId": "ebe68650-7825-41b1-f09e-f2443e0935b9"
      },
      "outputs": [],
      "source": [
        "!pip install implicit"
      ]
    },
    {
      "cell_type": "code",
      "execution_count": null,
      "metadata": {
        "colab": {
          "base_uri": "https://localhost:8080/"
        },
        "id": "XtLum0A-Xxpq",
        "outputId": "a63fcf0e-6182-41e3-f05c-2a63b6d29f6f"
      },
      "outputs": [],
      "source": [
        "from scipy.sparse import coo_matrix\n",
        "import implicit"
      ]
    },
    {
      "cell_type": "code",
      "execution_count": null,
      "metadata": {
        "id": "dDJrdKFgX0jZ"
      },
      "outputs": [],
      "source": [
        "r = coo_matrix((ratings_df['rating'], (ratings_df['userId'].cat.codes, ratings_df['movieId'].cat.codes)))"
      ]
    },
    {
      "cell_type": "code",
      "execution_count": null,
      "metadata": {
        "colab": {
          "base_uri": "https://localhost:8080/",
          "height": 140,
          "referenced_widgets": [
            "fc4358a404b24242a925991c2af43e06",
            "2de4e88ebaed463fbc0257980c9a96e3",
            "b46360078a524afca2005701e071b069",
            "50422d26ea1b4044be1ee6b5e89d19a0",
            "822d9e25b1a34bb0bf5b99ce4e48c570",
            "332dd30e9d734088937f2f04f2313cdb",
            "cb77caa8ae614fddb5b555b3c40d7178",
            "49b2cea91cf74954a51a8ce10e4ae164",
            "30fd1d959c4740f987d5f42751b0cb2d",
            "39b380cdc2864fa583d6e386fa8de9da",
            "66ac96fc61cb47aeac16e4c89456fbef"
          ]
        },
        "id": "UtPRn8qDXZE-",
        "outputId": "e9454a38-ef80-4a4b-8190-be22c14f2a2e"
      },
      "outputs": [],
      "source": [
        "import implicit\n",
        "\n",
        "model = implicit.als.AlternatingLeastSquares(factors=25)\n",
        "model.fit(r)"
      ]
    },
    {
      "cell_type": "code",
      "execution_count": null,
      "metadata": {
        "id": "3Z97WQCshYGQ"
      },
      "outputs": [],
      "source": [
        "user_category_to_code = dict([(category, code) for code, category in enumerate(ratings_df.userId.cat.categories)])\n",
        "\n",
        "def get_movie_names_from_movie_category_codes(movie_cat_codes):\n",
        "  ids = [ratings_df['movieId'].cat.categories[i] for i in movie_cat_codes]\n",
        "  return list(movie_meta_df.loc[movie_meta_df['id'].isin([str(id) for id in ids])].original_title)\n",
        "\n",
        "def get_recommendation_for_user(user_id):\n",
        "  user_cat_code = user_category_to_code[user_id]\n",
        "  return get_movie_names_from_movie_category_codes(model.recommend(user_cat_code, r.tocsr().getrow(user_cat_code))[0])\n",
        "  "
      ]
    },
    {
      "cell_type": "code",
      "execution_count": null,
      "metadata": {
        "colab": {
          "base_uri": "https://localhost:8080/"
        },
        "id": "ylEsp_8H-5ID",
        "outputId": "3673151f-e3d9-4a7f-e522-7980e4bb957e"
      },
      "outputs": [],
      "source": [
        "get_recommendation_for_user(11)"
      ]
    },
    {
      "cell_type": "markdown",
      "metadata": {
        "id": "Yb2cqnnlo1WU"
      },
      "source": [
        "## Save the model and log it to MLFoundry"
      ]
    },
    {
      "cell_type": "code",
      "execution_count": null,
      "metadata": {
        "id": "1Ft6zEaXIhom"
      },
      "outputs": [],
      "source": [
        "model.save('recommendation-model')"
      ]
    },
    {
      "cell_type": "code",
      "execution_count": null,
      "metadata": {
        "colab": {
          "base_uri": "https://localhost:8080/"
        },
        "id": "45swTVIyKdcl",
        "outputId": "ddf1b9c9-6d65-4dd5-fb59-54308b75f371"
      },
      "outputs": [],
      "source": [
        "run = client.create_run(project_name=MLF_PROJECT_NAME, run_name=f\"cf-model\")\n",
        "run.log_artifact('/content/recommendation-model.npz')\n",
        "run.log_artifact('/content/ratings_small.csv')\n",
        "run.log_artifact('/content/movies_metadata.csv')"
      ]
    },
    {
      "cell_type": "code",
      "execution_count": null,
      "metadata": {
        "id": "t9TGePtZWDNE"
      },
      "outputs": [],
      "source": [
        "# only keep movies in ratings dataset\n",
        "movie_meta_df = movie_meta_df[movie_meta_df['id'].isin(ratings_df['movieId'].astype('string'))]\n",
        "\n",
        "ratings_df['movieId'] = ratings_df['movieId'].astype(\"category\")\n",
        "ratings_df['userId'] = ratings_df['userId'].astype(\"category\")\n",
        "r = coo_matrix((ratings_df['rating'], (ratings_df['userId'].cat.codes, ratings_df['movieId'].cat.codes)))\n",
        "\n",
        "user_category_to_code = dict([(category, code) for code, category in enumerate(ratings_df.userId.cat.categories)])\n",
        "movie_category_to_code = dict([(category, code) for code, category in enumerate(ratings_df.movieId.cat.categories)])\n",
        "\n",
        "model_local_path = run.download_artifact('recommendation-model.npz')\n",
        "model = implicit.als.AlternatingLeastSquares(factors=25).load(model_local_path)\n",
        "\n",
        "def search_movie(name):\n",
        "  return (movie_meta_df.loc[movie_meta_df['original_title'].str.contains(name, case=False)][['original_title', 'id']]).to_dict('records')\n",
        "\n",
        "def find_similar_movie(movie_name):\n",
        "  search_result =search_movie(movie_name)\n",
        "  if len(search_result) > 0:\n",
        "    movie_id = search_result[0]['id']\n",
        "    movie_name = search_result[0]['original_title']\n",
        "  else:\n",
        "    return []\n",
        "  movie_cat_code = movie_category_to_code[int(movie_id)]\n",
        "  movie_cat_codes = model.similar_items(movie_cat_code)[0]\n",
        "  ids = [ratings_df['movieId'].cat.categories[i] for i in movie_cat_codes]\n",
        "  return movie_name, list(movie_meta_df.loc[movie_meta_df['id'].isin([str(id) for id in ids])].original_title)\n",
        " \n",
        "def get_movie_names_from_movie_category_codes(movie_cat_codes):\n",
        "  ids = [ratings_df['movieId'].cat.categories[i] for i in movie_cat_codes]\n",
        "  return list(movie_meta_df.loc[movie_meta_df['id'].isin([str(id) for id in ids])].original_title)\n",
        "\n",
        "def get_recommendation_for_user(user_id):\n",
        "  user_cat_code = user_category_to_code[int(user_id)]\n",
        "  movie_cat_codes = model.recommend(user_cat_code, r.tocsr().getrow(user_cat_code))[0]\n",
        "  ids = [ratings_df['movieId'].cat.categories[i] for i in movie_cat_codes]\n",
        "  return list(movie_meta_df.loc[movie_meta_df['id'].isin([str(id) for id in ids])].original_title)"
      ]
    },
    {
      "cell_type": "code",
      "execution_count": null,
      "metadata": {
        "id": "usdCFUNuWYg2"
      },
      "outputs": [],
      "source": [
        "def get_recommendation_for_user_given_movie(user_id, movie_name):\n",
        "  search_result =search_movie(movie_name)\n",
        "  if len(search_result) > 0:\n",
        "    movie_id = search_result[0]['id']\n",
        "    movie_name = search_result[0]['original_title']\n",
        "  else:\n",
        "    return []\n",
        "  movie_cat_code = movie_category_to_code[int(movie_id)]\n",
        "  user_cat_code = user_category_to_code[int(user_id)]\n",
        "  movie_cat_codes = model.rank_items(user_cat_code, r.tocsr().getrow(user_cat_code), model.similar_items(movie_cat_code)[0])[0]\n",
        "  ids = [ratings_df['movieId'].cat.categories[i] for i in movie_cat_codes]\n",
        "  return list(movie_meta_df.loc[movie_meta_df['id'].isin([str(id) for id in ids])].original_title)"
      ]
    },
    {
      "cell_type": "code",
      "execution_count": null,
      "metadata": {
        "colab": {
          "base_uri": "https://localhost:8080/"
        },
        "id": "qfbg4NGVXfdA",
        "outputId": "edf158f0-f67e-4116-ffdc-bb64627d2533"
      },
      "outputs": [],
      "source": [
        "get_recommendation_for_user_given_movie(10, 'Shawshank Redemption')"
      ]
    },
    {
      "cell_type": "markdown",
      "metadata": {
        "id": "yZtmgqiHo6CP"
      },
      "source": [
        "## Deploy the app using ServiceFoundry"
      ]
    },
    {
      "cell_type": "code",
      "execution_count": null,
      "metadata": {
        "colab": {
          "base_uri": "https://localhost:8080/"
        },
        "id": "A8yf7qzCHHlr",
        "outputId": "72def6c7-59a7-4b43-beef-d6e72d66e80f"
      },
      "outputs": [],
      "source": [
        "%%writefile predict.py\n",
        "\n",
        "import os\n",
        "import mlfoundry\n",
        "import implicit\n",
        "import pandas as pd\n",
        "from scipy.sparse import coo_matrix\n",
        "from fastapi import FastAPI\n",
        "\n",
        "app = FastAPI(docs_url=\"/\")\n",
        "\n",
        "client = mlfoundry.get_client(api_key=os.getenv('TFY_API_KEY'))\n",
        "run = client.get_run(os.getenv('MLF_RUN_FQN'))\n",
        "\n",
        "movies_local_path = run.download_artifact('movies_metadata.csv')\n",
        "ratings_local_path = run.download_artifact('ratings_small.csv')\n",
        "\n",
        "movie_meta_df = pd.read_csv(movies_local_path)\n",
        "ratings_df = pd.read_csv(ratings_local_path)\n",
        "\n",
        "# only keep movies in ratings dataset\n",
        "movie_meta_df = movie_meta_df[movie_meta_df['id'].isin(ratings_df['movieId'].astype('string'))]\n",
        "\n",
        "ratings_df['movieId'] = ratings_df['movieId'].astype(\"category\")\n",
        "ratings_df['userId'] = ratings_df['userId'].astype(\"category\")\n",
        "r = coo_matrix((ratings_df['rating'], (ratings_df['userId'].cat.codes, ratings_df['movieId'].cat.codes)))\n",
        "\n",
        "user_category_to_code = dict([(category, code) for code, category in enumerate(ratings_df.userId.cat.categories)])\n",
        "movie_category_to_code = dict([(category, code) for code, category in enumerate(ratings_df.movieId.cat.categories)])\n",
        "\n",
        "model_local_path = run.download_artifact('recommendation-model.npz')\n",
        "model = implicit.als.AlternatingLeastSquares(factors=25).load(model_local_path)\n",
        "\n",
        "def search_movie(name):\n",
        "  return (movie_meta_df.loc[movie_meta_df['original_title'].str.contains(name, case=False)][['original_title', 'id']]).to_dict('records')\n",
        "\n",
        "def find_similar_movie(movie_name):\n",
        "  search_result =search_movie(movie_name)\n",
        "  if len(search_result) > 0:\n",
        "    movie_id = search_result[0]['id']\n",
        "    movie_name = search_result[0]['original_title']\n",
        "  else:\n",
        "    return []\n",
        "  movie_cat_code = movie_category_to_code[int(movie_id)]\n",
        "  movie_cat_codes = model.similar_items(movie_cat_code)[0]\n",
        "  ids = [ratings_df['movieId'].cat.categories[i] for i in movie_cat_codes]\n",
        "  return movie_name, list(movie_meta_df.loc[movie_meta_df['id'].isin([str(id) for id in ids])].original_title)\n",
        " \n",
        "def get_movie_names_from_movie_category_codes(movie_cat_codes):\n",
        "  ids = [ratings_df['movieId'].cat.categories[i] for i in movie_cat_codes]\n",
        "  return list(movie_meta_df.loc[movie_meta_df['id'].isin([str(id) for id in ids])].original_title)\n",
        "\n",
        "@app.get(\"/recommendations\")\n",
        "def get_recommendation_for_user(user_id):\n",
        "  user_cat_code = user_category_to_code[int(user_id)]\n",
        "  movie_cat_codes = model.recommend(user_cat_code, r.tocsr().getrow(user_cat_code))[0]\n",
        "  ids = [ratings_df['movieId'].cat.categories[i] for i in movie_cat_codes]\n",
        "  return list(movie_meta_df.loc[movie_meta_df['id'].isin([str(id) for id in ids])].original_title)\n",
        "\n",
        "@app.get(\"/similar-movies\")\n",
        "def get_similar_movies_for_user(user_id, movie_name):\n",
        "  search_result =search_movie(movie_name)\n",
        "  if len(search_result) > 0:\n",
        "    movie_id = search_result[0]['id']\n",
        "    movie_name = search_result[0]['original_title']\n",
        "  else:\n",
        "    return []\n",
        "  movie_cat_code = movie_category_to_code[int(movie_id)]\n",
        "  user_cat_code = user_category_to_code[int(user_id)]\n",
        "  movie_cat_codes = model.rank_items(user_cat_code, r.tocsr().getrow(user_cat_code), model.similar_items(movie_cat_code)[0])[0]\n",
        "  ids = [ratings_df['movieId'].cat.categories[i] for i in movie_cat_codes]\n",
        "  return list(movie_meta_df.loc[movie_meta_df['id'].isin([str(id) for id in ids])].original_title)"
      ]
    },
    {
      "cell_type": "code",
      "execution_count": null,
      "metadata": {
        "colab": {
          "base_uri": "https://localhost:8080/"
        },
        "id": "xBKWZCOu9IIJ",
        "outputId": "89daa76c-1146-44b7-e24b-2bd586e71cbc"
      },
      "outputs": [],
      "source": [
        "%%writefile requirements.txt\n",
        "\n",
        "mlfoundry\n",
        "implicit\n",
        "pandas\n",
        "scikit-learn\n",
        "fastapi\n",
        "uvicorn"
      ]
    },
    {
      "cell_type": "code",
      "execution_count": null,
      "metadata": {
        "id": "7yJkZd7YQuQ8"
      },
      "outputs": [],
      "source": [
        "import logging\n",
        "logging.basicConfig(level=logging.INFO, format='%(asctime)s %(name)-12s %(levelname)-8s %(message)s', force=True)\n",
        "\n",
        "from servicefoundry import Build, Service, PythonBuild\n",
        "\n",
        "\n",
        "service = Service(\n",
        "    name=\"movie-pred-svc\",\n",
        "    image=Build(\n",
        "        build_spec=PythonBuild(\n",
        "            command=\"uvicorn predict:app --port 8000 --host 0.0.0.0\",\n",
        "            requirements_path=\"requirements.txt\",\n",
        "        )\n",
        "    ),\n",
        "    ports=[{\"port\": 8000}],\n",
        "    env={\n",
        "        \"TFY_HOST\": os.getenv(\"TFY_HOST\"),\n",
        "        \"TFY_API_KEY\": os.getenv(\"TFY_API_KEY\"),\n",
        "        # replace with your RUN FQN\n",
        "        \"MLF_RUN_FQN\": 'truefoundry/akash/movie-clustering-nov-12/cf-model'\n",
        "    },\n",
        ")\n",
        "deployment = service.deploy(workspace_fqn=WORKSPACE)"
      ]
    }
  ],
  "metadata": {
    "colab": {
      "collapsed_sections": [],
      "provenance": []
    },
    "kernelspec": {
      "display_name": "Python 3.9.13 64-bit",
      "language": "python",
      "name": "python3"
    },
    "language_info": {
      "name": "python",
      "version": "3.9.13"
    },
    "vscode": {
      "interpreter": {
        "hash": "b0fa6594d8f4cbf19f97940f81e996739fb7646882a419484c72d19e05852a7e"
      }
    },
    "widgets": {
      "application/vnd.jupyter.widget-state+json": {
        "2de4e88ebaed463fbc0257980c9a96e3": {
          "model_module": "@jupyter-widgets/controls",
          "model_module_version": "1.5.0",
          "model_name": "HTMLModel",
          "state": {
            "_dom_classes": [],
            "_model_module": "@jupyter-widgets/controls",
            "_model_module_version": "1.5.0",
            "_model_name": "HTMLModel",
            "_view_count": null,
            "_view_module": "@jupyter-widgets/controls",
            "_view_module_version": "1.5.0",
            "_view_name": "HTMLView",
            "description": "",
            "description_tooltip": null,
            "layout": "IPY_MODEL_332dd30e9d734088937f2f04f2313cdb",
            "placeholder": "​",
            "style": "IPY_MODEL_cb77caa8ae614fddb5b555b3c40d7178",
            "value": "100%"
          }
        },
        "30fd1d959c4740f987d5f42751b0cb2d": {
          "model_module": "@jupyter-widgets/controls",
          "model_module_version": "1.5.0",
          "model_name": "ProgressStyleModel",
          "state": {
            "_model_module": "@jupyter-widgets/controls",
            "_model_module_version": "1.5.0",
            "_model_name": "ProgressStyleModel",
            "_view_count": null,
            "_view_module": "@jupyter-widgets/base",
            "_view_module_version": "1.2.0",
            "_view_name": "StyleView",
            "bar_color": null,
            "description_width": ""
          }
        },
        "332dd30e9d734088937f2f04f2313cdb": {
          "model_module": "@jupyter-widgets/base",
          "model_module_version": "1.2.0",
          "model_name": "LayoutModel",
          "state": {
            "_model_module": "@jupyter-widgets/base",
            "_model_module_version": "1.2.0",
            "_model_name": "LayoutModel",
            "_view_count": null,
            "_view_module": "@jupyter-widgets/base",
            "_view_module_version": "1.2.0",
            "_view_name": "LayoutView",
            "align_content": null,
            "align_items": null,
            "align_self": null,
            "border": null,
            "bottom": null,
            "display": null,
            "flex": null,
            "flex_flow": null,
            "grid_area": null,
            "grid_auto_columns": null,
            "grid_auto_flow": null,
            "grid_auto_rows": null,
            "grid_column": null,
            "grid_gap": null,
            "grid_row": null,
            "grid_template_areas": null,
            "grid_template_columns": null,
            "grid_template_rows": null,
            "height": null,
            "justify_content": null,
            "justify_items": null,
            "left": null,
            "margin": null,
            "max_height": null,
            "max_width": null,
            "min_height": null,
            "min_width": null,
            "object_fit": null,
            "object_position": null,
            "order": null,
            "overflow": null,
            "overflow_x": null,
            "overflow_y": null,
            "padding": null,
            "right": null,
            "top": null,
            "visibility": null,
            "width": null
          }
        },
        "39b380cdc2864fa583d6e386fa8de9da": {
          "model_module": "@jupyter-widgets/base",
          "model_module_version": "1.2.0",
          "model_name": "LayoutModel",
          "state": {
            "_model_module": "@jupyter-widgets/base",
            "_model_module_version": "1.2.0",
            "_model_name": "LayoutModel",
            "_view_count": null,
            "_view_module": "@jupyter-widgets/base",
            "_view_module_version": "1.2.0",
            "_view_name": "LayoutView",
            "align_content": null,
            "align_items": null,
            "align_self": null,
            "border": null,
            "bottom": null,
            "display": null,
            "flex": null,
            "flex_flow": null,
            "grid_area": null,
            "grid_auto_columns": null,
            "grid_auto_flow": null,
            "grid_auto_rows": null,
            "grid_column": null,
            "grid_gap": null,
            "grid_row": null,
            "grid_template_areas": null,
            "grid_template_columns": null,
            "grid_template_rows": null,
            "height": null,
            "justify_content": null,
            "justify_items": null,
            "left": null,
            "margin": null,
            "max_height": null,
            "max_width": null,
            "min_height": null,
            "min_width": null,
            "object_fit": null,
            "object_position": null,
            "order": null,
            "overflow": null,
            "overflow_x": null,
            "overflow_y": null,
            "padding": null,
            "right": null,
            "top": null,
            "visibility": null,
            "width": null
          }
        },
        "49b2cea91cf74954a51a8ce10e4ae164": {
          "model_module": "@jupyter-widgets/base",
          "model_module_version": "1.2.0",
          "model_name": "LayoutModel",
          "state": {
            "_model_module": "@jupyter-widgets/base",
            "_model_module_version": "1.2.0",
            "_model_name": "LayoutModel",
            "_view_count": null,
            "_view_module": "@jupyter-widgets/base",
            "_view_module_version": "1.2.0",
            "_view_name": "LayoutView",
            "align_content": null,
            "align_items": null,
            "align_self": null,
            "border": null,
            "bottom": null,
            "display": null,
            "flex": null,
            "flex_flow": null,
            "grid_area": null,
            "grid_auto_columns": null,
            "grid_auto_flow": null,
            "grid_auto_rows": null,
            "grid_column": null,
            "grid_gap": null,
            "grid_row": null,
            "grid_template_areas": null,
            "grid_template_columns": null,
            "grid_template_rows": null,
            "height": null,
            "justify_content": null,
            "justify_items": null,
            "left": null,
            "margin": null,
            "max_height": null,
            "max_width": null,
            "min_height": null,
            "min_width": null,
            "object_fit": null,
            "object_position": null,
            "order": null,
            "overflow": null,
            "overflow_x": null,
            "overflow_y": null,
            "padding": null,
            "right": null,
            "top": null,
            "visibility": null,
            "width": null
          }
        },
        "50422d26ea1b4044be1ee6b5e89d19a0": {
          "model_module": "@jupyter-widgets/controls",
          "model_module_version": "1.5.0",
          "model_name": "HTMLModel",
          "state": {
            "_dom_classes": [],
            "_model_module": "@jupyter-widgets/controls",
            "_model_module_version": "1.5.0",
            "_model_name": "HTMLModel",
            "_view_count": null,
            "_view_module": "@jupyter-widgets/controls",
            "_view_module_version": "1.5.0",
            "_view_name": "HTMLView",
            "description": "",
            "description_tooltip": null,
            "layout": "IPY_MODEL_39b380cdc2864fa583d6e386fa8de9da",
            "placeholder": "​",
            "style": "IPY_MODEL_66ac96fc61cb47aeac16e4c89456fbef",
            "value": " 15/15 [00:09&lt;00:00,  1.30it/s]"
          }
        },
        "66ac96fc61cb47aeac16e4c89456fbef": {
          "model_module": "@jupyter-widgets/controls",
          "model_module_version": "1.5.0",
          "model_name": "DescriptionStyleModel",
          "state": {
            "_model_module": "@jupyter-widgets/controls",
            "_model_module_version": "1.5.0",
            "_model_name": "DescriptionStyleModel",
            "_view_count": null,
            "_view_module": "@jupyter-widgets/base",
            "_view_module_version": "1.2.0",
            "_view_name": "StyleView",
            "description_width": ""
          }
        },
        "822d9e25b1a34bb0bf5b99ce4e48c570": {
          "model_module": "@jupyter-widgets/base",
          "model_module_version": "1.2.0",
          "model_name": "LayoutModel",
          "state": {
            "_model_module": "@jupyter-widgets/base",
            "_model_module_version": "1.2.0",
            "_model_name": "LayoutModel",
            "_view_count": null,
            "_view_module": "@jupyter-widgets/base",
            "_view_module_version": "1.2.0",
            "_view_name": "LayoutView",
            "align_content": null,
            "align_items": null,
            "align_self": null,
            "border": null,
            "bottom": null,
            "display": null,
            "flex": null,
            "flex_flow": null,
            "grid_area": null,
            "grid_auto_columns": null,
            "grid_auto_flow": null,
            "grid_auto_rows": null,
            "grid_column": null,
            "grid_gap": null,
            "grid_row": null,
            "grid_template_areas": null,
            "grid_template_columns": null,
            "grid_template_rows": null,
            "height": null,
            "justify_content": null,
            "justify_items": null,
            "left": null,
            "margin": null,
            "max_height": null,
            "max_width": null,
            "min_height": null,
            "min_width": null,
            "object_fit": null,
            "object_position": null,
            "order": null,
            "overflow": null,
            "overflow_x": null,
            "overflow_y": null,
            "padding": null,
            "right": null,
            "top": null,
            "visibility": null,
            "width": null
          }
        },
        "b46360078a524afca2005701e071b069": {
          "model_module": "@jupyter-widgets/controls",
          "model_module_version": "1.5.0",
          "model_name": "FloatProgressModel",
          "state": {
            "_dom_classes": [],
            "_model_module": "@jupyter-widgets/controls",
            "_model_module_version": "1.5.0",
            "_model_name": "FloatProgressModel",
            "_view_count": null,
            "_view_module": "@jupyter-widgets/controls",
            "_view_module_version": "1.5.0",
            "_view_name": "ProgressView",
            "bar_style": "success",
            "description": "",
            "description_tooltip": null,
            "layout": "IPY_MODEL_49b2cea91cf74954a51a8ce10e4ae164",
            "max": 15,
            "min": 0,
            "orientation": "horizontal",
            "style": "IPY_MODEL_30fd1d959c4740f987d5f42751b0cb2d",
            "value": 15
          }
        },
        "cb77caa8ae614fddb5b555b3c40d7178": {
          "model_module": "@jupyter-widgets/controls",
          "model_module_version": "1.5.0",
          "model_name": "DescriptionStyleModel",
          "state": {
            "_model_module": "@jupyter-widgets/controls",
            "_model_module_version": "1.5.0",
            "_model_name": "DescriptionStyleModel",
            "_view_count": null,
            "_view_module": "@jupyter-widgets/base",
            "_view_module_version": "1.2.0",
            "_view_name": "StyleView",
            "description_width": ""
          }
        },
        "fc4358a404b24242a925991c2af43e06": {
          "model_module": "@jupyter-widgets/controls",
          "model_module_version": "1.5.0",
          "model_name": "HBoxModel",
          "state": {
            "_dom_classes": [],
            "_model_module": "@jupyter-widgets/controls",
            "_model_module_version": "1.5.0",
            "_model_name": "HBoxModel",
            "_view_count": null,
            "_view_module": "@jupyter-widgets/controls",
            "_view_module_version": "1.5.0",
            "_view_name": "HBoxView",
            "box_style": "",
            "children": [
              "IPY_MODEL_2de4e88ebaed463fbc0257980c9a96e3",
              "IPY_MODEL_b46360078a524afca2005701e071b069",
              "IPY_MODEL_50422d26ea1b4044be1ee6b5e89d19a0"
            ],
            "layout": "IPY_MODEL_822d9e25b1a34bb0bf5b99ce4e48c570"
          }
        }
      }
    }
  },
  "nbformat": 4,
  "nbformat_minor": 0
}
