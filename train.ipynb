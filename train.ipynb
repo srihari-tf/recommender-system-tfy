{
  "cells": [
    {
      "cell_type": "code",
      "execution_count": 1,
      "metadata": {
        "id": "uj3MPYSuWPz5"
      },
      "outputs": [],
      "source": [
        "!rm -rf sample_data/"
      ]
    },
    {
      "cell_type": "markdown",
      "metadata": {
        "id": "EXhZSWwfoNPz"
      },
      "source": [
        "## Install libraries"
      ]
    },
    {
      "cell_type": "code",
      "execution_count": 2,
      "metadata": {
        "colab": {
          "base_uri": "https://localhost:8080/"
        },
        "id": "dd4dyaYzeh4V",
        "outputId": "a0bf887e-4d04-4a4f-dd9d-3f6c367d0c3f"
      },
      "outputs": [
        {
          "name": "stdout",
          "output_type": "stream",
          "text": [
            "\u001b[K     |████████████████████████████████| 116 kB 6.3 MB/s \n",
            "\u001b[K     |████████████████████████████████| 281 kB 11.6 MB/s \n",
            "\u001b[K     |████████████████████████████████| 3.4 MB 15.7 MB/s \n",
            "\u001b[K     |████████████████████████████████| 1.2 MB 37.2 MB/s \n",
            "\u001b[K     |████████████████████████████████| 132 kB 48.5 MB/s \n",
            "\u001b[K     |████████████████████████████████| 181 kB 44.4 MB/s \n",
            "\u001b[K     |████████████████████████████████| 2.1 MB 43.4 MB/s \n",
            "\u001b[K     |████████████████████████████████| 77 kB 4.5 MB/s \n",
            "\u001b[K     |████████████████████████████████| 596 kB 45.6 MB/s \n",
            "\u001b[K     |████████████████████████████████| 79 kB 5.4 MB/s \n",
            "\u001b[K     |████████████████████████████████| 9.0 MB 43.7 MB/s \n",
            "\u001b[K     |████████████████████████████████| 139 kB 12.0 MB/s \n",
            "\u001b[K     |████████████████████████████████| 59 kB 5.1 MB/s \n",
            "\u001b[K     |████████████████████████████████| 141 kB 42.7 MB/s \n",
            "\u001b[K     |████████████████████████████████| 1.6 MB 9.7 MB/s \n",
            "\u001b[K     |████████████████████████████████| 63 kB 702 kB/s \n",
            "\u001b[K     |████████████████████████████████| 127 kB 43.8 MB/s \n",
            "\u001b[K     |████████████████████████████████| 410 kB 46.9 MB/s \n",
            "\u001b[K     |████████████████████████████████| 183 kB 43.8 MB/s \n",
            "\u001b[?25h  Building wheel for databricks-cli (setup.py) ... \u001b[?25l\u001b[?25hdone\n",
            "  Building wheel for thrift (setup.py) ... \u001b[?25l\u001b[?25hdone\n",
            "\u001b[K     |████████████████████████████████| 105 kB 7.7 MB/s \n",
            "\u001b[K     |████████████████████████████████| 78 kB 7.3 MB/s \n",
            "\u001b[K     |████████████████████████████████| 1.1 MB 57.2 MB/s \n",
            "\u001b[K     |████████████████████████████████| 96 kB 558 kB/s \n",
            "\u001b[K     |████████████████████████████████| 235 kB 67.5 MB/s \n",
            "\u001b[K     |████████████████████████████████| 62 kB 1.8 MB/s \n",
            "\u001b[K     |████████████████████████████████| 56 kB 5.2 MB/s \n",
            "\u001b[K     |████████████████████████████████| 56 kB 5.3 MB/s \n",
            "\u001b[K     |████████████████████████████████| 52 kB 1.6 MB/s \n",
            "\u001b[K     |████████████████████████████████| 54 kB 3.3 MB/s \n",
            "\u001b[K     |████████████████████████████████| 381 kB 51.6 MB/s \n",
            "\u001b[K     |████████████████████████████████| 51 kB 8.2 MB/s \n",
            "\u001b[31mERROR: pip's dependency resolver does not currently take into account all the packages that are installed. This behaviour is the source of the following dependency conflicts.\n",
            "nbclient 0.6.6 requires jupyter-client>=6.1.5, but you have jupyter-client 5.3.5 which is incompatible.\n",
            "nbclient 0.6.6 requires traitlets>=5.2.2, but you have traitlets 5.1.1 which is incompatible.\n",
            "jupyter-console 5.2.0 requires prompt-toolkit<2.0.0,>=1.0.0, but you have prompt-toolkit 3.0.30 which is incompatible.\n",
            "ipython 5.5.0 requires prompt-toolkit<2.0.0,>=1.0.4, but you have prompt-toolkit 3.0.30 which is incompatible.\n",
            "flask 1.1.4 requires click<8.0,>=5.1, but you have click 8.1.3 which is incompatible.\u001b[0m\n",
            "\u001b[?25h"
          ]
        }
      ],
      "source": [
        "!pip install -U --quiet mlfoundry\n",
        "!pip install -U --quiet servicefoundry==0.1.69"
      ]
    },
    {
      "cell_type": "code",
      "execution_count": null,
      "metadata": {},
      "outputs": [],
      "source": []
    },
    {
      "cell_type": "markdown",
      "metadata": {
        "id": "8HxrOIwMoUzn"
      },
      "source": [
        "## Load datasets"
      ]
    },
    {
      "cell_type": "code",
      "execution_count": 24,
      "metadata": {
        "colab": {
          "base_uri": "https://localhost:8080/"
        },
        "id": "k2pTfPnUD7Nm",
        "outputId": "e50d5edb-4ee8-4cc9-e7c5-4fcea61e211e"
      },
      "outputs": [
        {
          "name": "stderr",
          "output_type": "stream",
          "text": [
            "/usr/local/lib/python3.7/dist-packages/IPython/core/interactiveshell.py:2882: DtypeWarning: Columns (10) have mixed types.Specify dtype option on import or set low_memory=False.\n",
            "  exec(code_obj, self.user_global_ns, self.user_ns)\n"
          ]
        }
      ],
      "source": [
        "# load our datasets as dataframes\n",
        "import pandas as pd\n",
        "\n",
        "movie_meta_df = pd.read_csv('https://raw.githubusercontent.com/srihari-tf/recommender-system-tfy/master/movies_metadata.csv')\n",
        "keywords_df = pd.read_csv('https://raw.githubusercontent.com/srihari-tf/recommender-system-tfy/master/keywords.csv')\n",
        "ratings_df = pd.read_csv(\"https://raw.githubusercontent.com/srihari-tf/recommender-system-tfy/master/ratings_small.csv\")\n",
        "\n",
        "movie_meta_df = movie_meta_df[movie_meta_df['id'].isin(ratings_df['movieId'].astype('string'))]"
      ]
    },
    {
      "cell_type": "code",
      "execution_count": 4,
      "metadata": {
        "colab": {
          "base_uri": "https://localhost:8080/"
        },
        "id": "z_deReVjl5Nn",
        "outputId": "5935e482-277c-4430-9d48-2ef43ce7ff5f"
      },
      "outputs": [
        {
          "name": "stdout",
          "output_type": "stream",
          "text": [
            "  % Total    % Received % Xferd  Average Speed   Time    Time     Time  Current\n",
            "                                 Dload  Upload   Total   Spent    Left  Speed\n",
            "100 32.8M  100 32.8M    0     0   211M      0 --:--:-- --:--:-- --:--:--  211M\n",
            "  % Total    % Received % Xferd  Average Speed   Time    Time     Time  Current\n",
            "                                 Dload  Upload   Total   Spent    Left  Speed\n",
            "100 2381k  100 2381k    0     0  31.0M      0 --:--:-- --:--:-- --:--:-- 31.0M\n"
          ]
        }
      ],
      "source": [
        "!curl -O https://raw.githubusercontent.com/srihari-tf/recommender-system-tfy/master/movies_metadata.csv\n",
        "!curl -O https://raw.githubusercontent.com/srihari-tf/recommender-system-tfy/master/ratings_small.csv"
      ]
    },
    {
      "cell_type": "markdown",
      "metadata": {
        "id": "oJx5r1C2oZy_"
      },
      "source": [
        "## Clean dataset"
      ]
    },
    {
      "cell_type": "code",
      "execution_count": 25,
      "metadata": {
        "id": "AKBZZNjwMPG7"
      },
      "outputs": [],
      "source": [
        "meta_df = movie_meta_df.copy()\n",
        "meta_df.drop(['belongs_to_collection', 'homepage', 'tagline', 'poster_path', 'overview', 'imdb_id', 'spoken_languages'], inplace=True, axis=1)\n",
        "meta_df.dropna(inplace=True)"
      ]
    },
    {
      "cell_type": "code",
      "execution_count": 26,
      "metadata": {
        "id": "_ukLxy4TMReV"
      },
      "outputs": [],
      "source": [
        "import ast\n",
        "\n",
        "column_changes = ['production_companies', 'production_countries', 'genres']\n",
        "json_shrinker_dict = dict({'production_companies': list(), 'production_countries': list(), 'genres': list()})\n",
        "\n",
        "for col in column_changes:\n",
        "    if col == 'production_companies':\n",
        "        for i in meta_df[col]:\n",
        "            i = ast.literal_eval(i)\n",
        "            if len(i) < 1:\n",
        "                json_shrinker_dict['production_companies'].append(None)\n",
        "\n",
        "            for element in i:\n",
        "                json_shrinker_dict['production_companies'].append(element['name'])\n",
        "                break\n",
        "    elif col == 'production_countries':\n",
        "        for i in meta_df[col]:\n",
        "            i = ast.literal_eval(i)\n",
        "            if len(i) < 1:\n",
        "                json_shrinker_dict['production_countries'].append(None)\n",
        "            for element in i:\n",
        "                json_shrinker_dict['production_countries'].append(element['iso_3166_1'])\n",
        "                break\n",
        "    else:\n",
        "        for i in meta_df[col]:\n",
        "            i = ast.literal_eval(i)\n",
        "            if len(i) < 1:\n",
        "                json_shrinker_dict['genres'].append(None)\n",
        "\n",
        "            for element in i:\n",
        "                json_shrinker_dict['genres'].append(element['name'])\n",
        "                break"
      ]
    },
    {
      "cell_type": "code",
      "execution_count": 27,
      "metadata": {
        "colab": {
          "base_uri": "https://localhost:8080/",
          "height": 305
        },
        "id": "jp81ahBlMhzY",
        "outputId": "b1dd471c-747b-4c7d-fd15-32421a486719"
      },
      "outputs": [
        {
          "data": {
            "text/html": [
              "\n",
              "  <div id=\"df-3e7d4c44-684b-4e0d-a6c8-384238a9066d\">\n",
              "    <div class=\"colab-df-container\">\n",
              "      <div>\n",
              "<style scoped>\n",
              "    .dataframe tbody tr th:only-of-type {\n",
              "        vertical-align: middle;\n",
              "    }\n",
              "\n",
              "    .dataframe tbody tr th {\n",
              "        vertical-align: top;\n",
              "    }\n",
              "\n",
              "    .dataframe thead th {\n",
              "        text-align: right;\n",
              "    }\n",
              "</style>\n",
              "<table border=\"1\" class=\"dataframe\">\n",
              "  <thead>\n",
              "    <tr style=\"text-align: right;\">\n",
              "      <th></th>\n",
              "      <th>adult</th>\n",
              "      <th>budget</th>\n",
              "      <th>genres</th>\n",
              "      <th>id</th>\n",
              "      <th>original_language</th>\n",
              "      <th>original_title</th>\n",
              "      <th>popularity</th>\n",
              "      <th>production_companies</th>\n",
              "      <th>production_countries</th>\n",
              "      <th>release_date</th>\n",
              "      <th>revenue</th>\n",
              "      <th>runtime</th>\n",
              "      <th>status</th>\n",
              "      <th>title</th>\n",
              "      <th>video</th>\n",
              "      <th>vote_average</th>\n",
              "      <th>vote_count</th>\n",
              "    </tr>\n",
              "  </thead>\n",
              "  <tbody>\n",
              "    <tr>\n",
              "      <th>5</th>\n",
              "      <td>False</td>\n",
              "      <td>60000000</td>\n",
              "      <td>Action</td>\n",
              "      <td>949</td>\n",
              "      <td>en</td>\n",
              "      <td>Heat</td>\n",
              "      <td>17.924927</td>\n",
              "      <td>Regency Enterprises</td>\n",
              "      <td>US</td>\n",
              "      <td>1995-12-15</td>\n",
              "      <td>187436818.0</td>\n",
              "      <td>170.0</td>\n",
              "      <td>Released</td>\n",
              "      <td>Heat</td>\n",
              "      <td>False</td>\n",
              "      <td>7.7</td>\n",
              "      <td>1886.0</td>\n",
              "    </tr>\n",
              "    <tr>\n",
              "      <th>9</th>\n",
              "      <td>False</td>\n",
              "      <td>58000000</td>\n",
              "      <td>Adventure</td>\n",
              "      <td>710</td>\n",
              "      <td>en</td>\n",
              "      <td>GoldenEye</td>\n",
              "      <td>14.686036</td>\n",
              "      <td>United Artists</td>\n",
              "      <td>GB</td>\n",
              "      <td>1995-11-16</td>\n",
              "      <td>352194034.0</td>\n",
              "      <td>130.0</td>\n",
              "      <td>Released</td>\n",
              "      <td>GoldenEye</td>\n",
              "      <td>False</td>\n",
              "      <td>6.6</td>\n",
              "      <td>1194.0</td>\n",
              "    </tr>\n",
              "    <tr>\n",
              "      <th>14</th>\n",
              "      <td>False</td>\n",
              "      <td>98000000</td>\n",
              "      <td>Action</td>\n",
              "      <td>1408</td>\n",
              "      <td>en</td>\n",
              "      <td>Cutthroat Island</td>\n",
              "      <td>7.284477</td>\n",
              "      <td>Le Studio Canal+</td>\n",
              "      <td>FR</td>\n",
              "      <td>1995-12-22</td>\n",
              "      <td>10017322.0</td>\n",
              "      <td>119.0</td>\n",
              "      <td>Released</td>\n",
              "      <td>Cutthroat Island</td>\n",
              "      <td>False</td>\n",
              "      <td>5.7</td>\n",
              "      <td>137.0</td>\n",
              "    </tr>\n",
              "    <tr>\n",
              "      <th>15</th>\n",
              "      <td>False</td>\n",
              "      <td>52000000</td>\n",
              "      <td>Drama</td>\n",
              "      <td>524</td>\n",
              "      <td>en</td>\n",
              "      <td>Casino</td>\n",
              "      <td>10.137389</td>\n",
              "      <td>Universal Pictures</td>\n",
              "      <td>FR</td>\n",
              "      <td>1995-11-22</td>\n",
              "      <td>116112375.0</td>\n",
              "      <td>178.0</td>\n",
              "      <td>Released</td>\n",
              "      <td>Casino</td>\n",
              "      <td>False</td>\n",
              "      <td>7.8</td>\n",
              "      <td>1343.0</td>\n",
              "    </tr>\n",
              "    <tr>\n",
              "      <th>16</th>\n",
              "      <td>False</td>\n",
              "      <td>16500000</td>\n",
              "      <td>Drama</td>\n",
              "      <td>4584</td>\n",
              "      <td>en</td>\n",
              "      <td>Sense and Sensibility</td>\n",
              "      <td>10.673167</td>\n",
              "      <td>Columbia Pictures Corporation</td>\n",
              "      <td>GB</td>\n",
              "      <td>1995-12-13</td>\n",
              "      <td>135000000.0</td>\n",
              "      <td>136.0</td>\n",
              "      <td>Released</td>\n",
              "      <td>Sense and Sensibility</td>\n",
              "      <td>False</td>\n",
              "      <td>7.2</td>\n",
              "      <td>364.0</td>\n",
              "    </tr>\n",
              "  </tbody>\n",
              "</table>\n",
              "</div>\n",
              "      <button class=\"colab-df-convert\" onclick=\"convertToInteractive('df-3e7d4c44-684b-4e0d-a6c8-384238a9066d')\"\n",
              "              title=\"Convert this dataframe to an interactive table.\"\n",
              "              style=\"display:none;\">\n",
              "        \n",
              "  <svg xmlns=\"http://www.w3.org/2000/svg\" height=\"24px\"viewBox=\"0 0 24 24\"\n",
              "       width=\"24px\">\n",
              "    <path d=\"M0 0h24v24H0V0z\" fill=\"none\"/>\n",
              "    <path d=\"M18.56 5.44l.94 2.06.94-2.06 2.06-.94-2.06-.94-.94-2.06-.94 2.06-2.06.94zm-11 1L8.5 8.5l.94-2.06 2.06-.94-2.06-.94L8.5 2.5l-.94 2.06-2.06.94zm10 10l.94 2.06.94-2.06 2.06-.94-2.06-.94-.94-2.06-.94 2.06-2.06.94z\"/><path d=\"M17.41 7.96l-1.37-1.37c-.4-.4-.92-.59-1.43-.59-.52 0-1.04.2-1.43.59L10.3 9.45l-7.72 7.72c-.78.78-.78 2.05 0 2.83L4 21.41c.39.39.9.59 1.41.59.51 0 1.02-.2 1.41-.59l7.78-7.78 2.81-2.81c.8-.78.8-2.07 0-2.86zM5.41 20L4 18.59l7.72-7.72 1.47 1.35L5.41 20z\"/>\n",
              "  </svg>\n",
              "      </button>\n",
              "      \n",
              "  <style>\n",
              "    .colab-df-container {\n",
              "      display:flex;\n",
              "      flex-wrap:wrap;\n",
              "      gap: 12px;\n",
              "    }\n",
              "\n",
              "    .colab-df-convert {\n",
              "      background-color: #E8F0FE;\n",
              "      border: none;\n",
              "      border-radius: 50%;\n",
              "      cursor: pointer;\n",
              "      display: none;\n",
              "      fill: #1967D2;\n",
              "      height: 32px;\n",
              "      padding: 0 0 0 0;\n",
              "      width: 32px;\n",
              "    }\n",
              "\n",
              "    .colab-df-convert:hover {\n",
              "      background-color: #E2EBFA;\n",
              "      box-shadow: 0px 1px 2px rgba(60, 64, 67, 0.3), 0px 1px 3px 1px rgba(60, 64, 67, 0.15);\n",
              "      fill: #174EA6;\n",
              "    }\n",
              "\n",
              "    [theme=dark] .colab-df-convert {\n",
              "      background-color: #3B4455;\n",
              "      fill: #D2E3FC;\n",
              "    }\n",
              "\n",
              "    [theme=dark] .colab-df-convert:hover {\n",
              "      background-color: #434B5C;\n",
              "      box-shadow: 0px 1px 3px 1px rgba(0, 0, 0, 0.15);\n",
              "      filter: drop-shadow(0px 1px 2px rgba(0, 0, 0, 0.3));\n",
              "      fill: #FFFFFF;\n",
              "    }\n",
              "  </style>\n",
              "\n",
              "      <script>\n",
              "        const buttonEl =\n",
              "          document.querySelector('#df-3e7d4c44-684b-4e0d-a6c8-384238a9066d button.colab-df-convert');\n",
              "        buttonEl.style.display =\n",
              "          google.colab.kernel.accessAllowed ? 'block' : 'none';\n",
              "\n",
              "        async function convertToInteractive(key) {\n",
              "          const element = document.querySelector('#df-3e7d4c44-684b-4e0d-a6c8-384238a9066d');\n",
              "          const dataTable =\n",
              "            await google.colab.kernel.invokeFunction('convertToInteractive',\n",
              "                                                     [key], {});\n",
              "          if (!dataTable) return;\n",
              "\n",
              "          const docLinkHtml = 'Like what you see? Visit the ' +\n",
              "            '<a target=\"_blank\" href=https://colab.research.google.com/notebooks/data_table.ipynb>data table notebook</a>'\n",
              "            + ' to learn more about interactive tables.';\n",
              "          element.innerHTML = '';\n",
              "          dataTable['output_type'] = 'display_data';\n",
              "          await google.colab.output.renderOutput(dataTable, element);\n",
              "          const docLink = document.createElement('div');\n",
              "          docLink.innerHTML = docLinkHtml;\n",
              "          element.appendChild(docLink);\n",
              "        }\n",
              "      </script>\n",
              "    </div>\n",
              "  </div>\n",
              "  "
            ],
            "text/plain": [
              "    adult    budget     genres    id original_language         original_title  \\\n",
              "5   False  60000000     Action   949                en                   Heat   \n",
              "9   False  58000000  Adventure   710                en              GoldenEye   \n",
              "14  False  98000000     Action  1408                en       Cutthroat Island   \n",
              "15  False  52000000      Drama   524                en                 Casino   \n",
              "16  False  16500000      Drama  4584                en  Sense and Sensibility   \n",
              "\n",
              "   popularity           production_companies production_countries  \\\n",
              "5   17.924927            Regency Enterprises                   US   \n",
              "9   14.686036                 United Artists                   GB   \n",
              "14   7.284477               Le Studio Canal+                   FR   \n",
              "15  10.137389             Universal Pictures                   FR   \n",
              "16  10.673167  Columbia Pictures Corporation                   GB   \n",
              "\n",
              "   release_date      revenue  runtime    status                  title  video  \\\n",
              "5    1995-12-15  187436818.0    170.0  Released                   Heat  False   \n",
              "9    1995-11-16  352194034.0    130.0  Released              GoldenEye  False   \n",
              "14   1995-12-22   10017322.0    119.0  Released       Cutthroat Island  False   \n",
              "15   1995-11-22  116112375.0    178.0  Released                 Casino  False   \n",
              "16   1995-12-13  135000000.0    136.0  Released  Sense and Sensibility  False   \n",
              "\n",
              "    vote_average  vote_count  \n",
              "5            7.7      1886.0  \n",
              "9            6.6      1194.0  \n",
              "14           5.7       137.0  \n",
              "15           7.8      1343.0  \n",
              "16           7.2       364.0  "
            ]
          },
          "execution_count": 27,
          "metadata": {},
          "output_type": "execute_result"
        }
      ],
      "source": [
        "for i in column_changes:\n",
        "    meta_df[i] = json_shrinker_dict[i]\n",
        "\n",
        "meta_df.dropna(inplace=True)\n",
        "meta_df.head()"
      ]
    },
    {
      "cell_type": "markdown",
      "metadata": {
        "id": "NotORjT2odLq"
      },
      "source": [
        "## Scale features for clustering"
      ]
    },
    {
      "cell_type": "code",
      "execution_count": 28,
      "metadata": {
        "id": "XwYl1YGmM9Ki"
      },
      "outputs": [],
      "source": [
        "from sklearn.preprocessing import MinMaxScaler\n",
        "\n",
        "scalar = MinMaxScaler()\n",
        "scaled_df = meta_df[['budget', 'popularity', 'revenue', 'runtime', 'vote_average', 'vote_count']]\n",
        "scaled = scalar.fit_transform(meta_df[['budget', 'popularity', 'revenue', 'runtime', 'vote_average', 'vote_count']])\n",
        "scaled_df = pd.DataFrame(scaled, index=scaled_df.index, columns=scaled_df.columns)\n"
      ]
    },
    {
      "cell_type": "markdown",
      "metadata": {
        "id": "AGFcXHz8ofH2"
      },
      "source": [
        "## Set up MLFoundry to log params and metrics"
      ]
    },
    {
      "cell_type": "code",
      "execution_count": 29,
      "metadata": {
        "colab": {
          "base_uri": "https://localhost:8080/"
        },
        "id": "CdxaEHw9k4sC",
        "outputId": "fcb4bcbd-2691-40f8-896b-bc1389f91f69"
      },
      "outputs": [
        {
          "name": "stdout",
          "output_type": "stream",
          "text": [
            "API key is already configured.\n",
            "Please use `mlfoundry login --relogin` or `mlfoundry.login(relogin=True)`to force relogin\n"
          ]
        }
      ],
      "source": [
        "import mlfoundry\n",
        "\n",
        "mlfoundry.login()\n",
        "client = mlfoundry.get_client()\n",
        "MLF_PROJECT_NAME= \"movie-clustering-aug-12\""
      ]
    },
    {
      "cell_type": "markdown",
      "metadata": {
        "id": "nkgTYfl2oir2"
      },
      "source": [
        "## Find optimal number of clusters and log to MLFoundry"
      ]
    },
    {
      "cell_type": "code",
      "execution_count": 73,
      "metadata": {
        "colab": {
          "base_uri": "https://localhost:8080/",
          "height": 1000
        },
        "id": "1qM4TG8kNRLA",
        "outputId": "405ee7dd-f2e9-4a8d-bf7f-649dd4e227fe"
      },
      "outputs": [
        {
          "name": "stdout",
          "output_type": "stream",
          "text": [
            "Link to the dashboard for the run: https://app.truefoundry.com/mlfoundry/256/ed7dc7db99ac41919590fb983954235a/\n",
            "[mlfoundry] 2022-08-12T14:37:30+0000 WARNING failed to log git info because git repository is not present\n",
            "[mlfoundry] 2022-08-12T14:37:31+0000 INFO Run 'truefoundry/user-truefoundry/movie-clustering-aug-12/num-clusters-5-24' has started.\n",
            "[mlfoundry] 2022-08-12T14:37:31+0000 WARNING MlFoundry can't log parmeters with length greater than 250 characters. Discarding centers:[[9.94746329e-03 4.48025893e-02 7.86521333e-03 3.42489782e-01\n",
            "  7.16730245e-01 2.11050069e-02]\n",
            " [1.70407922e-02 3.07943303e-02 6.89119405e-03 3.04113156e-01\n",
            "  5.72374429e-01 7.63469650e-03]\n",
            " [1.46973117e-01 8.89485667e-02 9.51662300e-02 3.87771003e-01\n",
            "  6.63333333e-01 1.07558853e-01]\n",
            " [3.17388248e-01 1.86793710e-01 3.20240546e-01 4.13184932e-01\n",
            "  7.13972603e-01 3.93235206e-01]\n",
            " [4.79338972e-03 1.25583237e-02 4.67289347e-04 2.78013393e-01\n",
            "  2.57023810e-01 1.38560600e-03]].\n",
            "[mlfoundry] 2022-08-12T14:37:32+0000 INFO Parameters logged successfully\n",
            "[mlfoundry] 2022-08-12T14:37:32+0000 INFO Shutting down background jobs and syncing data for run 'truefoundry/user-truefoundry/movie-clustering-aug-12/num-clusters-5-23', please don't kill this process...\n",
            "[mlfoundry] 2022-08-12T14:37:32+0000 INFO Metrics logged successfully\n",
            "[mlfoundry] 2022-08-12T14:37:32+0000 INFO Finished syncing data for run 'truefoundry/user-truefoundry/movie-clustering-aug-12/num-clusters-5-23'. Thank you for waiting!\n",
            "Link to the dashboard for the run: https://app.truefoundry.com/mlfoundry/256/89ed9c8270c64f3aad44bee589e8a84f/\n",
            "Link to the dashboard for the run: https://app.truefoundry.com/mlfoundry/256/270f2c52f5044cb48f7e46efbc5f5a09/\n",
            "[mlfoundry] 2022-08-12T14:37:36+0000 WARNING failed to log git info because git repository is not present\n",
            "[mlfoundry] 2022-08-12T14:37:37+0000 INFO Run 'truefoundry/user-truefoundry/movie-clustering-aug-12/num-clusters-10-25' has started.\n",
            "[mlfoundry] 2022-08-12T14:37:37+0000 WARNING MlFoundry can't log parmeters with length greater than 250 characters. Discarding centers:[[1.37257095e-01 7.65643406e-02 7.92211414e-02 3.58898305e-01\n",
            "  6.27491525e-01 6.16817085e-02]\n",
            " [8.83795819e-03 3.05584593e-02 4.41564111e-03 3.10761938e-01\n",
            "  6.11615169e-01 6.78894281e-03]\n",
            " [3.72086466e-01 2.55942843e-01 4.22159680e-01 4.46540179e-01\n",
            "  7.49642857e-01 5.48336108e-01]\n",
            " [1.82643749e-02 5.67643676e-02 1.46529880e-02 3.70728958e-01\n",
            "  7.12284569e-01 3.17033121e-02]\n",
            " [5.51782683e-03 5.36247973e-03 1.28865520e-06 2.66129032e-01\n",
            "  7.38709677e-02 2.36631005e-04]\n",
            " [1.17144689e-02 2.16371524e-02 2.60451105e-03 2.91043216e-01\n",
            "  4.67137546e-01 3.65020675e-03]\n",
            " [3.40967283e-01 1.00063755e-01 2.11195598e-01 3.81207770e-01\n",
            "  6.19594595e-01 1.71177413e-01]\n",
            " [2.09791944e-02 4.34663960e-02 1.42744679e-02 5.61424731e-01\n",
            "  7.05913978e-01 1.90829760e-02]\n",
            " [7.07503614e-02 1.43318064e-01 1.05801329e-01 3.90660920e-01\n",
            "  7.66091954e-01 2.73039330e-01]\n",
            " [1.70837147e-03 3.39229580e-02 1.73875378e-03 2.75911145e-01\n",
            "  7.37108434e-01 1.21630871e-02]].\n",
            "[mlfoundry] 2022-08-12T14:37:38+0000 INFO Parameters logged successfully\n",
            "[mlfoundry] 2022-08-12T14:37:38+0000 INFO Shutting down background jobs and syncing data for run 'truefoundry/user-truefoundry/movie-clustering-aug-12/num-clusters-5-24', please don't kill this process...\n",
            "[mlfoundry] 2022-08-12T14:37:38+0000 INFO Metrics logged successfully\n",
            "[mlfoundry] 2022-08-12T14:37:38+0000 INFO Finished syncing data for run 'truefoundry/user-truefoundry/movie-clustering-aug-12/num-clusters-5-24'. Thank you for waiting!\n",
            "Link to the dashboard for the run: https://app.truefoundry.com/mlfoundry/256/ed7dc7db99ac41919590fb983954235a/\n",
            "Link to the dashboard for the run: https://app.truefoundry.com/mlfoundry/256/80470ee214dc4f528dc1cea13002a1be/\n",
            "[mlfoundry] 2022-08-12T14:37:42+0000 WARNING failed to log git info because git repository is not present\n",
            "[mlfoundry] 2022-08-12T14:37:42+0000 INFO Run 'truefoundry/user-truefoundry/movie-clustering-aug-12/num-clusters-15-26' has started.\n",
            "[mlfoundry] 2022-08-12T14:37:43+0000 WARNING MlFoundry can't log parmeters with length greater than 250 characters. Discarding centers:[[ 5.62810938e-03  2.55636613e-02  2.74837710e-03  3.06525735e-01\n",
            "   5.55588235e-01  4.42470981e-03]\n",
            " [ 1.50976842e-01  8.41943302e-02  1.14883581e-01  4.21687500e-01\n",
            "   6.92800000e-01  9.47884913e-02]\n",
            " [ 1.60611053e-02  4.52086055e-02  9.82503570e-03  3.95577077e-01\n",
            "   6.94376997e-01  1.44341553e-02]\n",
            " [ 2.10728745e-01  4.12791888e-01  2.90061889e-01  4.54807692e-01\n",
            "   8.00000000e-01  6.66670846e-01]\n",
            " [ 1.38777878e-17  2.46508448e-03  6.93889390e-18  2.60807292e-01\n",
            "   2.54166667e-02  6.79218627e-05]\n",
            " [ 8.35569615e-02  1.41726025e-01  1.26068508e-01  3.94663462e-01\n",
            "   7.70153846e-01  3.03887847e-01]\n",
            " [ 4.54010025e-01  1.45703252e-01  4.73797663e-01  4.26190476e-01\n",
            "   6.94285714e-01  4.10182069e-01]\n",
            " [ 3.85030214e-02  8.83511414e-02  3.85986117e-02  3.38792438e-01\n",
            "   7.20740741e-01  1.00582216e-01]\n",
            " [ 3.36918383e-01  9.89857332e-02  1.91300154e-01  3.72192029e-01\n",
            "   6.07246377e-01  1.54626778e-01]\n",
            " [ 1.36763740e-02  2.05180853e-02  1.59968081e-03  2.87591912e-01\n",
            "   4.07426471e-01  2.61898712e-03]\n",
            " [ 2.47291527e-03  3.91138689e-02  1.76486145e-03  3.04418103e-01\n",
            "   7.52442529e-01  1.25957581e-02]\n",
            " [ 6.73120888e-03  3.15776937e-02  3.60988249e-03  3.04222011e-01\n",
            "   6.51499051e-01  6.65350710e-03]\n",
            " [ 9.06755639e-05  1.81351853e-02 -3.46944695e-18  9.19642857e-02\n",
            "   7.12000000e-01  4.98818160e-03]\n",
            " [ 1.27002788e-01  7.20955294e-02  6.10827167e-02  3.37244591e-01\n",
            "   5.92980769e-01  4.30094296e-02]\n",
            " [ 1.87361138e-02  4.46242667e-02  9.96579697e-03  5.80532095e-01\n",
            "   7.09864865e-01  1.71548596e-02]].\n",
            "[mlfoundry] 2022-08-12T14:37:43+0000 INFO Shutting down background jobs and syncing data for run 'truefoundry/user-truefoundry/movie-clustering-aug-12/num-clusters-10-25', please don't kill this process...\n",
            "[mlfoundry] 2022-08-12T14:37:44+0000 INFO Parameters logged successfully\n",
            "[mlfoundry] 2022-08-12T14:37:44+0000 INFO Metrics logged successfully\n",
            "[mlfoundry] 2022-08-12T14:37:44+0000 INFO Finished syncing data for run 'truefoundry/user-truefoundry/movie-clustering-aug-12/num-clusters-10-25'. Thank you for waiting!\n",
            "Link to the dashboard for the run: https://app.truefoundry.com/mlfoundry/256/270f2c52f5044cb48f7e46efbc5f5a09/\n",
            "Link to the dashboard for the run: https://app.truefoundry.com/mlfoundry/256/81449f4dd488432fa7f013b47523ec73/\n",
            "[mlfoundry] 2022-08-12T14:37:48+0000 WARNING failed to log git info because git repository is not present\n",
            "[mlfoundry] 2022-08-12T14:37:48+0000 INFO Run 'truefoundry/user-truefoundry/movie-clustering-aug-12/num-clusters-20-27' has started.\n",
            "[mlfoundry] 2022-08-12T14:37:49+0000 WARNING MlFoundry can't log parmeters with length greater than 250 characters. Discarding centers:[[ 1.43088878e-01  8.69639724e-02  1.31958996e-01  3.99528302e-01\n",
            "   6.86320755e-01  1.05572873e-01]\n",
            " [ 5.09314484e-03  2.42350507e-02  2.27505990e-03  2.94776657e-01\n",
            "   5.52449568e-01  4.03819941e-03]\n",
            " [ 3.88333333e-01  1.06721182e-01  3.09937513e-01  3.81145833e-01\n",
            "   6.41666667e-01  2.47621376e-01]\n",
            " [ 1.43864194e-02  5.11408423e-02  9.51287356e-03  3.85742845e-01\n",
            "   7.22121212e-01  1.97363095e-02]\n",
            " [ 1.15540414e-01  1.85483648e-01  1.88320507e-01  3.98214286e-01\n",
            "   7.68214286e-01  3.53920450e-01]\n",
            " [ 0.00000000e+00  2.96013753e-03  0.00000000e+00  2.65024038e-01\n",
            "   4.03846154e-02  1.31663918e-04]\n",
            " [ 1.24908600e-02  2.02306903e-02  1.66073733e-03  2.85997137e-01\n",
            "   4.09541985e-01  2.49993934e-03]\n",
            " [ 1.59912616e-01  7.14338531e-02  5.68636560e-02  3.46012127e-01\n",
            "   5.82014925e-01  3.93273668e-02]\n",
            " [ 2.60969801e-03  2.71466417e-02  1.46255319e-03  3.00318031e-01\n",
            "   6.55442478e-01  4.61880688e-03]\n",
            " [ 6.96491228e-01  1.91903862e-01  6.09043694e-01  4.90625000e-01\n",
            "   6.85000000e-01  4.34251637e-01]\n",
            " [ 1.74817049e-03  3.63521212e-02  1.25146038e-03  2.95412458e-01\n",
            "   7.54040404e-01  1.14169104e-02]\n",
            " [ 3.24210526e-01  8.78412117e-02  1.38344772e-01  3.80625000e-01\n",
            "   5.89333333e-01  1.09738184e-01]\n",
            " [ 2.65479876e-01  2.25021897e-01  3.69543867e-01  4.36580882e-01\n",
            "   7.70000000e-01  5.86475718e-01]\n",
            " [ 3.77443129e-02  8.96605190e-02  3.68828510e-02  3.32986111e-01\n",
            "   7.22991453e-01  1.06927124e-01]\n",
            " [ 7.54770121e-03  2.48832480e-02  2.80707889e-03  4.02300347e-01\n",
            "   6.05000000e-01  3.62249934e-03]\n",
            " [ 2.20770221e-02  4.81222981e-02  1.15989355e-02  5.84692029e-01\n",
            "   7.23188406e-01  1.98981526e-02]\n",
            " [ 2.53947368e-01  9.36917498e-01  3.30207216e-01  4.78125000e-01\n",
            "   8.30000000e-01  8.53329530e-01]\n",
            " [ 4.88682343e-02  1.27015779e-01  5.99514718e-02  3.95639535e-01\n",
            "   7.78604651e-01  2.63274617e-01]\n",
            " [ 8.02220893e-05  1.81142446e-02 -3.46944695e-18  8.58901515e-02\n",
            "   7.10000000e-01  5.16947122e-03]\n",
            " [ 5.53587204e-02  7.25227428e-02  4.05903932e-02  3.27182263e-01\n",
            "   6.28603352e-01  3.60225686e-02]].\n",
            "[mlfoundry] 2022-08-12T14:37:49+0000 INFO Shutting down background jobs and syncing data for run 'truefoundry/user-truefoundry/movie-clustering-aug-12/num-clusters-15-26', please don't kill this process...\n",
            "[mlfoundry] 2022-08-12T14:37:50+0000 INFO Parameters logged successfully\n",
            "[mlfoundry] 2022-08-12T14:37:50+0000 INFO Finished syncing data for run 'truefoundry/user-truefoundry/movie-clustering-aug-12/num-clusters-15-26'. Thank you for waiting!\n",
            "[mlfoundry] 2022-08-12T14:37:50+0000 INFO Metrics logged successfully\n",
            "Link to the dashboard for the run: https://app.truefoundry.com/mlfoundry/256/80470ee214dc4f528dc1cea13002a1be/\n",
            "Link to the dashboard for the run: https://app.truefoundry.com/mlfoundry/256/49921613ea4f4a2bab01874bb25f810b/\n",
            "[mlfoundry] 2022-08-12T14:37:54+0000 WARNING failed to log git info because git repository is not present\n",
            "[mlfoundry] 2022-08-12T14:37:55+0000 INFO Run 'truefoundry/user-truefoundry/movie-clustering-aug-12/num-clusters-25-28' has started.\n",
            "[mlfoundry] 2022-08-12T14:37:55+0000 WARNING MlFoundry can't log parmeters with length greater than 250 characters. Discarding centers:[[ 1.01361925e-03  3.11073540e-02  6.05711923e-04  2.96978306e-01\n",
            "   7.61611570e-01  9.16002099e-03]\n",
            " [ 7.24189165e-03  2.17112666e-02  2.07206320e-03  2.85072970e-01\n",
            "   4.94010152e-01  3.22135811e-03]\n",
            " [ 2.34746056e-02  7.19260062e-02  2.00239704e-02  4.32312500e-01\n",
            "   7.51800000e-01  4.08232130e-02]\n",
            " [ 1.78519549e-01  7.72727691e-02  6.14511927e-02  4.24419643e-01\n",
            "   6.86571429e-01  6.61749124e-02]\n",
            " [ 2.64035088e-01  2.41506915e-01  3.05020780e-01  4.05989583e-01\n",
            "   7.68333333e-01  6.01475263e-01]\n",
            " [ 1.65712206e-02  7.95539565e-02  1.58538755e-02  3.30069444e-01\n",
            "   7.37777778e-01  6.13929114e-02]\n",
            " [ 6.93889390e-18  2.30012645e-03  6.93889390e-18  2.57244318e-01\n",
            "   9.09090909e-03  1.85241444e-05]\n",
            " [ 4.01503759e-01  1.06037721e-01  3.08971003e-01  3.88616071e-01\n",
            "   6.40714286e-01  2.46806702e-01]\n",
            " [ 1.13114646e-02  2.86694521e-02  4.04498077e-03  3.78242925e-01\n",
            "   5.82138365e-01  4.48694388e-03]\n",
            " [ 7.67665110e-03  3.50349944e-02  4.63379655e-03  3.80243201e-01\n",
            "   6.91046025e-01  8.09674074e-03]\n",
            " [ 4.09007713e-02  1.20464702e-01  4.87839908e-02  3.78799020e-01\n",
            "   7.73137255e-01  2.42346804e-01]\n",
            " [ 1.49166298e-01  6.94442685e-02  5.08142378e-02  3.34078664e-01\n",
            "   5.59913793e-01  3.43569861e-02]\n",
            " [ 3.29978665e-03  2.87482347e-02  1.90190692e-03  2.96946023e-01\n",
            "   6.69744318e-01  5.64708541e-03]\n",
            " [ 5.85606033e-03  3.00376651e-02  3.11089060e-03  2.91383786e-01\n",
            "   5.93418530e-01  5.32212280e-03]\n",
            " [ 1.98239124e-02  4.09955947e-02  9.77221310e-03  6.05738636e-01\n",
            "   7.07636364e-01  1.32247571e-02]\n",
            " [ 3.28177150e-01  8.78038245e-02  1.43989856e-01  3.72484756e-01\n",
            "   5.81463415e-01  1.11013480e-01]\n",
            " [ 7.81578947e-01  1.87919359e-01  5.19169868e-01  4.66406250e-01\n",
            "   6.65000000e-01  3.83425707e-01]\n",
            " [ 4.84962406e-02  3.52530647e-01  9.13479783e-02  4.77678571e-01\n",
            "   8.30000000e-01  3.92161429e-01]\n",
            " [ 6.60073339e-03  1.61659790e-02  6.43480413e-04  2.91137295e-01\n",
            "   3.43606557e-01  1.86261790e-03]\n",
            " [ 3.71929825e-01  2.10691614e-01  6.16814854e-01  5.38541667e-01\n",
            "   7.60000000e-01  5.70041025e-01]\n",
            " [ 2.53947368e-01  9.36917498e-01  3.30207216e-01  4.78125000e-01\n",
            "   8.30000000e-01  8.53329530e-01]\n",
            " [ 8.02220893e-05  1.81142446e-02 -3.46944695e-18  8.58901515e-02\n",
            "   7.10000000e-01  5.16947122e-03]\n",
            " [ 1.21700084e-01  8.71424171e-02  1.67848299e-01  3.70684524e-01\n",
            "   6.65238095e-01  1.15794485e-01]\n",
            " [ 1.45615450e-01  1.28949210e-01  2.24429775e-01  3.75604839e-01\n",
            "   7.38064516e-01  3.18221376e-01]\n",
            " [ 6.80931551e-02  7.81489790e-02  5.52026199e-02  3.33860518e-01\n",
            "   6.52134146e-01  5.90105143e-02]].\n",
            "[mlfoundry] 2022-08-12T14:37:56+0000 INFO Shutting down background jobs and syncing data for run 'truefoundry/user-truefoundry/movie-clustering-aug-12/num-clusters-20-27', please don't kill this process...\n",
            "[mlfoundry] 2022-08-12T14:37:56+0000 INFO Parameters logged successfully\n",
            "[mlfoundry] 2022-08-12T14:37:56+0000 INFO Finished syncing data for run 'truefoundry/user-truefoundry/movie-clustering-aug-12/num-clusters-20-27'. Thank you for waiting!\n",
            "[mlfoundry] 2022-08-12T14:37:56+0000 INFO Metrics logged successfully\n",
            "Link to the dashboard for the run: https://app.truefoundry.com/mlfoundry/256/81449f4dd488432fa7f013b47523ec73/\n"
          ]
        },
        {
          "data": {
            "image/png": "[encoded data removed]",
            "text/plain": [
              "<Figure size 432x288 with 1 Axes>"
            ]
          },
          "metadata": {
            "needs_background": "light"
          },
          "output_type": "display_data"
        }
      ],
      "source": [
        "from sklearn.cluster import KMeans\n",
        "from sklearn.metrics import silhouette_score\n",
        "import matplotlib.pyplot as plt\n",
        "\n",
        "clustering_df = scaled_df[['budget', 'popularity', 'revenue', 'runtime', 'vote_average', 'vote_count']]\n",
        "\n",
        "cluster_sizes = [5, 10, 15, 20, 25]\n",
        "scores = []\n",
        "for index, num_cluster in enumerate(cluster_sizes):\n",
        "    run = client.create_run(project_name=MLF_PROJECT_NAME, run_name=f\"num-clusters-{num_cluster}\")\n",
        "    cluster_fit = KMeans(n_clusters=num_cluster, random_state=0).fit(clustering_df)\n",
        "    score = silhouette_score(clustering_df, cluster_fit.labels_, metric='euclidean', sample_size=None, random_state=None)\n",
        "    run.log_params({'num_clusters': num_cluster, 'centers': cluster_fit.cluster_centers_})\n",
        "    run.log_metrics({'silhouette_score': score})\n",
        "    scores.append(score)\n",
        "    plt.plot(cluster_sizes[:index+1], scores)\n",
        "    run.log_plots({'cluster_vs_score': plt})"
      ]
    },
    {
      "cell_type": "markdown",
      "metadata": {
        "id": "HwwfkcS4orLE"
      },
      "source": [
        "## Apply KMeans using optimal number of clusters"
      ]
    },
    {
      "cell_type": "code",
      "execution_count": 31,
      "metadata": {
        "colab": {
          "base_uri": "https://localhost:8080/",
          "height": 424
        },
        "id": "quDK1d1aeRWp",
        "outputId": "d7230f7c-e221-45e9-c009-2d466b2187d5"
      },
      "outputs": [
        {
          "data": {
            "text/html": [
              "\n",
              "  <div id=\"df-3a655b1a-c21e-4a76-9716-f260d29ffa53\">\n",
              "    <div class=\"colab-df-container\">\n",
              "      <div>\n",
              "<style scoped>\n",
              "    .dataframe tbody tr th:only-of-type {\n",
              "        vertical-align: middle;\n",
              "    }\n",
              "\n",
              "    .dataframe tbody tr th {\n",
              "        vertical-align: top;\n",
              "    }\n",
              "\n",
              "    .dataframe thead th {\n",
              "        text-align: right;\n",
              "    }\n",
              "</style>\n",
              "<table border=\"1\" class=\"dataframe\">\n",
              "  <thead>\n",
              "    <tr style=\"text-align: right;\">\n",
              "      <th></th>\n",
              "      <th>budget</th>\n",
              "      <th>popularity</th>\n",
              "      <th>revenue</th>\n",
              "      <th>runtime</th>\n",
              "      <th>vote_average</th>\n",
              "      <th>vote_count</th>\n",
              "      <th>cluster_label</th>\n",
              "      <th>cluster_string</th>\n",
              "    </tr>\n",
              "  </thead>\n",
              "  <tbody>\n",
              "    <tr>\n",
              "      <th>5</th>\n",
              "      <td>0.157895</td>\n",
              "      <td>0.127172</td>\n",
              "      <td>0.101590</td>\n",
              "      <td>0.531250</td>\n",
              "      <td>0.77</td>\n",
              "      <td>0.153721</td>\n",
              "      <td>1</td>\n",
              "      <td>c1</td>\n",
              "    </tr>\n",
              "    <tr>\n",
              "      <th>9</th>\n",
              "      <td>0.152632</td>\n",
              "      <td>0.104193</td>\n",
              "      <td>0.190888</td>\n",
              "      <td>0.406250</td>\n",
              "      <td>0.66</td>\n",
              "      <td>0.097318</td>\n",
              "      <td>1</td>\n",
              "      <td>c1</td>\n",
              "    </tr>\n",
              "    <tr>\n",
              "      <th>14</th>\n",
              "      <td>0.257895</td>\n",
              "      <td>0.051681</td>\n",
              "      <td>0.005429</td>\n",
              "      <td>0.371875</td>\n",
              "      <td>0.57</td>\n",
              "      <td>0.011166</td>\n",
              "      <td>13</td>\n",
              "      <td>c13</td>\n",
              "    </tr>\n",
              "    <tr>\n",
              "      <th>15</th>\n",
              "      <td>0.136842</td>\n",
              "      <td>0.071921</td>\n",
              "      <td>0.062932</td>\n",
              "      <td>0.556250</td>\n",
              "      <td>0.78</td>\n",
              "      <td>0.109463</td>\n",
              "      <td>1</td>\n",
              "      <td>c1</td>\n",
              "    </tr>\n",
              "    <tr>\n",
              "      <th>16</th>\n",
              "      <td>0.043421</td>\n",
              "      <td>0.075722</td>\n",
              "      <td>0.073169</td>\n",
              "      <td>0.425000</td>\n",
              "      <td>0.72</td>\n",
              "      <td>0.029668</td>\n",
              "      <td>2</td>\n",
              "      <td>c2</td>\n",
              "    </tr>\n",
              "    <tr>\n",
              "      <th>...</th>\n",
              "      <td>...</td>\n",
              "      <td>...</td>\n",
              "      <td>...</td>\n",
              "      <td>...</td>\n",
              "      <td>...</td>\n",
              "      <td>...</td>\n",
              "      <td>...</td>\n",
              "      <td>...</td>\n",
              "    </tr>\n",
              "    <tr>\n",
              "      <th>44995</th>\n",
              "      <td>0.052632</td>\n",
              "      <td>0.017912</td>\n",
              "      <td>0.000000</td>\n",
              "      <td>0.750000</td>\n",
              "      <td>0.54</td>\n",
              "      <td>0.000652</td>\n",
              "      <td>14</td>\n",
              "      <td>c14</td>\n",
              "    </tr>\n",
              "    <tr>\n",
              "      <th>45318</th>\n",
              "      <td>0.000000</td>\n",
              "      <td>0.000591</td>\n",
              "      <td>0.000000</td>\n",
              "      <td>0.378125</td>\n",
              "      <td>0.65</td>\n",
              "      <td>0.000163</td>\n",
              "      <td>2</td>\n",
              "      <td>c2</td>\n",
              "    </tr>\n",
              "    <tr>\n",
              "      <th>45353</th>\n",
              "      <td>0.000000</td>\n",
              "      <td>0.016336</td>\n",
              "      <td>0.000000</td>\n",
              "      <td>0.287500</td>\n",
              "      <td>0.59</td>\n",
              "      <td>0.002690</td>\n",
              "      <td>0</td>\n",
              "      <td>c0</td>\n",
              "    </tr>\n",
              "    <tr>\n",
              "      <th>45406</th>\n",
              "      <td>0.000000</td>\n",
              "      <td>0.005701</td>\n",
              "      <td>0.000000</td>\n",
              "      <td>0.284375</td>\n",
              "      <td>0.46</td>\n",
              "      <td>0.000489</td>\n",
              "      <td>9</td>\n",
              "      <td>c9</td>\n",
              "    </tr>\n",
              "    <tr>\n",
              "      <th>45450</th>\n",
              "      <td>0.000000</td>\n",
              "      <td>0.007868</td>\n",
              "      <td>0.000000</td>\n",
              "      <td>0.003125</td>\n",
              "      <td>0.65</td>\n",
              "      <td>0.001793</td>\n",
              "      <td>12</td>\n",
              "      <td>c12</td>\n",
              "    </tr>\n",
              "  </tbody>\n",
              "</table>\n",
              "<p>2503 rows × 8 columns</p>\n",
              "</div>\n",
              "      <button class=\"colab-df-convert\" onclick=\"convertToInteractive('df-3a655b1a-c21e-4a76-9716-f260d29ffa53')\"\n",
              "              title=\"Convert this dataframe to an interactive table.\"\n",
              "              style=\"display:none;\">\n",
              "        \n",
              "  <svg xmlns=\"http://www.w3.org/2000/svg\" height=\"24px\"viewBox=\"0 0 24 24\"\n",
              "       width=\"24px\">\n",
              "    <path d=\"M0 0h24v24H0V0z\" fill=\"none\"/>\n",
              "    <path d=\"M18.56 5.44l.94 2.06.94-2.06 2.06-.94-2.06-.94-.94-2.06-.94 2.06-2.06.94zm-11 1L8.5 8.5l.94-2.06 2.06-.94-2.06-.94L8.5 2.5l-.94 2.06-2.06.94zm10 10l.94 2.06.94-2.06 2.06-.94-2.06-.94-.94-2.06-.94 2.06-2.06.94z\"/><path d=\"M17.41 7.96l-1.37-1.37c-.4-.4-.92-.59-1.43-.59-.52 0-1.04.2-1.43.59L10.3 9.45l-7.72 7.72c-.78.78-.78 2.05 0 2.83L4 21.41c.39.39.9.59 1.41.59.51 0 1.02-.2 1.41-.59l7.78-7.78 2.81-2.81c.8-.78.8-2.07 0-2.86zM5.41 20L4 18.59l7.72-7.72 1.47 1.35L5.41 20z\"/>\n",
              "  </svg>\n",
              "      </button>\n",
              "      \n",
              "  <style>\n",
              "    .colab-df-container {\n",
              "      display:flex;\n",
              "      flex-wrap:wrap;\n",
              "      gap: 12px;\n",
              "    }\n",
              "\n",
              "    .colab-df-convert {\n",
              "      background-color: #E8F0FE;\n",
              "      border: none;\n",
              "      border-radius: 50%;\n",
              "      cursor: pointer;\n",
              "      display: none;\n",
              "      fill: #1967D2;\n",
              "      height: 32px;\n",
              "      padding: 0 0 0 0;\n",
              "      width: 32px;\n",
              "    }\n",
              "\n",
              "    .colab-df-convert:hover {\n",
              "      background-color: #E2EBFA;\n",
              "      box-shadow: 0px 1px 2px rgba(60, 64, 67, 0.3), 0px 1px 3px 1px rgba(60, 64, 67, 0.15);\n",
              "      fill: #174EA6;\n",
              "    }\n",
              "\n",
              "    [theme=dark] .colab-df-convert {\n",
              "      background-color: #3B4455;\n",
              "      fill: #D2E3FC;\n",
              "    }\n",
              "\n",
              "    [theme=dark] .colab-df-convert:hover {\n",
              "      background-color: #434B5C;\n",
              "      box-shadow: 0px 1px 3px 1px rgba(0, 0, 0, 0.15);\n",
              "      filter: drop-shadow(0px 1px 2px rgba(0, 0, 0, 0.3));\n",
              "      fill: #FFFFFF;\n",
              "    }\n",
              "  </style>\n",
              "\n",
              "      <script>\n",
              "        const buttonEl =\n",
              "          document.querySelector('#df-3a655b1a-c21e-4a76-9716-f260d29ffa53 button.colab-df-convert');\n",
              "        buttonEl.style.display =\n",
              "          google.colab.kernel.accessAllowed ? 'block' : 'none';\n",
              "\n",
              "        async function convertToInteractive(key) {\n",
              "          const element = document.querySelector('#df-3a655b1a-c21e-4a76-9716-f260d29ffa53');\n",
              "          const dataTable =\n",
              "            await google.colab.kernel.invokeFunction('convertToInteractive',\n",
              "                                                     [key], {});\n",
              "          if (!dataTable) return;\n",
              "\n",
              "          const docLinkHtml = 'Like what you see? Visit the ' +\n",
              "            '<a target=\"_blank\" href=https://colab.research.google.com/notebooks/data_table.ipynb>data table notebook</a>'\n",
              "            + ' to learn more about interactive tables.';\n",
              "          element.innerHTML = '';\n",
              "          dataTable['output_type'] = 'display_data';\n",
              "          await google.colab.output.renderOutput(dataTable, element);\n",
              "          const docLink = document.createElement('div');\n",
              "          docLink.innerHTML = docLinkHtml;\n",
              "          element.appendChild(docLink);\n",
              "        }\n",
              "      </script>\n",
              "    </div>\n",
              "  </div>\n",
              "  "
            ],
            "text/plain": [
              "         budget  popularity   revenue   runtime  vote_average  vote_count  \\\n",
              "5      0.157895    0.127172  0.101590  0.531250          0.77    0.153721   \n",
              "9      0.152632    0.104193  0.190888  0.406250          0.66    0.097318   \n",
              "14     0.257895    0.051681  0.005429  0.371875          0.57    0.011166   \n",
              "15     0.136842    0.071921  0.062932  0.556250          0.78    0.109463   \n",
              "16     0.043421    0.075722  0.073169  0.425000          0.72    0.029668   \n",
              "...         ...         ...       ...       ...           ...         ...   \n",
              "44995  0.052632    0.017912  0.000000  0.750000          0.54    0.000652   \n",
              "45318  0.000000    0.000591  0.000000  0.378125          0.65    0.000163   \n",
              "45353  0.000000    0.016336  0.000000  0.287500          0.59    0.002690   \n",
              "45406  0.000000    0.005701  0.000000  0.284375          0.46    0.000489   \n",
              "45450  0.000000    0.007868  0.000000  0.003125          0.65    0.001793   \n",
              "\n",
              "       cluster_label cluster_string  \n",
              "5                  1             c1  \n",
              "9                  1             c1  \n",
              "14                13            c13  \n",
              "15                 1             c1  \n",
              "16                 2             c2  \n",
              "...              ...            ...  \n",
              "44995             14            c14  \n",
              "45318              2             c2  \n",
              "45353              0             c0  \n",
              "45406              9             c9  \n",
              "45450             12            c12  \n",
              "\n",
              "[2503 rows x 8 columns]"
            ]
          },
          "execution_count": 31,
          "metadata": {},
          "output_type": "execute_result"
        }
      ],
      "source": [
        "def apply_kmeans(df, clusters):\n",
        "    kmeans = KMeans(n_clusters=clusters, random_state=0)\n",
        "    cluster_labels = kmeans.fit(df).labels_\n",
        "    string_labels = [\"c{}\".format(i) for i in cluster_labels]\n",
        "    df['cluster_label'] = cluster_labels\n",
        "    df['cluster_string'] = string_labels\n",
        "\n",
        "    return df\n",
        "\n",
        "apply_kmeans(scaled_df, 15)"
      ]
    },
    {
      "cell_type": "code",
      "execution_count": 32,
      "metadata": {
        "id": "3w22I5HuMfhc"
      },
      "outputs": [],
      "source": [
        "movie_desc_df = movie_meta_df.copy()\n",
        "movie_desc_df = movie_desc_df[['overview', 'original_title', 'id']]\n",
        "movie_desc_df['overview'] = movie_desc_df['overview'].fillna('')"
      ]
    },
    {
      "cell_type": "code",
      "execution_count": 77,
      "metadata": {
        "colab": {
          "base_uri": "https://localhost:8080/"
        },
        "id": "MIPfx_jVMsWi",
        "outputId": "569bc2e8-e0d3-46dd-b1af-583e29d86f40"
      },
      "outputs": [
        {
          "name": "stdout",
          "output_type": "stream",
          "text": [
            "module https://tfhub.dev/google/universal-sentence-encoder/4 loaded\n"
          ]
        }
      ],
      "source": [
        "from absl import logging\n",
        "\n",
        "import tensorflow as tf\n",
        "\n",
        "import tensorflow_hub as hub\n",
        "import matplotlib.pyplot as plt\n",
        "import numpy as np\n",
        "import os\n",
        "import pandas as pd\n",
        "import re\n",
        "import seaborn as sns\n",
        "\n",
        "module_url = \"https://tfhub.dev/google/universal-sentence-encoder/4\"\n",
        "model = hub.load(module_url)\n",
        "print (\"module %s loaded\" % module_url)\n",
        "def embed(input):\n",
        "  return model(input)"
      ]
    },
    {
      "cell_type": "code",
      "execution_count": 78,
      "metadata": {
        "id": "NZDmQQCCRBDp"
      },
      "outputs": [],
      "source": [
        "embeddings_df = pd.DataFrame(embed((movie_desc_df['overview'])).numpy())"
      ]
    },
    {
      "cell_type": "code",
      "execution_count": 79,
      "metadata": {
        "colab": {
          "base_uri": "https://localhost:8080/"
        },
        "id": "ecMToRsMZ4Kl",
        "outputId": "32515e76-7b66-4b9d-a9b7-531d339ea2ea"
      },
      "outputs": [
        {
          "name": "stdout",
          "output_type": "stream",
          "text": [
            "Link to the dashboard for the run: https://app.truefoundry.com/mlfoundry/256/7d860cf4e10947bcaa6b2f2df88f29a6/\n",
            "[mlfoundry] 2022-08-12T14:44:16+0000 WARNING failed to log git info because git repository is not present\n",
            "[mlfoundry] 2022-08-12T14:44:17+0000 INFO Run 'truefoundry/user-truefoundry/movie-clustering-aug-12/embeddings-31' has started.\n",
            "[mlfoundry] 2022-08-12T14:44:18+0000 INFO Shutting down background jobs and syncing data for run 'truefoundry/user-truefoundry/movie-clustering-aug-12/embeddings-30', please don't kill this process...\n",
            "[mlfoundry] 2022-08-12T14:44:19+0000 INFO Finished syncing data for run 'truefoundry/user-truefoundry/movie-clustering-aug-12/embeddings-30'. Thank you for waiting!\n",
            "Link to the dashboard for the run: https://app.truefoundry.com/mlfoundry/256/f04f9c492ea742c0bed0cdbc44078b3c/\n",
            "[mlfoundry] 2022-08-12T14:44:21+0000 INFO Metrics logged successfully\n"
          ]
        }
      ],
      "source": [
        "embeddings_df.index = movie_desc_df.index\n",
        "\n",
        "run = client.create_run(project_name=MLF_PROJECT_NAME, run_name=f\"embeddings\")\n",
        "cluster_fit = KMeans(n_clusters=15, random_state=0).fit(embeddings_df)\n",
        "score = silhouette_score(embeddings_df, cluster_fit.labels_, metric='euclidean', sample_size=None, random_state=None)\n",
        "run.log_metrics({'silhouette_score': score})"
      ]
    },
    {
      "cell_type": "markdown",
      "metadata": {
        "id": "f42wGSpeowcg"
      },
      "source": [
        "## Train a collaborative filtering model using `implicit`"
      ]
    },
    {
      "cell_type": "code",
      "execution_count": 36,
      "metadata": {
        "id": "UPnRgMoUfhMz"
      },
      "outputs": [],
      "source": [
        "ratings_df['movieId'] = ratings_df['movieId'].astype(\"category\")\n",
        "ratings_df['userId'] = ratings_df['userId'].astype(\"category\")"
      ]
    },
    {
      "cell_type": "code",
      "execution_count": 37,
      "metadata": {
        "colab": {
          "base_uri": "https://localhost:8080/"
        },
        "id": "2s1XQdWZWhBm",
        "outputId": "2f21e257-5c85-4d6c-a397-cd2c67d0f99e"
      },
      "outputs": [
        {
          "name": "stdout",
          "output_type": "stream",
          "text": [
            "Looking in indexes: https://pypi.org/simple, https://us-python.pkg.dev/colab-wheels/public/simple/\n",
            "Requirement already satisfied: implicit in /usr/local/lib/python3.7/dist-packages (0.6.0)\n",
            "Requirement already satisfied: scipy>=0.16 in /usr/local/lib/python3.7/dist-packages (from implicit) (1.7.3)\n",
            "Requirement already satisfied: numpy in /usr/local/lib/python3.7/dist-packages (from implicit) (1.21.6)\n",
            "Requirement already satisfied: tqdm>=4.27 in /usr/local/lib/python3.7/dist-packages (from implicit) (4.64.0)\n"
          ]
        }
      ],
      "source": [
        "!pip install implicit"
      ]
    },
    {
      "cell_type": "code",
      "execution_count": 38,
      "metadata": {
        "id": "XtLum0A-Xxpq"
      },
      "outputs": [],
      "source": [
        "from scipy.sparse import coo_matrix\n",
        "import implicit"
      ]
    },
    {
      "cell_type": "code",
      "execution_count": 39,
      "metadata": {
        "id": "dDJrdKFgX0jZ"
      },
      "outputs": [],
      "source": [
        "r = coo_matrix((ratings_df['rating'], (ratings_df['userId'].cat.codes, ratings_df['movieId'].cat.codes)))"
      ]
    },
    {
      "cell_type": "code",
      "execution_count": 40,
      "metadata": {
        "colab": {
          "base_uri": "https://localhost:8080/",
          "height": 105,
          "referenced_widgets": [
            "469b7b6d0e3e432c94f8dcc4167af841",
            "de1de3d64f944fd6b2b9fb6efd486352",
            "7891c57a2e2b496597b4c49ce6f7033b",
            "3bb906b45640460eb466dfbdfd6c1e19",
            "3f9e8e2953fc4a608b4eb3f2c6fc52b6",
            "c452bb9fe3bd4d6b856179f6f1bb117b",
            "d31b9fe625f74bd38a6a97d731c51024",
            "e74089511fb14c38b8da222b05616b39",
            "653d65867b554b00ab680aadcf4e5596",
            "37bbd5bce2614708a4bfcca4af376b92",
            "0ad40fe61bd54b9c8be8208c1b00f578"
          ]
        },
        "id": "UtPRn8qDXZE-",
        "outputId": "765b9381-9799-4ac1-b0ac-5b55853b7b61"
      },
      "outputs": [
        {
          "name": "stderr",
          "output_type": "stream",
          "text": [
            "/usr/local/lib/python3.7/dist-packages/implicit/utils.py:141: ParameterWarning: Method expects CSR input, and was passed coo_matrix instead. Converting to CSR took 0.0030431747436523438 seconds\n",
            "  ParameterWarning,\n"
          ]
        },
        {
          "data": {
            "application/vnd.jupyter.widget-view+json": {
              "model_id": "469b7b6d0e3e432c94f8dcc4167af841",
              "version_major": 2,
              "version_minor": 0
            },
            "text/plain": [
              "  0%|          | 0/15 [00:00<?, ?it/s]"
            ]
          },
          "metadata": {},
          "output_type": "display_data"
        }
      ],
      "source": [
        "import implicit\n",
        "\n",
        "model = implicit.als.AlternatingLeastSquares(factors=25)\n",
        "model.fit(r)"
      ]
    },
    {
      "cell_type": "code",
      "execution_count": 41,
      "metadata": {
        "id": "3Z97WQCshYGQ"
      },
      "outputs": [],
      "source": [
        "user_category_to_code = dict([(category, code) for code, category in enumerate(ratings_df.userId.cat.categories)])\n",
        "\n",
        "def get_movie_names_from_movie_category_codes(movie_cat_codes):\n",
        "  ids = [ratings_df['movieId'].cat.categories[i] for i in movie_cat_codes]\n",
        "  return list(movie_meta_df.loc[movie_meta_df['id'].isin([str(id) for id in ids])].original_title)\n",
        "\n",
        "def get_recommendation_for_user(user_id):\n",
        "  user_cat_code = user_category_to_code[user_id]\n",
        "  return get_movie_names_from_movie_category_codes(model.recommend(user_cat_code, r.tocsr().getrow(user_cat_code))[0])\n",
        "  "
      ]
    },
    {
      "cell_type": "code",
      "execution_count": 22,
      "metadata": {
        "colab": {
          "base_uri": "https://localhost:8080/"
        },
        "id": "ylEsp_8H-5ID",
        "outputId": "781c02f5-4a3a-4f26-c67d-d632fb38d7dc"
      },
      "outputs": [
        {
          "data": {
            "text/plain": [
              "['Sleepless in Seattle',\n",
              " 'The Talented Mr. Ripley',\n",
              " 'The Million Dollar Hotel',\n",
              " 'Mere Brother Ki Dulhan',\n",
              " 'Confession of a Child of the Century']"
            ]
          },
          "execution_count": 22,
          "metadata": {},
          "output_type": "execute_result"
        }
      ],
      "source": [
        "get_recommendation_for_user(11)"
      ]
    },
    {
      "cell_type": "markdown",
      "metadata": {
        "id": "Yb2cqnnlo1WU"
      },
      "source": [
        "## Save the model and log it to MLFoundry"
      ]
    },
    {
      "cell_type": "code",
      "execution_count": 23,
      "metadata": {
        "id": "1Ft6zEaXIhom"
      },
      "outputs": [],
      "source": [
        "model.save('recommendation-model')"
      ]
    },
    {
      "cell_type": "code",
      "execution_count": 34,
      "metadata": {
        "colab": {
          "base_uri": "https://localhost:8080/"
        },
        "id": "45swTVIyKdcl",
        "outputId": "fbd179c9-2501-4d86-ed19-3584b6892775"
      },
      "outputs": [
        {
          "name": "stdout",
          "output_type": "stream",
          "text": [
            "[mlfoundry] 2022-08-12T05:52:04+0000 INFO project movie-clustering-aug-12 does not exist. Creating movie-clustering-aug-12.\n",
            "Link to the dashboard for the run: https://app.truefoundry.com/mlfoundry/256/768659a10bd541fbb9c431ae33752f5d/\n",
            "[mlfoundry] 2022-08-12T05:52:06+0000 WARNING failed to log git info because git repository is not present\n",
            "[mlfoundry] 2022-08-12T05:52:06+0000 INFO Run 'truefoundry/user-truefoundry/movie-clustering-aug-12/cf-model' has started.\n",
            "[mlfoundry] 2022-08-12T05:52:06+0000 INFO Logging '/content/recommendation-model.npz' file as artifact to 'recommendation-model.npz', this might take a while ...\n",
            "[mlfoundry] 2022-08-12T05:52:07+0000 INFO Shutting down background jobs and syncing data for run 'truefoundry/user-truefoundry/movie-clustering-jul-29-1/cf-model-31', please don't kill this process...\n",
            "[mlfoundry] 2022-08-12T05:52:08+0000 INFO Finished syncing data for run 'truefoundry/user-truefoundry/movie-clustering-jul-29-1/cf-model-31'. Thank you for waiting!\n",
            "Link to the dashboard for the run: https://app.truefoundry.com/mlfoundry/236/0e9f59d9ebfe49af92c52cd68947a7b1/\n",
            "[mlfoundry] 2022-08-12T05:52:09+0000 INFO Logging '/content/ratings_small.csv' file as artifact to 'ratings_small.csv', this might take a while ...\n",
            "[mlfoundry] 2022-08-12T05:52:11+0000 INFO Logging '/content/movies_metadata.csv' file as artifact to 'movies_metadata.csv', this might take a while ...\n"
          ]
        }
      ],
      "source": [
        "run = client.create_run(project_name=MLF_PROJECT_NAME, run_name=f\"cf-model\")\n",
        "run.log_artifact('/content/recommendation-model.npz')\n",
        "run.log_artifact('/content/ratings_small.csv')\n",
        "run.log_artifact('/content/movies_metadata.csv')"
      ]
    },
    {
      "cell_type": "code",
      "execution_count": 48,
      "metadata": {
        "colab": {
          "base_uri": "https://localhost:8080/"
        },
        "id": "JVUR2ewfVAY1",
        "outputId": "22d8ec05-6aac-4a3f-f793-49410606eb27"
      },
      "outputs": [
        {
          "name": "stdout",
          "output_type": "stream",
          "text": [
            "Link to the dashboard for the run: https://app.truefoundry.com/mlfoundry/256/768659a10bd541fbb9c431ae33752f5d/\n"
          ]
        },
        {
          "name": "stderr",
          "output_type": "stream",
          "text": [
            "/usr/local/lib/python3.7/dist-packages/IPython/core/interactiveshell.py:2882: DtypeWarning: Columns (10) have mixed types.Specify dtype option on import or set low_memory=False.\n",
            "  exec(code_obj, self.user_global_ns, self.user_ns)\n"
          ]
        }
      ],
      "source": [
        "client = mlfoundry.get_client(api_key='djE6dHJ1ZWZvdW5kcnk6dXNlci10cnVlZm91bmRyeTo0ZDlkM2M=')\n",
        "run = client.get_run('truefoundry/user-truefoundry/movie-clustering-aug-12/cf-model')\n",
        "\n",
        "movies_local_path = run.download_artifact('movies_metadata.csv')\n",
        "ratings_local_path = run.download_artifact('ratings_small.csv')\n",
        "\n",
        "movie_meta_df = pd.read_csv(movies_local_path)\n",
        "ratings_df = pd.read_csv(ratings_local_path)"
      ]
    },
    {
      "cell_type": "code",
      "execution_count": 49,
      "metadata": {
        "id": "t9TGePtZWDNE"
      },
      "outputs": [],
      "source": [
        "# only keep movies in ratings dataset\n",
        "movie_meta_df = movie_meta_df[movie_meta_df['id'].isin(ratings_df['movieId'].astype('string'))]\n",
        "\n",
        "ratings_df['movieId'] = ratings_df['movieId'].astype(\"category\")\n",
        "ratings_df['userId'] = ratings_df['userId'].astype(\"category\")\n",
        "r = coo_matrix((ratings_df['rating'], (ratings_df['userId'].cat.codes, ratings_df['movieId'].cat.codes)))\n",
        "\n",
        "user_category_to_code = dict([(category, code) for code, category in enumerate(ratings_df.userId.cat.categories)])\n",
        "movie_category_to_code = dict([(category, code) for code, category in enumerate(ratings_df.movieId.cat.categories)])\n",
        "\n",
        "model_local_path = run.download_artifact('recommendation-model.npz')\n",
        "model = implicit.als.AlternatingLeastSquares(factors=25).load(model_local_path)\n",
        "\n",
        "def search_movie(name):\n",
        "  return (movie_meta_df.loc[movie_meta_df['original_title'].str.contains(name, case=False)][['original_title', 'id']]).to_dict('records')\n",
        "\n",
        "def find_similar_movie(movie_name):\n",
        "  search_result =search_movie(movie_name)\n",
        "  if len(search_result) > 0:\n",
        "    movie_id = search_result[0]['id']\n",
        "    movie_name = search_result[0]['original_title']\n",
        "  else:\n",
        "    return []\n",
        "  movie_cat_code = movie_category_to_code[int(movie_id)]\n",
        "  movie_cat_codes = model.similar_items(movie_cat_code)[0]\n",
        "  ids = [ratings_df['movieId'].cat.categories[i] for i in movie_cat_codes]\n",
        "  return movie_name, list(movie_meta_df.loc[movie_meta_df['id'].isin([str(id) for id in ids])].original_title)\n",
        " \n",
        "def get_movie_names_from_movie_category_codes(movie_cat_codes):\n",
        "  ids = [ratings_df['movieId'].cat.categories[i] for i in movie_cat_codes]\n",
        "  return list(movie_meta_df.loc[movie_meta_df['id'].isin([str(id) for id in ids])].original_title)\n",
        "\n",
        "def get_recommendation_for_user(user_id):\n",
        "  user_cat_code = user_category_to_code[int(user_id)]\n",
        "  movie_cat_codes = model.recommend(user_cat_code, r.tocsr().getrow(user_cat_code))[0]\n",
        "  ids = [ratings_df['movieId'].cat.categories[i] for i in movie_cat_codes]\n",
        "  return list(movie_meta_df.loc[movie_meta_df['id'].isin([str(id) for id in ids])].original_title)"
      ]
    },
    {
      "cell_type": "code",
      "execution_count": 60,
      "metadata": {
        "id": "usdCFUNuWYg2"
      },
      "outputs": [],
      "source": [
        "def get_recommendation_for_user_given_movie(user_id, movie_name):\n",
        "  search_result =search_movie(movie_name)\n",
        "  if len(search_result) > 0:\n",
        "    movie_id = search_result[0]['id']\n",
        "    movie_name = search_result[0]['original_title']\n",
        "  else:\n",
        "    return []\n",
        "  movie_cat_code = movie_category_to_code[int(movie_id)]\n",
        "  print(movie_cat_code)\n",
        "  user_cat_code = user_category_to_code[int(user_id)]\n",
        "  movie_cat_codes = model.rank_items(user_cat_code, r.tocsr().getrow(user_cat_code), model.similar_items(movie_cat_code)[0])[0]\n",
        "  ids = [ratings_df['movieId'].cat.categories[i] for i in movie_cat_codes]\n",
        "  return list(movie_meta_df.loc[movie_meta_df['id'].isin([str(id) for id in ids])].original_title)"
      ]
    },
    {
      "cell_type": "code",
      "execution_count": 62,
      "metadata": {
        "colab": {
          "base_uri": "https://localhost:8080/"
        },
        "id": "qfbg4NGVXfdA",
        "outputId": "19f0a411-3432-4d78-b608-8aa35d7e2bc4"
      },
      "outputs": [
        {
          "name": "stdout",
          "output_type": "stream",
          "text": [
            "250\n"
          ]
        },
        {
          "name": "stderr",
          "output_type": "stream",
          "text": [
            "/usr/local/lib/python3.7/dist-packages/ipykernel_launcher.py:11: DeprecationWarning: rank_items is deprecated. Use recommend with the 'items' parameter instead\n",
            "  # This is added back by InteractiveShellApp.init_path()\n"
          ]
        },
        {
          "data": {
            "text/plain": [
              "['The Net',\n",
              " 'The Shawshank Redemption',\n",
              " 'Jenseits der Stille',\n",
              " 'House of Frankenstein',\n",
              " '봄 여름 가을 겨울 그리고 봄',\n",
              " 'Ronja Rövardotter']"
            ]
          },
          "execution_count": 62,
          "metadata": {},
          "output_type": "execute_result"
        }
      ],
      "source": [
        "get_recommendation_for_user_given_movie(10, 'Shawshank Redemption')"
      ]
    },
    {
      "cell_type": "markdown",
      "metadata": {
        "id": "yZtmgqiHo6CP"
      },
      "source": [
        "## Deploy the app using ServiceFoundry"
      ]
    },
    {
      "cell_type": "code",
      "execution_count": 80,
      "metadata": {
        "colab": {
          "base_uri": "https://localhost:8080/"
        },
        "id": "ZqBny_fACYpp",
        "outputId": "98ea333e-7021-47c4-eb4a-73d5239c1cde"
      },
      "outputs": [
        {
          "name": "stdout",
          "output_type": "stream",
          "text": [
            "[mlfoundry] 2022-08-12T19:03:07+0000 INFO Shutting down background jobs and syncing data for run 'truefoundry/user-truefoundry/movie-clustering-aug-12/num-clusters-25-21', please don't kill this process...\n",
            "[mlfoundry] 2022-08-12T19:03:08+0000 INFO Finished syncing data for run 'truefoundry/user-truefoundry/movie-clustering-aug-12/num-clusters-25-21'. Thank you for waiting!\n",
            "Link to the dashboard for the run: https://app.truefoundry.com/mlfoundry/256/b38be7e9ffff4077aa19a9395636eeb3/\n",
            "Login Code: 39L4YL\n",
            "Waiting for authentication. Go to the following url to complete the authentication: https://app.truefoundry.com/authorize/device?userCode=39L4YL\n",
            "[green bold]Login Successful![/]\n",
            "Session file stored at /root/.truefoundry\n",
            "[yellow]You are logged in as 'user-truefoundry' with email 'user@truefoundry.com'[/]\n"
          ]
        }
      ],
      "source": [
        "import servicefoundry.core as sfy\n",
        "sfy.login()"
      ]
    },
    {
      "cell_type": "code",
      "execution_count": 84,
      "metadata": {
        "colab": {
          "base_uri": "https://localhost:8080/"
        },
        "id": "A8yf7qzCHHlr",
        "outputId": "23892b39-bb0b-4b7b-c852-f0d0b59ca1b3"
      },
      "outputs": [
        {
          "name": "stdout",
          "output_type": "stream",
          "text": [
            "Overwriting predict.py\n"
          ]
        }
      ],
      "source": [
        "%%writefile predict.py\n",
        "import mlfoundry\n",
        "import pandas as pd\n",
        "from scipy.sparse import coo_matrix\n",
        "import implicit\n",
        "\n",
        "client = mlfoundry.get_client(api_key='djE6dHJ1ZWZvdW5kcnk6dXNlci10cnVlZm91bmRyeTo0ZDlkM2M=')\n",
        "run = client.get_run('truefoundry/user-truefoundry/movie-clustering-aug-12/cf-model')\n",
        "\n",
        "movies_local_path = run.download_artifact('movies_metadata.csv')\n",
        "ratings_local_path = run.download_artifact('ratings_small.csv')\n",
        "\n",
        "movie_meta_df = pd.read_csv(movies_local_path)\n",
        "ratings_df = pd.read_csv(ratings_local_path)\n",
        "\n",
        "# only keep movies in ratings dataset\n",
        "movie_meta_df = movie_meta_df[movie_meta_df['id'].isin(ratings_df['movieId'].astype('string'))]\n",
        "\n",
        "ratings_df['movieId'] = ratings_df['movieId'].astype(\"category\")\n",
        "ratings_df['userId'] = ratings_df['userId'].astype(\"category\")\n",
        "r = coo_matrix((ratings_df['rating'], (ratings_df['userId'].cat.codes, ratings_df['movieId'].cat.codes)))\n",
        "\n",
        "user_category_to_code = dict([(category, code) for code, category in enumerate(ratings_df.userId.cat.categories)])\n",
        "movie_category_to_code = dict([(category, code) for code, category in enumerate(ratings_df.movieId.cat.categories)])\n",
        "\n",
        "model_local_path = run.download_artifact('recommendation-model.npz')\n",
        "model = implicit.als.AlternatingLeastSquares(factors=25).load(model_local_path)\n",
        "\n",
        "def search_movie(name):\n",
        "  return (movie_meta_df.loc[movie_meta_df['original_title'].str.contains(name, case=False)][['original_title', 'id']]).to_dict('records')\n",
        "\n",
        "def find_similar_movie(movie_name):\n",
        "  search_result =search_movie(movie_name)\n",
        "  if len(search_result) > 0:\n",
        "    movie_id = search_result[0]['id']\n",
        "    movie_name = search_result[0]['original_title']\n",
        "  else:\n",
        "    return []\n",
        "  movie_cat_code = movie_category_to_code[int(movie_id)]\n",
        "  movie_cat_codes = model.similar_items(movie_cat_code)[0]\n",
        "  ids = [ratings_df['movieId'].cat.categories[i] for i in movie_cat_codes]\n",
        "  return movie_name, list(movie_meta_df.loc[movie_meta_df['id'].isin([str(id) for id in ids])].original_title)\n",
        " \n",
        "def get_movie_names_from_movie_category_codes(movie_cat_codes):\n",
        "  ids = [ratings_df['movieId'].cat.categories[i] for i in movie_cat_codes]\n",
        "  return list(movie_meta_df.loc[movie_meta_df['id'].isin([str(id) for id in ids])].original_title)\n",
        "\n",
        "def get_recommendation_for_user(user_id):\n",
        "  user_cat_code = user_category_to_code[int(user_id)]\n",
        "  movie_cat_codes = model.recommend(user_cat_code, r.tocsr().getrow(user_cat_code))[0]\n",
        "  ids = [ratings_df['movieId'].cat.categories[i] for i in movie_cat_codes]\n",
        "  return list(movie_meta_df.loc[movie_meta_df['id'].isin([str(id) for id in ids])].original_title)\n",
        "\n",
        "def get_similar_movies_for_user(user_id, movie_name):\n",
        "  search_result =search_movie(movie_name)\n",
        "  if len(search_result) > 0:\n",
        "    movie_id = search_result[0]['id']\n",
        "    movie_name = search_result[0]['original_title']\n",
        "  else:\n",
        "    return []\n",
        "  movie_cat_code = movie_category_to_code[int(movie_id)]\n",
        "  user_cat_code = user_category_to_code[int(user_id)]\n",
        "  movie_cat_codes = model.rank_items(user_cat_code, r.tocsr().getrow(user_cat_code), model.similar_items(movie_cat_code)[0])[0]\n",
        "  ids = [ratings_df['movieId'].cat.categories[i] for i in movie_cat_codes]\n",
        "  return list(movie_meta_df.loc[movie_meta_df['id'].isin([str(id) for id in ids])].original_title)"
      ]
    },
    {
      "cell_type": "code",
      "execution_count": 85,
      "metadata": {
        "id": "7yJkZd7YQuQ8"
      },
      "outputs": [],
      "source": [
        "reqs = sfy.gather_requirements(\"predict.py\")"
      ]
    },
    {
      "cell_type": "code",
      "execution_count": 86,
      "metadata": {
        "colab": {
          "base_uri": "https://localhost:8080/"
        },
        "id": "7MEAR6C2Q7LX",
        "outputId": "c9567c51-9952-4bb9-8ac5-f31eaea2c490"
      },
      "outputs": [
        {
          "name": "stdout",
          "output_type": "stream",
          "text": [
            "Creating directory /content/.servicefoundry/auto-service\n",
            "Created definition file /content/.servicefoundry/auto-service/servicefoundry.yaml\n",
            "Created file /content/.servicefoundry/auto-service/main.py\n",
            "Created file /content/.servicefoundry/auto-service/requirements.txt\n",
            "Created file /content/.servicefoundry/auto-service/Procfile\n",
            "Ignoring .servicefoundry\n"
          ]
        }
      ],
      "source": [
        "auto_service = sfy.Service(\"predict.py\", reqs, sfy.Parameters(\n",
        "    name=\"auto-service\",\n",
        "    workspace=\"v1:local:my-ws\"\n",
        "))\n",
        "auto_service.deploy()"
      ]
    },
    {
      "cell_type": "markdown",
      "metadata": {
        "id": "wx_d6vuqpMYZ"
      },
      "source": [
        "# APIs generated\n",
        "![](https://github.com/srihari-tf/recommender-system-tfy/raw/master/assets/apis.png)\n",
        "\n",
        "# Fetching similar movies\n",
        "![](https://github.com/srihari-tf/recommender-system-tfy/raw/master/assets/get_reco.png)"
      ]
    }
  ],
  "metadata": {
    "colab": {
      "collapsed_sections": [],
      "name": "Copy of movie-recommendation-dataset.ipynb",
      "provenance": []
    },
    "kernelspec": {
      "display_name": "Python 3.9.13 64-bit",
      "language": "python",
      "name": "python3"
    },
    "language_info": {
      "name": "python",
      "version": "3.9.13"
    },
    "vscode": {
      "interpreter": {
        "hash": "b0fa6594d8f4cbf19f97940f81e996739fb7646882a419484c72d19e05852a7e"
      }
    },
    "widgets": {
      "application/vnd.jupyter.widget-state+json": {
        "0ad40fe61bd54b9c8be8208c1b00f578": {
          "model_module": "@jupyter-widgets/controls",
          "model_module_version": "1.5.0",
          "model_name": "DescriptionStyleModel",
          "state": {
            "_model_module": "@jupyter-widgets/controls",
            "_model_module_version": "1.5.0",
            "_model_name": "DescriptionStyleModel",
            "_view_count": null,
            "_view_module": "@jupyter-widgets/base",
            "_view_module_version": "1.2.0",
            "_view_name": "StyleView",
            "description_width": ""
          }
        },
        "37bbd5bce2614708a4bfcca4af376b92": {
          "model_module": "@jupyter-widgets/base",
          "model_module_version": "1.2.0",
          "model_name": "LayoutModel",
          "state": {
            "_model_module": "@jupyter-widgets/base",
            "_model_module_version": "1.2.0",
            "_model_name": "LayoutModel",
            "_view_count": null,
            "_view_module": "@jupyter-widgets/base",
            "_view_module_version": "1.2.0",
            "_view_name": "LayoutView",
            "align_content": null,
            "align_items": null,
            "align_self": null,
            "border": null,
            "bottom": null,
            "display": null,
            "flex": null,
            "flex_flow": null,
            "grid_area": null,
            "grid_auto_columns": null,
            "grid_auto_flow": null,
            "grid_auto_rows": null,
            "grid_column": null,
            "grid_gap": null,
            "grid_row": null,
            "grid_template_areas": null,
            "grid_template_columns": null,
            "grid_template_rows": null,
            "height": null,
            "justify_content": null,
            "justify_items": null,
            "left": null,
            "margin": null,
            "max_height": null,
            "max_width": null,
            "min_height": null,
            "min_width": null,
            "object_fit": null,
            "object_position": null,
            "order": null,
            "overflow": null,
            "overflow_x": null,
            "overflow_y": null,
            "padding": null,
            "right": null,
            "top": null,
            "visibility": null,
            "width": null
          }
        },
        "3bb906b45640460eb466dfbdfd6c1e19": {
          "model_module": "@jupyter-widgets/controls",
          "model_module_version": "1.5.0",
          "model_name": "HTMLModel",
          "state": {
            "_dom_classes": [],
            "_model_module": "@jupyter-widgets/controls",
            "_model_module_version": "1.5.0",
            "_model_name": "HTMLModel",
            "_view_count": null,
            "_view_module": "@jupyter-widgets/controls",
            "_view_module_version": "1.5.0",
            "_view_name": "HTMLView",
            "description": "",
            "description_tooltip": null,
            "layout": "IPY_MODEL_37bbd5bce2614708a4bfcca4af376b92",
            "placeholder": "​",
            "style": "IPY_MODEL_0ad40fe61bd54b9c8be8208c1b00f578",
            "value": " 15/15 [00:14&lt;00:00,  1.03it/s]"
          }
        },
        "3f9e8e2953fc4a608b4eb3f2c6fc52b6": {
          "model_module": "@jupyter-widgets/base",
          "model_module_version": "1.2.0",
          "model_name": "LayoutModel",
          "state": {
            "_model_module": "@jupyter-widgets/base",
            "_model_module_version": "1.2.0",
            "_model_name": "LayoutModel",
            "_view_count": null,
            "_view_module": "@jupyter-widgets/base",
            "_view_module_version": "1.2.0",
            "_view_name": "LayoutView",
            "align_content": null,
            "align_items": null,
            "align_self": null,
            "border": null,
            "bottom": null,
            "display": null,
            "flex": null,
            "flex_flow": null,
            "grid_area": null,
            "grid_auto_columns": null,
            "grid_auto_flow": null,
            "grid_auto_rows": null,
            "grid_column": null,
            "grid_gap": null,
            "grid_row": null,
            "grid_template_areas": null,
            "grid_template_columns": null,
            "grid_template_rows": null,
            "height": null,
            "justify_content": null,
            "justify_items": null,
            "left": null,
            "margin": null,
            "max_height": null,
            "max_width": null,
            "min_height": null,
            "min_width": null,
            "object_fit": null,
            "object_position": null,
            "order": null,
            "overflow": null,
            "overflow_x": null,
            "overflow_y": null,
            "padding": null,
            "right": null,
            "top": null,
            "visibility": null,
            "width": null
          }
        },
        "469b7b6d0e3e432c94f8dcc4167af841": {
          "model_module": "@jupyter-widgets/controls",
          "model_module_version": "1.5.0",
          "model_name": "HBoxModel",
          "state": {
            "_dom_classes": [],
            "_model_module": "@jupyter-widgets/controls",
            "_model_module_version": "1.5.0",
            "_model_name": "HBoxModel",
            "_view_count": null,
            "_view_module": "@jupyter-widgets/controls",
            "_view_module_version": "1.5.0",
            "_view_name": "HBoxView",
            "box_style": "",
            "children": [
              "IPY_MODEL_de1de3d64f944fd6b2b9fb6efd486352",
              "IPY_MODEL_7891c57a2e2b496597b4c49ce6f7033b",
              "IPY_MODEL_3bb906b45640460eb466dfbdfd6c1e19"
            ],
            "layout": "IPY_MODEL_3f9e8e2953fc4a608b4eb3f2c6fc52b6"
          }
        },
        "653d65867b554b00ab680aadcf4e5596": {
          "model_module": "@jupyter-widgets/controls",
          "model_module_version": "1.5.0",
          "model_name": "ProgressStyleModel",
          "state": {
            "_model_module": "@jupyter-widgets/controls",
            "_model_module_version": "1.5.0",
            "_model_name": "ProgressStyleModel",
            "_view_count": null,
            "_view_module": "@jupyter-widgets/base",
            "_view_module_version": "1.2.0",
            "_view_name": "StyleView",
            "bar_color": null,
            "description_width": ""
          }
        },
        "7891c57a2e2b496597b4c49ce6f7033b": {
          "model_module": "@jupyter-widgets/controls",
          "model_module_version": "1.5.0",
          "model_name": "FloatProgressModel",
          "state": {
            "_dom_classes": [],
            "_model_module": "@jupyter-widgets/controls",
            "_model_module_version": "1.5.0",
            "_model_name": "FloatProgressModel",
            "_view_count": null,
            "_view_module": "@jupyter-widgets/controls",
            "_view_module_version": "1.5.0",
            "_view_name": "ProgressView",
            "bar_style": "success",
            "description": "",
            "description_tooltip": null,
            "layout": "IPY_MODEL_e74089511fb14c38b8da222b05616b39",
            "max": 15,
            "min": 0,
            "orientation": "horizontal",
            "style": "IPY_MODEL_653d65867b554b00ab680aadcf4e5596",
            "value": 15
          }
        },
        "c452bb9fe3bd4d6b856179f6f1bb117b": {
          "model_module": "@jupyter-widgets/base",
          "model_module_version": "1.2.0",
          "model_name": "LayoutModel",
          "state": {
            "_model_module": "@jupyter-widgets/base",
            "_model_module_version": "1.2.0",
            "_model_name": "LayoutModel",
            "_view_count": null,
            "_view_module": "@jupyter-widgets/base",
            "_view_module_version": "1.2.0",
            "_view_name": "LayoutView",
            "align_content": null,
            "align_items": null,
            "align_self": null,
            "border": null,
            "bottom": null,
            "display": null,
            "flex": null,
            "flex_flow": null,
            "grid_area": null,
            "grid_auto_columns": null,
            "grid_auto_flow": null,
            "grid_auto_rows": null,
            "grid_column": null,
            "grid_gap": null,
            "grid_row": null,
            "grid_template_areas": null,
            "grid_template_columns": null,
            "grid_template_rows": null,
            "height": null,
            "justify_content": null,
            "justify_items": null,
            "left": null,
            "margin": null,
            "max_height": null,
            "max_width": null,
            "min_height": null,
            "min_width": null,
            "object_fit": null,
            "object_position": null,
            "order": null,
            "overflow": null,
            "overflow_x": null,
            "overflow_y": null,
            "padding": null,
            "right": null,
            "top": null,
            "visibility": null,
            "width": null
          }
        },
        "d31b9fe625f74bd38a6a97d731c51024": {
          "model_module": "@jupyter-widgets/controls",
          "model_module_version": "1.5.0",
          "model_name": "DescriptionStyleModel",
          "state": {
            "_model_module": "@jupyter-widgets/controls",
            "_model_module_version": "1.5.0",
            "_model_name": "DescriptionStyleModel",
            "_view_count": null,
            "_view_module": "@jupyter-widgets/base",
            "_view_module_version": "1.2.0",
            "_view_name": "StyleView",
            "description_width": ""
          }
        },
        "de1de3d64f944fd6b2b9fb6efd486352": {
          "model_module": "@jupyter-widgets/controls",
          "model_module_version": "1.5.0",
          "model_name": "HTMLModel",
          "state": {
            "_dom_classes": [],
            "_model_module": "@jupyter-widgets/controls",
            "_model_module_version": "1.5.0",
            "_model_name": "HTMLModel",
            "_view_count": null,
            "_view_module": "@jupyter-widgets/controls",
            "_view_module_version": "1.5.0",
            "_view_name": "HTMLView",
            "description": "",
            "description_tooltip": null,
            "layout": "IPY_MODEL_c452bb9fe3bd4d6b856179f6f1bb117b",
            "placeholder": "​",
            "style": "IPY_MODEL_d31b9fe625f74bd38a6a97d731c51024",
            "value": "100%"
          }
        },
        "e74089511fb14c38b8da222b05616b39": {
          "model_module": "@jupyter-widgets/base",
          "model_module_version": "1.2.0",
          "model_name": "LayoutModel",
          "state": {
            "_model_module": "@jupyter-widgets/base",
            "_model_module_version": "1.2.0",
            "_model_name": "LayoutModel",
            "_view_count": null,
            "_view_module": "@jupyter-widgets/base",
            "_view_module_version": "1.2.0",
            "_view_name": "LayoutView",
            "align_content": null,
            "align_items": null,
            "align_self": null,
            "border": null,
            "bottom": null,
            "display": null,
            "flex": null,
            "flex_flow": null,
            "grid_area": null,
            "grid_auto_columns": null,
            "grid_auto_flow": null,
            "grid_auto_rows": null,
            "grid_column": null,
            "grid_gap": null,
            "grid_row": null,
            "grid_template_areas": null,
            "grid_template_columns": null,
            "grid_template_rows": null,
            "height": null,
            "justify_content": null,
            "justify_items": null,
            "left": null,
            "margin": null,
            "max_height": null,
            "max_width": null,
            "min_height": null,
            "min_width": null,
            "object_fit": null,
            "object_position": null,
            "order": null,
            "overflow": null,
            "overflow_x": null,
            "overflow_y": null,
            "padding": null,
            "right": null,
            "top": null,
            "visibility": null,
            "width": null
          }
        }
      }
    }
  },
  "nbformat": 4,
  "nbformat_minor": 0
}
